{
 "cells": [
  {
   "cell_type": "markdown",
   "id": "7e525cd7",
   "metadata": {
    "toc": true
   },
   "source": [
    "<h1>Table of Contents<span class=\"tocSkip\"></span></h1>\n",
    "<div class=\"toc\"><ul class=\"toc-item\"><li><span><a href=\"#Предобработка-данных\" data-toc-modified-id=\"Предобработка-данных-1\"><span class=\"toc-item-num\">1&nbsp;&nbsp;</span>Предобработка данных</a></span><ul class=\"toc-item\"><li><span><a href=\"#Загрузите-данные\" data-toc-modified-id=\"Загрузите-данные-1.1\"><span class=\"toc-item-num\">1.1&nbsp;&nbsp;</span>Загрузите данные</a></span><ul class=\"toc-item\"><li><span><a href=\"#Загрузка-библиотек\" data-toc-modified-id=\"Загрузка-библиотек-1.1.1\"><span class=\"toc-item-num\">1.1.1&nbsp;&nbsp;</span>Загрузка библиотек</a></span></li><li><span><a href=\"#Загрузка-данных\" data-toc-modified-id=\"Загрузка-данных-1.1.2\"><span class=\"toc-item-num\">1.1.2&nbsp;&nbsp;</span>Загрузка данных</a></span></li><li><span><a href=\"#Изучение-общей-информации\" data-toc-modified-id=\"Изучение-общей-информации-1.1.3\"><span class=\"toc-item-num\">1.1.3&nbsp;&nbsp;</span>Изучение общей информации</a></span></li><li><span><a href=\"#Корректировка-типов-данных\" data-toc-modified-id=\"Корректировка-типов-данных-1.1.4\"><span class=\"toc-item-num\">1.1.4&nbsp;&nbsp;</span>Корректировка типов данных</a></span></li><li><span><a href=\"#Исследование-дубликатов\" data-toc-modified-id=\"Исследование-дубликатов-1.1.5\"><span class=\"toc-item-num\">1.1.5&nbsp;&nbsp;</span>Исследование дубликатов</a></span></li><li><span><a href=\"#Расчёт-чека-и-выявление-выбросов\" data-toc-modified-id=\"Расчёт-чека-и-выявление-выбросов-1.1.6\"><span class=\"toc-item-num\">1.1.6&nbsp;&nbsp;</span>Расчёт чека и выявление выбросов</a></span></li></ul></li></ul></li><li><span><a href=\"#Исследовательский-анализ-данных\" data-toc-modified-id=\"Исследовательский-анализ-данных-2\"><span class=\"toc-item-num\">2&nbsp;&nbsp;</span>Исследовательский анализ данных</a></span><ul class=\"toc-item\"><li><span><a href=\"#Категоризация-товаров\" data-toc-modified-id=\"Категоризация-товаров-2.1\"><span class=\"toc-item-num\">2.1&nbsp;&nbsp;</span>Категоризация товаров</a></span></li><li><span><a href=\"#Рассчитайте-количество-проданных-товаров-и-выручку-по-категориям\" data-toc-modified-id=\"Рассчитайте-количество-проданных-товаров-и-выручку-по-категориям-2.2\"><span class=\"toc-item-num\">2.2&nbsp;&nbsp;</span>Рассчитайте количество проданных товаров и выручку по категориям</a></span></li><li><span><a href=\"#Выделение-основных-показателей-интернет-магазина-(динамика-выручки,-средний-чек-и-его-динамика,-помесячная-динамика-средней-выручки-с-покупателя)-и-построение-графиков-на-основе-полученных-данных\" data-toc-modified-id=\"Выделение-основных-показателей-интернет-магазина-(динамика-выручки,-средний-чек-и-его-динамика,-помесячная-динамика-средней-выручки-с-покупателя)-и-построение-графиков-на-основе-полученных-данных-2.3\"><span class=\"toc-item-num\">2.3&nbsp;&nbsp;</span>Выделение основных показателей интернет-магазина (динамика выручки, средний чек и его динамика, помесячная динамика средней выручки с покупателя) и построение графиков на основе полученных данных</a></span><ul class=\"toc-item\"><li><span><a href=\"#Исследование-динамики-выручки-интеренет-магазина-по-месяцам-и-построение-графика\" data-toc-modified-id=\"Исследование-динамики-выручки-интеренет-магазина-по-месяцам-и-построение-графика-2.3.1\"><span class=\"toc-item-num\">2.3.1&nbsp;&nbsp;</span>Исследование динамики выручки интеренет магазина по месяцам и построение графика</a></span></li><li><span><a href=\"#Cредний-чек-и-его-динамика\" data-toc-modified-id=\"Cредний-чек-и-его-динамика-2.3.2\"><span class=\"toc-item-num\">2.3.2&nbsp;&nbsp;</span>Cредний чек и его динамика</a></span></li><li><span><a href=\"#Помесячная-динамика-средней-выручки-с-покупателя\" data-toc-modified-id=\"Помесячная-динамика-средней-выручки-с-покупателя-2.3.3\"><span class=\"toc-item-num\">2.3.3&nbsp;&nbsp;</span>Помесячная динамика средней выручки с покупателя</a></span></li></ul></li><li><span><a href=\"#Сегментирование-покупателей-на-основе-истории-их-покупок-(сегментация-покупателей,-анализ-сегментов-(количество-покупателей,-средний-чек,-основные-продукты-и-категории),-анализ-категорий-товаров(помесячно)-и-их-сезонность-по-выделенным-сегментам-покупателей)-и-построение-графиков-для-каждого-сегмента-по-продажам-категорий-товаров.\" data-toc-modified-id=\"Сегментирование-покупателей-на-основе-истории-их-покупок-(сегментация-покупателей,-анализ-сегментов-(количество-покупателей,-средний-чек,-основные-продукты-и-категории),-анализ-категорий-товаров(помесячно)-и-их-сезонность-по-выделенным-сегментам-покупателей)-и-построение-графиков-для-каждого-сегмента-по-продажам-категорий-товаров.-2.4\"><span class=\"toc-item-num\">2.4&nbsp;&nbsp;</span>Сегментирование покупателей на основе истории их покупок (сегментация покупателей, анализ сегментов (количество покупателей, средний чек, основные продукты и категории), анализ категорий товаров(помесячно) и их сезонность по выделенным сегментам покупателей) и построение графиков для каждого сегмента по продажам категорий товаров.</a></span><ul class=\"toc-item\"><li><span><a href=\"#Сегментация-покупателей-с-помощью-RFM-анализа\" data-toc-modified-id=\"Сегментация-покупателей-с-помощью-RFM-анализа-2.4.1\"><span class=\"toc-item-num\">2.4.1&nbsp;&nbsp;</span>Сегментация покупателей с помощью RFM-анализа</a></span></li><li><span><a href=\"#Анализ-количества-покупателей-по-сегментам\" data-toc-modified-id=\"Анализ-количества-покупателей-по-сегментам-2.4.2\"><span class=\"toc-item-num\">2.4.2&nbsp;&nbsp;</span>Анализ количества покупателей по сегментам</a></span></li><li><span><a href=\"#Анализ-среднего-чека-по-сегментам\" data-toc-modified-id=\"Анализ-среднего-чека-по-сегментам-2.4.3\"><span class=\"toc-item-num\">2.4.3&nbsp;&nbsp;</span>Анализ среднего чека по сегментам</a></span></li><li><span><a href=\"#Анализ-основных-продуктов-и-категорий-по-сегментам\" data-toc-modified-id=\"Анализ-основных-продуктов-и-категорий-по-сегментам-2.4.4\"><span class=\"toc-item-num\">2.4.4&nbsp;&nbsp;</span>Анализ основных продуктов и категорий по сегментам</a></span></li><li><span><a href=\"#Анализ-категорий-товаров(помесячно)-и-их-сезонность-по-выделенным-сегментам-покупателей\" data-toc-modified-id=\"Анализ-категорий-товаров(помесячно)-и-их-сезонность-по-выделенным-сегментам-покупателей-2.4.5\"><span class=\"toc-item-num\">2.4.5&nbsp;&nbsp;</span>Анализ категорий товаров(помесячно) и их сезонность по выделенным сегментам покупателей</a></span></li></ul></li></ul></li><li><span><a href=\"#Проверка-гипотез\" data-toc-modified-id=\"Проверка-гипотез-3\"><span class=\"toc-item-num\">3&nbsp;&nbsp;</span>Проверка гипотез</a></span><ul class=\"toc-item\"><li><span><a href=\"#Проверка-гипотезы-1:\" data-toc-modified-id=\"Проверка-гипотезы-1:-3.1\"><span class=\"toc-item-num\">3.1&nbsp;&nbsp;</span>Проверка гипотезы 1:</a></span></li><li><span><a href=\"#Проверка-гипотезы-2:\" data-toc-modified-id=\"Проверка-гипотезы-2:-3.2\"><span class=\"toc-item-num\">3.2&nbsp;&nbsp;</span>Проверка гипотезы 2:</a></span></li></ul></li></ul></div>"
   ]
  },
  {
   "cell_type": "markdown",
   "id": "3dc3afa5",
   "metadata": {},
   "source": [
    "# E-commerce — выявление профилей потребления"
   ]
  },
  {
   "cell_type": "markdown",
   "id": "aebc79cc",
   "metadata": {},
   "source": [
    "# Задача: \n",
    "Сегментировать покупателей по профилю потребления.\n",
    " Проведите исследовательский анализ данных\n",
    " Сегментируйте покупателей на основе истории их покупок\n",
    " Не бойтесь выдвигать собственные варианты сегментации покупателей. \n",
    "Задумайтесь о том как сегментация может помочь в разработке более \n",
    "персонализированных предложений для покупателей?\n",
    " Попробуйте сформировать сегменты на основе того, что покупают \n",
    "пользователи. Для этого вы можете проанализировать их покупки и \n",
    "сегментировать товары на основе принадлежности к той или иной товарной \n",
    "категории.\n",
    " Сформулируйте и проверьте статистические гипотезы\n",
    " (задачи выше сформулированы предварительно, окончательная постановка \n",
    "задачи произойдёт на вводной встрече).\n",
    "\n",
    "\n",
    "# Описание данных:\n",
    " E-commerce — Выявление профилей потребления\n",
    " Датасет описывает транзакции интернет-магазина товаров для дома и быта.\n",
    " Колонки в \n",
    "/datasets/ecom_dataset_upd.csv :\n",
    " - date — дата заказа;\n",
    " - customer_id — идентификатор покупателя;\n",
    " - order_id — идентификатор заказа;\n",
    " - product — наименование товара;\n",
    " - quantity — количество товара в заказе;\n",
    " - price — цена товара.\n",
    " \n",
    " По итогам исследования подготовьте презентацию. Для создания презентации \n",
    "используйте любой удобный инструмент, но отправить презентацию \n",
    "нужно обязательно в формате pdf, прикрепив ссылку на файл в основном \n",
    "проекте.\n",
    "\n",
    "\n",
    "# Цели исследования\n",
    "- Подготовить чёткие рекомендации по маркетинг (Исходя из анализа сегментов покупателей, разработать рекомендации о том, каким клиентам и когда следует рассылать рекламные предложения о каких категориях товаров.),\n",
    "-  Сформулировать стратегию увеличения продаж (Разработать стратегию по увеличению количества продаваемого товара для каждого сегмента.),\n",
    "- Сформулировать стратегию повышения лояльности (Предложить способы повышения возвращаемости покупателей для различных сегментов.).\n",
    "\n",
    "\n",
    "# Предобработка данных\n",
    "- Открыть файл с данными и изучить общую информацию,\n",
    "- Исследовать соответствие типов,\n",
    "- Исследовать дубликаты,\n",
    "- Исследовать выбросу по чеку покупки(цена, количество товаров),\n",
    "- Удалить дубликаты,\n",
    "- Привести типы.\n",
    "\n",
    "\n",
    "# Исследовательский анализ данных\n",
    "- Категоризация товаров,\n",
    "- Рассчитать стоимость заказов для анализа повередния покупателей,\n",
    "- Выделение основных показателей интернет-магазина (динамика выручки, средний чек и его динамика, помесячная динамика средней выручки с покупателя) и построение графиков на основе полученных данных,\n",
    "- Сегментирование покупателей на основе истории их покупок (сегментация покупателей, анализ сегментов (количество покупателей, средний чек, основные продукты и категории), анализ категорий товаров(помесячно) и их сезонность по выделенным сегментам покупателей) и построение графиков для каждого сегмента по продажам категорий товаров.\n",
    "\n",
    "# Проверка гипотез\n",
    "- Гипотеза 1:\n",
    "H0 - Статистически значимых различий в среднем чеке между сегментами нет.\n",
    "H1 - Статистически значимых различий в среднем чеке между сегментами есть.\n",
    "- Гипотеза 2:\n",
    "H0 - Статистически значимых различий в средней выручке между сегментами нет.\n",
    "H1 - Статистически значимых различий в среднем выручке между сегментами есть.\n",
    "\n",
    "- Формулировка гипотезы 1 Но и Н1,\n",
    "- Формулировка гипотезы 2 Но и Н1.\n",
    "\n",
    "- Как влияет количество товаров в чеке на средний чек\n",
    "- Найти среднее количество товаров в заказе каждого покупателя\n",
    "- Посчитать количество заказов для каждого покупателя"
   ]
  },
  {
   "cell_type": "markdown",
   "id": "988709cc",
   "metadata": {},
   "source": [
    "## Предобработка данных\n",
    "### Загрузите данные\n",
    "#### Загрузка библиотек"
   ]
  },
  {
   "cell_type": "code",
   "execution_count": 1,
   "id": "4ee0d091",
   "metadata": {},
   "outputs": [],
   "source": [
    "import pandas as pd\n",
    "from matplotlib import pyplot as plt\n",
    "from datetime import datetime\n",
    "import plotly.express as px\n",
    "from scipy import stats\n",
    "import numpy as np\n",
    "from dateutil.relativedelta import relativedelta "
   ]
  },
  {
   "cell_type": "markdown",
   "id": "052ac50d",
   "metadata": {},
   "source": []
  },
  {
   "cell_type": "markdown",
   "id": "4662816c",
   "metadata": {},
   "source": [
    "#### Загрузка данных"
   ]
  },
  {
   "cell_type": "code",
   "execution_count": 2,
   "id": "e5858ba9",
   "metadata": {},
   "outputs": [],
   "source": [
    "try:\n",
    "    ecom = pd.read_csv(\"https://code.s3.yandex.net/datasets/ecom_dataset_upd.csv\")\n",
    "except:\n",
    "     ecom = pd.read_csv(\"/datasets/ecom_dataset_upd.csv\")"
   ]
  },
  {
   "cell_type": "markdown",
   "id": "871b3ff0",
   "metadata": {},
   "source": [
    "# Промежуточный вывод 1.1.2: \n",
    "Данные загружены"
   ]
  },
  {
   "cell_type": "markdown",
   "id": "241c13ca",
   "metadata": {},
   "source": [
    "#### Изучение общей информации"
   ]
  },
  {
   "cell_type": "code",
   "execution_count": 3,
   "id": "630ea22b",
   "metadata": {},
   "outputs": [
    {
     "name": "stdout",
     "output_type": "stream",
     "text": [
      "<class 'pandas.core.frame.DataFrame'>\n",
      "RangeIndex: 7474 entries, 0 to 7473\n",
      "Data columns (total 6 columns):\n",
      " #   Column       Non-Null Count  Dtype  \n",
      "---  ------       --------------  -----  \n",
      " 0   date         7474 non-null   int64  \n",
      " 1   customer_id  7474 non-null   object \n",
      " 2   order_id     7474 non-null   int64  \n",
      " 3   product      7474 non-null   object \n",
      " 4   quantity     7474 non-null   int64  \n",
      " 5   price        7474 non-null   float64\n",
      "dtypes: float64(1), int64(3), object(2)\n",
      "memory usage: 350.5+ KB\n"
     ]
    }
   ],
   "source": [
    "ecom.info()"
   ]
  },
  {
   "cell_type": "code",
   "execution_count": 4,
   "id": "b8fcc899",
   "metadata": {},
   "outputs": [
    {
     "data": {
      "text/html": [
       "<div>\n",
       "<style scoped>\n",
       "    .dataframe tbody tr th:only-of-type {\n",
       "        vertical-align: middle;\n",
       "    }\n",
       "\n",
       "    .dataframe tbody tr th {\n",
       "        vertical-align: top;\n",
       "    }\n",
       "\n",
       "    .dataframe thead th {\n",
       "        text-align: right;\n",
       "    }\n",
       "</style>\n",
       "<table border=\"1\" class=\"dataframe\">\n",
       "  <thead>\n",
       "    <tr style=\"text-align: right;\">\n",
       "      <th></th>\n",
       "      <th>date</th>\n",
       "      <th>order_id</th>\n",
       "      <th>quantity</th>\n",
       "      <th>price</th>\n",
       "    </tr>\n",
       "  </thead>\n",
       "  <tbody>\n",
       "    <tr>\n",
       "      <th>count</th>\n",
       "      <td>7.474000e+03</td>\n",
       "      <td>7474.000000</td>\n",
       "      <td>7474.000000</td>\n",
       "      <td>7474.000000</td>\n",
       "    </tr>\n",
       "    <tr>\n",
       "      <th>mean</th>\n",
       "      <td>2.018913e+09</td>\n",
       "      <td>49449.884265</td>\n",
       "      <td>2.362858</td>\n",
       "      <td>478.737501</td>\n",
       "    </tr>\n",
       "    <tr>\n",
       "      <th>std</th>\n",
       "      <td>4.278878e+05</td>\n",
       "      <td>32679.642404</td>\n",
       "      <td>14.500497</td>\n",
       "      <td>901.615895</td>\n",
       "    </tr>\n",
       "    <tr>\n",
       "      <th>min</th>\n",
       "      <td>2.018100e+09</td>\n",
       "      <td>12624.000000</td>\n",
       "      <td>1.000000</td>\n",
       "      <td>9.000000</td>\n",
       "    </tr>\n",
       "    <tr>\n",
       "      <th>25%</th>\n",
       "      <td>2.019022e+09</td>\n",
       "      <td>14833.000000</td>\n",
       "      <td>1.000000</td>\n",
       "      <td>97.000000</td>\n",
       "    </tr>\n",
       "    <tr>\n",
       "      <th>50%</th>\n",
       "      <td>2.019051e+09</td>\n",
       "      <td>68768.000000</td>\n",
       "      <td>1.000000</td>\n",
       "      <td>135.000000</td>\n",
       "    </tr>\n",
       "    <tr>\n",
       "      <th>75%</th>\n",
       "      <td>2.019063e+09</td>\n",
       "      <td>71257.750000</td>\n",
       "      <td>1.000000</td>\n",
       "      <td>439.000000</td>\n",
       "    </tr>\n",
       "    <tr>\n",
       "      <th>max</th>\n",
       "      <td>2.020013e+09</td>\n",
       "      <td>112789.000000</td>\n",
       "      <td>1000.000000</td>\n",
       "      <td>14917.000000</td>\n",
       "    </tr>\n",
       "  </tbody>\n",
       "</table>\n",
       "</div>"
      ],
      "text/plain": [
       "               date       order_id     quantity         price\n",
       "count  7.474000e+03    7474.000000  7474.000000   7474.000000\n",
       "mean   2.018913e+09   49449.884265     2.362858    478.737501\n",
       "std    4.278878e+05   32679.642404    14.500497    901.615895\n",
       "min    2.018100e+09   12624.000000     1.000000      9.000000\n",
       "25%    2.019022e+09   14833.000000     1.000000     97.000000\n",
       "50%    2.019051e+09   68768.000000     1.000000    135.000000\n",
       "75%    2.019063e+09   71257.750000     1.000000    439.000000\n",
       "max    2.020013e+09  112789.000000  1000.000000  14917.000000"
      ]
     },
     "execution_count": 4,
     "metadata": {},
     "output_type": "execute_result"
    }
   ],
   "source": [
    "ecom.describe()"
   ]
  },
  {
   "cell_type": "code",
   "execution_count": 5,
   "id": "2ec9a3e8",
   "metadata": {},
   "outputs": [
    {
     "data": {
      "text/plain": [
       "date           3126\n",
       "customer_id    2451\n",
       "order_id       3521\n",
       "product        2343\n",
       "quantity         49\n",
       "price           407\n",
       "dtype: int64"
      ]
     },
     "execution_count": 5,
     "metadata": {},
     "output_type": "execute_result"
    }
   ],
   "source": [
    "ecom.nunique()"
   ]
  },
  {
   "cell_type": "code",
   "execution_count": 6,
   "id": "c7311fc9",
   "metadata": {},
   "outputs": [
    {
     "name": "stdout",
     "output_type": "stream",
     "text": [
      "Уникальное количество покупателей: 2451\n"
     ]
    }
   ],
   "source": [
    "customer_id_unique = ecom['customer_id'].nunique()\n",
    "print('Уникальное количество покупателей:', customer_id_unique)"
   ]
  },
  {
   "cell_type": "code",
   "execution_count": 7,
   "id": "8f669836",
   "metadata": {},
   "outputs": [
    {
     "name": "stdout",
     "output_type": "stream",
     "text": [
      "Количество заказов: 3521\n"
     ]
    }
   ],
   "source": [
    "order_id_count = ecom['order_id'].nunique()\n",
    "print('Количество заказов:', order_id_count)"
   ]
  },
  {
   "cell_type": "code",
   "execution_count": 8,
   "id": "8c51668e",
   "metadata": {},
   "outputs": [
    {
     "name": "stdout",
     "output_type": "stream",
     "text": [
      "Количество товаров: 2343\n"
     ]
    }
   ],
   "source": [
    "product_unique = ecom['product'].nunique()\n",
    "print('Количество товаров:', product_unique)"
   ]
  },
  {
   "cell_type": "markdown",
   "id": "f40cb6f1",
   "metadata": {},
   "source": [
    "# Промежуточный вывод 1.1.3:\n",
    "После изучения общей информации о файлах можно сделать вывод, что предоставленные данные выглядят правдоподобно. В датафрейме нет пропусков. \n",
    "\n",
    "Столбцы датасета хранят в себе следующие типы данных:\n",
    "- date - тип данных int64 (Т.к. данный столбец хранит в себе дату заказа, тип данных не корректный и его необходимо заменить на datetime),\n",
    "- customer_id - тип данных object (Т.к. данный столбец хранит в себе идентификатор покупателя, который состоит из букв и цифр, тип данных корректный),\n",
    "- order_id - тип данных int64 (Т.к. данный столбец хранит в себе идентификатор заказа, который состоит из цифр, тип данных корректный),\n",
    "- product - тип данных object (Т.к. данный столбец хранит в себе наименование товара, тип данных корректный),\n",
    "- quantity - тип данных int64 (Т.к. данный столбец хранит в себе данные о количестве товара в заказе, тип данных корректный),\n",
    "- price  - тип данных float64 (Т.к. данный столбец хранит в себе данные о цене товара, тип данных корректный).\n",
    "\n",
    "В датасете представлены:\n",
    "- 2 451 покупателя,\n",
    "- 3 521 заказ,\n",
    "- 2 343 товара."
   ]
  },
  {
   "cell_type": "markdown",
   "id": "f360157d",
   "metadata": {},
   "source": [
    "#### Корректировка типов данных"
   ]
  },
  {
   "cell_type": "code",
   "execution_count": 9,
   "id": "592f9f0e",
   "metadata": {},
   "outputs": [],
   "source": [
    "ecom['date_time'] = pd.to_datetime(\n",
    "    ecom['date'], format='%Y%m%d%H'\n",
    ")"
   ]
  },
  {
   "cell_type": "code",
   "execution_count": 10,
   "id": "48ff21c3",
   "metadata": {},
   "outputs": [
    {
     "name": "stdout",
     "output_type": "stream",
     "text": [
      "<class 'pandas.core.frame.DataFrame'>\n",
      "RangeIndex: 7474 entries, 0 to 7473\n",
      "Data columns (total 7 columns):\n",
      " #   Column       Non-Null Count  Dtype         \n",
      "---  ------       --------------  -----         \n",
      " 0   date         7474 non-null   int64         \n",
      " 1   customer_id  7474 non-null   object        \n",
      " 2   order_id     7474 non-null   int64         \n",
      " 3   product      7474 non-null   object        \n",
      " 4   quantity     7474 non-null   int64         \n",
      " 5   price        7474 non-null   float64       \n",
      " 6   date_time    7474 non-null   datetime64[ns]\n",
      "dtypes: datetime64[ns](1), float64(1), int64(3), object(2)\n",
      "memory usage: 408.9+ KB\n"
     ]
    }
   ],
   "source": [
    "ecom.info()"
   ]
  },
  {
   "cell_type": "code",
   "execution_count": 11,
   "id": "6eb6e276",
   "metadata": {},
   "outputs": [
    {
     "data": {
      "image/png": "[encoded data removed]",
      "text/plain": [
       "<Figure size 640x480 with 1 Axes>"
      ]
     },
     "metadata": {},
     "output_type": "display_data"
    }
   ],
   "source": [
    "ax = ecom['date_time'].hist(bins=50)\n",
    "plt.title('Гистограмма по дате и времени')\n",
    "plt.ylabel(\"Частота\")\n",
    "plt.xlabel(\"Дата\")\n",
    "plt.xticks(rotation=20) #для красоты\n",
    "plt.show()"
   ]
  },
  {
   "cell_type": "markdown",
   "id": "41ba25a7",
   "metadata": {},
   "source": [
    "# Промежуточный вывод 1.1.4:\n",
    "В столбце date скорректировала тип данных с int64 на datetime64[ns].\n",
    "С помощью гистограммы видно, что данные представлены с ноября 2018 года по январь 2020 года."
   ]
  },
  {
   "cell_type": "markdown",
   "id": "21a7439a",
   "metadata": {},
   "source": [
    "#### Исследование дубликатов"
   ]
  },
  {
   "cell_type": "code",
   "execution_count": 12,
   "id": "c4db26ab",
   "metadata": {},
   "outputs": [
    {
     "name": "stdout",
     "output_type": "stream",
     "text": [
      "Количество дубликатов: 0\n"
     ]
    }
   ],
   "source": [
    "number_of_duplicates = ecom.duplicated().sum()\n",
    "print('Количество дубликатов:', number_of_duplicates)"
   ]
  },
  {
   "cell_type": "markdown",
   "id": "bd2a02ee",
   "metadata": {},
   "source": [
    "# Привожу столбцы 'customer_id' и 'product' для удобства при дальнейшем исследовании"
   ]
  },
  {
   "cell_type": "code",
   "execution_count": 13,
   "id": "d5d17428",
   "metadata": {},
   "outputs": [],
   "source": [
    "ecom['customer_id'] = ecom['customer_id'].str.lower()\n",
    "ecom['product'] = ecom['product'].str.lower()"
   ]
  },
  {
   "cell_type": "markdown",
   "id": "4bc986b1",
   "metadata": {},
   "source": [
    "# Просматриваю датасет на наличие неявных дубликатов:\n",
    "- сначала по столбцам 'customer_id', 'order_id', 'product', 'quantity' - выявляю и удаляю, оставляя последнюю запись, т.е. с самой поздней датой,\n",
    "- далее по столбцам 'order_id', 'product' - выявляю и удаляю, оставляя последнюю запись, т.е. с самой поздней датой."
   ]
  },
  {
   "cell_type": "code",
   "execution_count": 14,
   "id": "87e0787e",
   "metadata": {},
   "outputs": [],
   "source": [
    "ecom_1 = ecom[ecom.duplicated(subset=['customer_id', 'order_id', 'product', 'quantity'], keep='first')]"
   ]
  },
  {
   "cell_type": "code",
   "execution_count": 15,
   "id": "bf25ee19",
   "metadata": {},
   "outputs": [],
   "source": [
    "ecom_1 = ecom.drop_duplicates(subset=['customer_id', 'order_id', 'product', 'quantity'], keep='last')"
   ]
  },
  {
   "cell_type": "code",
   "execution_count": 16,
   "id": "ab9d70f5",
   "metadata": {},
   "outputs": [],
   "source": [
    "ecom_2 = ecom_1[ecom_1.duplicated(subset=['order_id', 'product'], keep='first')]"
   ]
  },
  {
   "cell_type": "code",
   "execution_count": 17,
   "id": "639671eb",
   "metadata": {},
   "outputs": [],
   "source": [
    "ecom_2 = ecom_1.drop_duplicates(subset=['order_id', 'product'], keep='last')"
   ]
  },
  {
   "cell_type": "code",
   "execution_count": 18,
   "id": "dfecb0a9",
   "metadata": {
    "scrolled": true
   },
   "outputs": [
    {
     "name": "stderr",
     "output_type": "stream",
     "text": [
      "C:\\Users\\veron\\AppData\\Local\\Temp\\ipykernel_11908\\1182642847.py:1: SettingWithCopyWarning: \n",
      "A value is trying to be set on a copy of a slice from a DataFrame.\n",
      "Try using .loc[row_indexer,col_indexer] = value instead\n",
      "\n",
      "See the caveats in the documentation: https://pandas.pydata.org/pandas-docs/stable/user_guide/indexing.html#returning-a-view-versus-a-copy\n",
      "  ecom_2['order_sum'] = ecom_2['quantity'] * ecom_2['price']\n"
     ]
    }
   ],
   "source": [
    "ecom_2['order_sum'] = ecom_2['quantity'] * ecom_2['price'] "
   ]
  },
  {
   "cell_type": "markdown",
   "id": "d2728472",
   "metadata": {},
   "source": [
    "# Проверяю наличие заказов совершенных более чем одним покупателем и удаляю их."
   ]
  },
  {
   "cell_type": "code",
   "execution_count": 19,
   "id": "1ebd7c26",
   "metadata": {},
   "outputs": [],
   "source": [
    "# заказы, сделанные более чем одним покупателем\n",
    "ecom_2_1 = ecom_2.groupby('order_id')['customer_id'].nunique()\n",
    "customer_more = ecom_2_1[ecom_2_1 > 1].index"
   ]
  },
  {
   "cell_type": "code",
   "execution_count": 20,
   "id": "8feaebea",
   "metadata": {},
   "outputs": [],
   "source": [
    "# удаляю проблемные заказы из датасета\n",
    "ecom_2 = ecom_2[~ecom_2['order_id'].isin(customer_more)]"
   ]
  },
  {
   "cell_type": "code",
   "execution_count": 21,
   "id": "aa7afcfb",
   "metadata": {},
   "outputs": [
    {
     "name": "stdout",
     "output_type": "stream",
     "text": [
      "Осталось строк в датасете: {5552}\n"
     ]
    }
   ],
   "source": [
    "print('Осталось строк в датасете:', {len(ecom_2)})"
   ]
  },
  {
   "cell_type": "code",
   "execution_count": 22,
   "id": "eb6febee",
   "metadata": {},
   "outputs": [
    {
     "name": "stdout",
     "output_type": "stream",
     "text": [
      "Из датасета ecom удалено неявных дубликатов: 1922\n",
      "Доля удалённых неявных дубликатов от первоначального датасета в %: 25.72\n"
     ]
    }
   ],
   "source": [
    "share_of_deleted = ecom['order_id'].count() - ecom_2['order_id'].count()\n",
    "print('Из датасета ecom удалено неявных дубликатов:', share_of_deleted) \n",
    "print('Доля удалённых неявных дубликатов от первоначального датасета в %:', round(share_of_deleted / ecom['order_id'].count() * 100, 2))"
   ]
  },
  {
   "cell_type": "markdown",
   "id": "b7eac2ed",
   "metadata": {},
   "source": [
    "# Промежуточный вывод 1.1.5:\n",
    "\n",
    "С помощью duplicated().sum() выявила, что в датасете полных дубликатов нет.\n",
    "Выявила и удалила неявные дубликаты, оставив последние записи из каждого:\n",
    "- по столбцам 'customer_id', 'order_id', 'product', 'quantity',\n",
    "- по столбцам 'order_id', 'product'.\n",
    "Также проверила датасет на наличие заказов совершенных более чем одним покупателем. Т.к. такие заказы не корректны, такаже удалила их.\n",
    "\n",
    "В итоге:\n",
    "- Из датасета ecom удалила 1 922 неявных дубликатов, что соответствует 25,72 % от первоначального датасета,\n",
    "- Добавила в датасет столбец 'order_sum' для того, чтобы далее считать продажи по заказам и по товарам."
   ]
  },
  {
   "cell_type": "markdown",
   "id": "7175afe8",
   "metadata": {},
   "source": [
    "#### Расчёт чека и выявление выбросов"
   ]
  },
  {
   "cell_type": "code",
   "execution_count": 23,
   "id": "ab15600a",
   "metadata": {},
   "outputs": [
    {
     "name": "stderr",
     "output_type": "stream",
     "text": [
      "C:\\Users\\veron\\AppData\\Local\\Temp\\ipykernel_11908\\632584131.py:1: FutureWarning: Indexing with multiple keys (implicitly converted to a tuple of keys) will be deprecated, use a list instead.\n",
      "  ecom_3 = (ecom_2.groupby(['order_id', 'date_time', 'customer_id'])['order_id', 'date_time', 'customer_id', 'quantity', 'product', 'order_sum']\n"
     ]
    }
   ],
   "source": [
    "ecom_3 = (ecom_2.groupby(['order_id', 'date_time', 'customer_id'])['order_id', 'date_time', 'customer_id', 'quantity', 'product', 'order_sum']\n",
    "                .agg({'quantity': 'sum', 'product': 'count', 'order_sum': 'sum'})\n",
    "                .sort_values(by='quantity', ascending=False))"
   ]
  },
  {
   "cell_type": "code",
   "execution_count": 24,
   "id": "0902ed3c",
   "metadata": {
    "scrolled": true
   },
   "outputs": [],
   "source": [
    "ecom_3 = ecom_3.rename(columns={\"quantity\": \"goods_in_order\", \"order_sum\": \"order_sum\"})\n",
    "ecom_3 = ecom_3.reset_index()"
   ]
  },
  {
   "cell_type": "code",
   "execution_count": 25,
   "id": "3a78e978",
   "metadata": {
    "scrolled": true
   },
   "outputs": [
    {
     "data": {
      "text/plain": [
       "Text(0, 0.5, 'Стоимость заказа')"
      ]
     },
     "execution_count": 25,
     "metadata": {},
     "output_type": "execute_result"
    },
    {
     "data": {
      "image/png": "[encoded data removed]",
      "text/plain": [
       "<Figure size 640x480 with 1 Axes>"
      ]
     },
     "metadata": {},
     "output_type": "display_data"
    }
   ],
   "source": [
    "plt.scatter(ecom_3['goods_in_order'], ecom_3['order_sum'])\n",
    "plt.title('Распределение стоимости заказов от количества товаров')\n",
    "plt.xlabel('Количество товаров в заказе')\n",
    "plt.ylabel('Стоимость заказа')"
   ]
  },
  {
   "cell_type": "markdown",
   "id": "8229cd06",
   "metadata": {},
   "source": [
    "# Вывод: из графика видно, что большинство заказов имеют в своём составе небольшое количество товаров, т.е. заказы с большим количеством товаров можно считать выбросами(аномальными данными) и удалить их датасета."
   ]
  },
  {
   "cell_type": "code",
   "execution_count": 26,
   "id": "0c96c916",
   "metadata": {},
   "outputs": [
    {
     "data": {
      "text/html": [
       "<div>\n",
       "<style scoped>\n",
       "    .dataframe tbody tr th:only-of-type {\n",
       "        vertical-align: middle;\n",
       "    }\n",
       "\n",
       "    .dataframe tbody tr th {\n",
       "        vertical-align: top;\n",
       "    }\n",
       "\n",
       "    .dataframe thead th {\n",
       "        text-align: right;\n",
       "    }\n",
       "</style>\n",
       "<table border=\"1\" class=\"dataframe\">\n",
       "  <thead>\n",
       "    <tr style=\"text-align: right;\">\n",
       "      <th></th>\n",
       "      <th>order_id</th>\n",
       "      <th>goods_in_order</th>\n",
       "      <th>product</th>\n",
       "    </tr>\n",
       "  </thead>\n",
       "  <tbody>\n",
       "    <tr>\n",
       "      <th>0</th>\n",
       "      <td>71743</td>\n",
       "      <td>1000</td>\n",
       "      <td>1</td>\n",
       "    </tr>\n",
       "    <tr>\n",
       "      <th>1</th>\n",
       "      <td>71668</td>\n",
       "      <td>334</td>\n",
       "      <td>1</td>\n",
       "    </tr>\n",
       "    <tr>\n",
       "      <th>2</th>\n",
       "      <td>68611</td>\n",
       "      <td>300</td>\n",
       "      <td>2</td>\n",
       "    </tr>\n",
       "    <tr>\n",
       "      <th>3</th>\n",
       "      <td>71478</td>\n",
       "      <td>300</td>\n",
       "      <td>1</td>\n",
       "    </tr>\n",
       "    <tr>\n",
       "      <th>4</th>\n",
       "      <td>69289</td>\n",
       "      <td>200</td>\n",
       "      <td>1</td>\n",
       "    </tr>\n",
       "  </tbody>\n",
       "</table>\n",
       "</div>"
      ],
      "text/plain": [
       "   order_id  goods_in_order  product\n",
       "0     71743            1000        1\n",
       "1     71668             334        1\n",
       "2     68611             300        2\n",
       "3     71478             300        1\n",
       "4     69289             200        1"
      ]
     },
     "execution_count": 26,
     "metadata": {},
     "output_type": "execute_result"
    }
   ],
   "source": [
    "ecom_3_1 = ecom_3.drop(['date_time', 'customer_id', 'order_sum'], axis=1)\n",
    "                \n",
    "ecom_3_1.head()"
   ]
  },
  {
   "cell_type": "code",
   "execution_count": 27,
   "id": "c9c5957b",
   "metadata": {},
   "outputs": [
    {
     "data": {
      "image/png": "[encoded data removed]",
      "text/plain": [
       "<Figure size 640x480 with 1 Axes>"
      ]
     },
     "metadata": {},
     "output_type": "display_data"
    }
   ],
   "source": [
    "# строю график ящика с усами, где видно распределение количество товаров в заказе \n",
    "plt.boxplot(x=ecom_3_1['goods_in_order'])  \n",
    "plt.title('График ящика с усами')  \n",
    "plt.ylabel('Количество товаров в одном заказе')  \n",
    "plt.show() "
   ]
  },
  {
   "cell_type": "markdown",
   "id": "de6f7d08",
   "metadata": {},
   "source": [
    "# Вывод: график ящика с усами с распределением количества товаров в заказах показывает, что есть аномально большие значения. Например, в 1 заказе не может быть 1 000 товаров. Считаю, что необходимо отсечь заказы по 99му перцентилю."
   ]
  },
  {
   "cell_type": "code",
   "execution_count": 28,
   "id": "8c242696",
   "metadata": {},
   "outputs": [
    {
     "data": {
      "text/plain": [
       "count    3536.000000\n",
       "mean        4.061652\n",
       "std        21.226725\n",
       "min         1.000000\n",
       "25%         1.000000\n",
       "50%         1.000000\n",
       "75%         2.000000\n",
       "max      1000.000000\n",
       "Name: goods_in_order, dtype: float64"
      ]
     },
     "execution_count": 28,
     "metadata": {},
     "output_type": "execute_result"
    }
   ],
   "source": [
    "ecom_3_1['goods_in_order'].describe()"
   ]
  },
  {
   "cell_type": "code",
   "execution_count": 29,
   "id": "a63d34f3",
   "metadata": {},
   "outputs": [
    {
     "name": "stdout",
     "output_type": "stream",
     "text": [
      "99й перцентиль: 44.3\n"
     ]
    }
   ],
   "source": [
    "percentile_99 = round(np.percentile(ecom_3_1['goods_in_order'], 99), 2)\n",
    "print('99й перцентиль:', percentile_99)"
   ]
  },
  {
   "cell_type": "code",
   "execution_count": 30,
   "id": "516f8c64",
   "metadata": {},
   "outputs": [],
   "source": [
    "ecom_3_2 = ecom_3.query('goods_in_order >= @percentile_99')"
   ]
  },
  {
   "cell_type": "code",
   "execution_count": 31,
   "id": "3e38da78",
   "metadata": {},
   "outputs": [
    {
     "name": "stdout",
     "output_type": "stream",
     "text": [
      "<class 'pandas.core.frame.DataFrame'>\n",
      "Int64Index: 36 entries, 0 to 35\n",
      "Data columns (total 6 columns):\n",
      " #   Column          Non-Null Count  Dtype         \n",
      "---  ------          --------------  -----         \n",
      " 0   order_id        36 non-null     int64         \n",
      " 1   date_time       36 non-null     datetime64[ns]\n",
      " 2   customer_id     36 non-null     object        \n",
      " 3   goods_in_order  36 non-null     int64         \n",
      " 4   product         36 non-null     int64         \n",
      " 5   order_sum       36 non-null     float64       \n",
      "dtypes: datetime64[ns](1), float64(1), int64(3), object(1)\n",
      "memory usage: 2.0+ KB\n"
     ]
    }
   ],
   "source": [
    "ecom_3_2.info()"
   ]
  },
  {
   "cell_type": "markdown",
   "id": "974b9618",
   "metadata": {},
   "source": [
    "# Заказов >= 99му перцентилю всего 36 (это 1.02 % от заказов). Удаляю."
   ]
  },
  {
   "cell_type": "code",
   "execution_count": 32,
   "id": "d31506f2",
   "metadata": {},
   "outputs": [],
   "source": [
    "ecom_4 = ecom_3.query('goods_in_order <= @percentile_99')"
   ]
  },
  {
   "cell_type": "code",
   "execution_count": 33,
   "id": "b9e7bcf4",
   "metadata": {},
   "outputs": [
    {
     "data": {
      "text/plain": [
       "count     3500.000000\n",
       "mean      1048.856119\n",
       "std       1669.080604\n",
       "min          9.000000\n",
       "25%        188.000000\n",
       "50%        568.000000\n",
       "75%       1199.000000\n",
       "max      47385.000000\n",
       "Name: order_sum, dtype: float64"
      ]
     },
     "execution_count": 33,
     "metadata": {},
     "output_type": "execute_result"
    }
   ],
   "source": [
    "ecom_4['order_sum'].describe()"
   ]
  },
  {
   "cell_type": "code",
   "execution_count": 34,
   "id": "c0e039cf",
   "metadata": {},
   "outputs": [
    {
     "name": "stdout",
     "output_type": "stream",
     "text": [
      "Средняя сумма заказа: 1048.8561190476191\n"
     ]
    }
   ],
   "source": [
    "mean_order_sum = ecom_4['order_sum'].mean()\n",
    "print('Средняя сумма заказа:', mean_order_sum)"
   ]
  },
  {
   "cell_type": "code",
   "execution_count": 35,
   "id": "8c42f61e",
   "metadata": {},
   "outputs": [
    {
     "name": "stdout",
     "output_type": "stream",
     "text": [
      "Средняя сумма заказа: 47385.0\n"
     ]
    }
   ],
   "source": [
    "max_order_sum = ecom_4['order_sum'].max()\n",
    "print('Средняя сумма заказа:', max_order_sum)"
   ]
  },
  {
   "cell_type": "code",
   "execution_count": 36,
   "id": "92990d77",
   "metadata": {},
   "outputs": [],
   "source": [
    "# из таблицы делаю список\n",
    "list_ecom = ecom_4['order_id'].values.tolist()  "
   ]
  },
  {
   "cell_type": "code",
   "execution_count": 37,
   "id": "c9a01a82",
   "metadata": {},
   "outputs": [],
   "source": [
    "# фильтрую датафрейм по списку\n",
    "ecom_2 = ecom_2[ecom_2['order_id'].isin(list_ecom)]"
   ]
  },
  {
   "cell_type": "code",
   "execution_count": 38,
   "id": "3e7824fc",
   "metadata": {},
   "outputs": [
    {
     "name": "stdout",
     "output_type": "stream",
     "text": [
      "Из датасета ecom_2 удалено выбросов по столбцу goods_in_order: 36\n",
      "Доля удалённых выбросов в %: 1.02\n"
     ]
    }
   ],
   "source": [
    "share_of_deleted_2 = ecom_3['order_id'].count() - ecom_4['order_id'].count()\n",
    "print('Из датасета ecom_2 удалено выбросов по столбцу goods_in_order:', share_of_deleted_2) \n",
    "print('Доля удалённых выбросов в %:', round(share_of_deleted_2 / ecom_3['order_id'].count() * 100, 2))     "
   ]
  },
  {
   "cell_type": "markdown",
   "id": "4fe0c9ea",
   "metadata": {},
   "source": [
    "# Проверяю выбросы по количеству заказов на покупателя."
   ]
  },
  {
   "cell_type": "code",
   "execution_count": 39,
   "id": "fd60db56",
   "metadata": {},
   "outputs": [
    {
     "name": "stderr",
     "output_type": "stream",
     "text": [
      "C:\\Users\\veron\\AppData\\Local\\Temp\\ipykernel_11908\\922663676.py:2: FutureWarning: Indexing with multiple keys (implicitly converted to a tuple of keys) will be deprecated, use a list instead.\n",
      "  ecom_4_1 = (ecom_4.groupby(['customer_id'])['customer_id', 'order_id']\n"
     ]
    },
    {
     "data": {
      "text/html": [
       "<div>\n",
       "<style scoped>\n",
       "    .dataframe tbody tr th:only-of-type {\n",
       "        vertical-align: middle;\n",
       "    }\n",
       "\n",
       "    .dataframe tbody tr th {\n",
       "        vertical-align: top;\n",
       "    }\n",
       "\n",
       "    .dataframe thead th {\n",
       "        text-align: right;\n",
       "    }\n",
       "</style>\n",
       "<table border=\"1\" class=\"dataframe\">\n",
       "  <thead>\n",
       "    <tr style=\"text-align: right;\">\n",
       "      <th></th>\n",
       "      <th>order_id</th>\n",
       "    </tr>\n",
       "    <tr>\n",
       "      <th>customer_id</th>\n",
       "      <th></th>\n",
       "    </tr>\n",
       "  </thead>\n",
       "  <tbody>\n",
       "    <tr>\n",
       "      <th>c971fb21-d54c-4134-938f-16b62ee86d3b</th>\n",
       "      <td>125</td>\n",
       "    </tr>\n",
       "    <tr>\n",
       "      <th>4d93d3f6-8b24-403b-a74b-f5173e40d7db</th>\n",
       "      <td>33</td>\n",
       "    </tr>\n",
       "    <tr>\n",
       "      <th>73d1cd35-5e5f-4629-8cf2-3fda829d4e58</th>\n",
       "      <td>17</td>\n",
       "    </tr>\n",
       "    <tr>\n",
       "      <th>b7b865ab-0735-407f-8d0c-31f74d2806cc</th>\n",
       "      <td>7</td>\n",
       "    </tr>\n",
       "    <tr>\n",
       "      <th>0184f535-b60a-4914-a982-231e3f615206</th>\n",
       "      <td>6</td>\n",
       "    </tr>\n",
       "  </tbody>\n",
       "</table>\n",
       "</div>"
      ],
      "text/plain": [
       "                                      order_id\n",
       "customer_id                                   \n",
       "c971fb21-d54c-4134-938f-16b62ee86d3b       125\n",
       "4d93d3f6-8b24-403b-a74b-f5173e40d7db        33\n",
       "73d1cd35-5e5f-4629-8cf2-3fda829d4e58        17\n",
       "b7b865ab-0735-407f-8d0c-31f74d2806cc         7\n",
       "0184f535-b60a-4914-a982-231e3f615206         6"
      ]
     },
     "execution_count": 39,
     "metadata": {},
     "output_type": "execute_result"
    }
   ],
   "source": [
    "# группирую по покупателям и считаю количество заказов на каждого покупателя\n",
    "ecom_4_1 = (ecom_4.groupby(['customer_id'])['customer_id', 'order_id']\n",
    "                .agg({'order_id': 'count'})\n",
    "                .sort_values(by='order_id', ascending=False))\n",
    "ecom_4_1.head() "
   ]
  },
  {
   "cell_type": "code",
   "execution_count": 40,
   "id": "d3670763",
   "metadata": {},
   "outputs": [
    {
     "data": {
      "text/html": [
       "<div>\n",
       "<style scoped>\n",
       "    .dataframe tbody tr th:only-of-type {\n",
       "        vertical-align: middle;\n",
       "    }\n",
       "\n",
       "    .dataframe tbody tr th {\n",
       "        vertical-align: top;\n",
       "    }\n",
       "\n",
       "    .dataframe thead th {\n",
       "        text-align: right;\n",
       "    }\n",
       "</style>\n",
       "<table border=\"1\" class=\"dataframe\">\n",
       "  <thead>\n",
       "    <tr style=\"text-align: right;\">\n",
       "      <th></th>\n",
       "      <th>customer_id</th>\n",
       "      <th>count_order_id</th>\n",
       "    </tr>\n",
       "  </thead>\n",
       "  <tbody>\n",
       "    <tr>\n",
       "      <th>0</th>\n",
       "      <td>c971fb21-d54c-4134-938f-16b62ee86d3b</td>\n",
       "      <td>125</td>\n",
       "    </tr>\n",
       "    <tr>\n",
       "      <th>1</th>\n",
       "      <td>4d93d3f6-8b24-403b-a74b-f5173e40d7db</td>\n",
       "      <td>33</td>\n",
       "    </tr>\n",
       "    <tr>\n",
       "      <th>2</th>\n",
       "      <td>73d1cd35-5e5f-4629-8cf2-3fda829d4e58</td>\n",
       "      <td>17</td>\n",
       "    </tr>\n",
       "    <tr>\n",
       "      <th>3</th>\n",
       "      <td>b7b865ab-0735-407f-8d0c-31f74d2806cc</td>\n",
       "      <td>7</td>\n",
       "    </tr>\n",
       "    <tr>\n",
       "      <th>4</th>\n",
       "      <td>0184f535-b60a-4914-a982-231e3f615206</td>\n",
       "      <td>6</td>\n",
       "    </tr>\n",
       "  </tbody>\n",
       "</table>\n",
       "</div>"
      ],
      "text/plain": [
       "                            customer_id  count_order_id\n",
       "0  c971fb21-d54c-4134-938f-16b62ee86d3b             125\n",
       "1  4d93d3f6-8b24-403b-a74b-f5173e40d7db              33\n",
       "2  73d1cd35-5e5f-4629-8cf2-3fda829d4e58              17\n",
       "3  b7b865ab-0735-407f-8d0c-31f74d2806cc               7\n",
       "4  0184f535-b60a-4914-a982-231e3f615206               6"
      ]
     },
     "execution_count": 40,
     "metadata": {},
     "output_type": "execute_result"
    }
   ],
   "source": [
    "# переименовываю столбец order_id на count_order_id\n",
    "ecom_4_1 = ecom_4_1.rename(columns={\"order_id\": \"count_order_id\"})\n",
    "\n",
    "# сбрасываю индексы\n",
    "ecom_4_1 = ecom_4_1.reset_index()\n",
    "ecom_4_1.head()"
   ]
  },
  {
   "cell_type": "code",
   "execution_count": 41,
   "id": "5785b1cf",
   "metadata": {},
   "outputs": [
    {
     "data": {
      "image/png": "[encoded data removed]",
      "text/plain": [
       "<Figure size 640x480 with 1 Axes>"
      ]
     },
     "metadata": {},
     "output_type": "display_data"
    }
   ],
   "source": [
    "# строю график ящика с усами, где видно распределение количества заказов на покупателя\n",
    "plt.boxplot(x=ecom_4_1['count_order_id'])  \n",
    "plt.title('График ящика с усами')  \n",
    "plt.ylabel('Количество заказов на одного покупателя')  \n",
    "plt.show() "
   ]
  },
  {
   "cell_type": "markdown",
   "id": "7e703d0b",
   "metadata": {},
   "source": [
    "# Вывод: из графика ящика с усами, который показывает распределение количества заказов на покупателя видно, что данные правдоподобны. Аномалий нет."
   ]
  },
  {
   "cell_type": "markdown",
   "id": "b4085cff",
   "metadata": {},
   "source": [
    "# Промежуточный вывод 1.1.6:\n",
    "Сгруппировала датасет по заказам(с помощью groupby) и рассчитала чек и количество товаров в каждом заказе(с помощью sum).\n",
    "\n",
    "Построила диаграмму (с помощью scatter) как меняется стоимость заказа в зависимости от количества товаров в заказе.\n",
    "Обнаружила и удалила предположительно выбросы(попавшие в датасет возможно по техническим причинам):\n",
    "- заказы с количеством товаров больше 99го перцентиля.\n",
    "Из датасета ecom_2 удалено выбросов по столбцу goods_in_order: 36\n",
    "Доля удалённых выбросов в %: 1.02\n",
    "\n",
    "Построила график ящика с усами, где видно распределение количества заказов на покупателя с помощью boxplot. Аномалий не выявила.\n",
    "\n",
    "Отфильтровала датафрейм ecom_2 от найденных выбросов с помощью фильтрации с помощью isin() по списку. "
   ]
  },
  {
   "cell_type": "markdown",
   "id": "2ceb3cd2",
   "metadata": {},
   "source": [
    "## Исследовательский анализ данных"
   ]
  },
  {
   "cell_type": "markdown",
   "id": "58776e2e",
   "metadata": {},
   "source": [
    "### Категоризация товаров"
   ]
  },
  {
   "cell_type": "code",
   "execution_count": 42,
   "id": "28bfd949",
   "metadata": {},
   "outputs": [],
   "source": [
    "# готовлю списки товаров для дальнейшей категоризации\n",
    "e1 = ['d', 'аквилегия', 'алиссум', 'астра', 'афеляндра', 'бадан', 'бакопа', 'барвинок', 'бархатцы', 'бегония', 'буддлея', 'бузульник', 'валериана', 'вербейник', 'вербена', 'вероника', 'вигна', 'виола', 'гайлардия', 'гвоздика', 'георгина', 'гиностемма', 'гипсофила', 'годеция', 'горох', 'девичий виноград', 'декабрист', 'дыня', 'ель', 'змееголовник', 'календула', 'калибрахоа', 'калла', 'камнеломка', 'капуста', 'кашпо', 'кипарисовик', 'клубника', 'кодонанта', 'колокольчик', 'кореопсис', 'кориандр', 'космея', 'котовник', 'лаватера', 'лавр', 'лапчатка', 'лен', 'лилейник', 'лобелия', 'лук', 'львиный', 'любисток', 'монарда', 'морковь', 'настурция', 'незабудка', 'овсянница', 'огурец', 'осина', 'папоротник', 'петрушка', 'пеларгония', 'петуния', 'пиретрум', 'платикодон', 'помидор', 'примула', 'ранункулус', 'рассада', 'растени', 'ромашка', 'рудбекия', 'рукола', 'седум', 'сельдерей', 'смолевка', 'солидаго', 'табак', 'томат', 'тюльпан', 'укроп', 'фиалка', 'физостегия', 'флокс', 'фуксия', 'хоста', 'цинерария', 'цинния', 'шалфей', 'энотера', 'эхинацея', 'эшшольция', 'ясколка']\n",
    "e2 = ['плечики', 'комод', 'этажерка', 'полк', 'стеллаж', 'пуф', 'сиденье', 'весы', 'рукав', 'фанера', 'гладильная', 'картофелемялка', 'кипятильник', 'концентрат', 'мантоварка', 'миксер', 'овощеварка', 'подрукавник', 'пылесос', 'соковарка', 'соковыжималка', 'термометр', 'утюг', 'фен', 'чайник', 'электроштопор']\n",
    "e3 = ['бак для белья', 'бельевые прищепки', 'в душевую', 'вакуумный пакет', 'вешал', 'для ванн', 'для обуви', 'искусственн', 'ключница', 'коврик', 'ковер', 'коробка', 'короб', 'кофр', 'полотенце', 'муляж', 'наволочка', 'наматрасник', 'наматрицник', 'обувница', 'одеяло', 'плед', 'пододеяльник', 'подушка', 'покрывало', 'полотеней', 'постельно', 'простын', 'ролик', 'салфеток', 'светильник', 'стакан для ванной', 'фоторамка', 'чехол', 'ящик', 'котел',  'кружка', 'крышка', 'кувшин', 'кухонн', 'ложка', 'лопатка', 'лоток', 'масленка', 'мерный', 'миска', 'нож', 'овощечистка', 'орехоколка']\n",
    "e4 = ['банка', 'бидон', 'блюд', 'бокалов', 'бульонница', 'ваза', 'вилка', 'вкладыши', 'герметичный', 'для выпечки', 'для кексов', 'для кухни', 'для напитков', 'для овощей', 'для сушки посуды', 'доска разделочная', 'дуршлаг', 'емкость для свч', 'емкость для соуса', 'жестяная банка', 'измельчитель овощей ручной', 'кастрюля', 'кисточка силиконовая', 'коврик кухонный', 'ковш', 'кондитерский', 'отделитель', 'пива', 'половник', 'вафельное', 'посуд', 'пресс', 'продуктов', 'просеиватель', 'противень', 'пьезозажигалка', 'разделочная', 'рассекатель', 'рыбочистка', 'салатник', 'салфетка', 'салфетница', 'сахарница', 'паровыпускным', 'сервировочная', 'сито', 'скалка', 'скатерть', 'сковород', 'сотейник', 'стакан пластмассовый', 'стаканов', 'столовая', 'столовых', 'тарелка', 'терка', 'термокружка', 'термос', 'толкушка', 'тортница', 'фужеров', 'хлебница', 'чайн', 'яиц', 'яйц']\n",
    "e5 = ['антижир', 'антинакипин', 'ароматизированн', 'бальзам для мытья', 'бензин', 'валик', 'ванна', 'вантуз', 'ведро', 'веник', 'веревка', 'гель для стирки', 'губка', 'Декоративная коробка', 'держатель для туалетной бумаги', 'для ведра', 'для мусора', 'для мытья полов', 'дозатор для мыла', 'ёрш', 'ерш для туалета', 'жидкое мыло', 'инструмент', 'карниз', 'кольца для штор', 'кондиционер', 'корзин', 'корыто', 'крепеж', 'крючок', 'лестница', 'линейка', 'мусорный', 'мыло', 'мыльница', 'насадка-моп', 'нетканые', 'обувная', 'окномойка', 'окон', 'ополаскиватель', 'отбеливатель', 'отжим', 'перчатки', 'петля', 'подголовник', 'подкладка', 'покрытие для глад', 'посудомоечны', 'прищепки', 'пробка', 'пружина', 'пятен', 'ролик', 'ручка', 'сверло', 'сетка', 'скребок для окон', 'сметка', 'совок', 'средство', 'стиральный', 'стирк', 'стремянк', 'стяжк', 'сумка', 'сушилка', 'сушилка для белья', 'таз', 'тележка', 'ткань', 'тряпка', 'тряпкодержатель', 'уголок оконный', 'угольник', 'урна', 'хлора', 'холодная сварка', 'швабр', 'шило', 'шнур', 'шпагат', 'штанга для ванной', 'штангенциркуль', 'штора', 'щетка']"
   ]
  },
  {
   "cell_type": "code",
   "execution_count": 43,
   "id": "2f9a1932",
   "metadata": {
    "scrolled": true
   },
   "outputs": [],
   "source": [
    "# с помощью функции распределяю товары по категориям\n",
    "def product_group(product):\n",
    "    if any(word in product for word in e1):\n",
    "        return 'растения'\n",
    "    elif any(word in product for word in e2):\n",
    "        return 'товары длительного хранения (мебель и бытовая техника)'\n",
    "    elif any(word in product for word in e3):\n",
    "        return 'товары для дома'\n",
    "    elif any(word in product for word in e4):\n",
    "        return 'товары для кухни'\n",
    "    elif any(word in product for word in e5):\n",
    "        return 'хозяйственные товары и бытовая химия'\n",
    "    else:\n",
    "        return 'прочее'\n",
    "\n",
    "ecom_2['product_group'] = ecom_2['product'].apply(product_group)"
   ]
  },
  {
   "cell_type": "code",
   "execution_count": 44,
   "id": "9c09edf6",
   "metadata": {},
   "outputs": [
    {
     "name": "stdout",
     "output_type": "stream",
     "text": [
      "Количество заказов: 3484\n"
     ]
    }
   ],
   "source": [
    "order_id_count_3 = ecom_2['order_id'].nunique()\n",
    "print('Количество заказов:', order_id_count_3)"
   ]
  },
  {
   "cell_type": "code",
   "execution_count": 45,
   "id": "0b961f41",
   "metadata": {},
   "outputs": [
    {
     "name": "stdout",
     "output_type": "stream",
     "text": [
      "Количество уникальных товаров: 2296\n"
     ]
    }
   ],
   "source": [
    "unique_product_4 = ecom_2['product'].nunique()\n",
    "print('Количество уникальных товаров:', unique_product_4)"
   ]
  },
  {
   "cell_type": "code",
   "execution_count": 46,
   "id": "8b66d1eb",
   "metadata": {},
   "outputs": [
    {
     "name": "stdout",
     "output_type": "stream",
     "text": [
      "Количество уникальных покупателей: 2399\n"
     ]
    }
   ],
   "source": [
    "unique_customer_id_4 = ecom_2['customer_id'].nunique()\n",
    "print('Количество уникальных покупателей:', unique_customer_id_4)"
   ]
  },
  {
   "cell_type": "code",
   "execution_count": 47,
   "id": "bb9c45a5",
   "metadata": {},
   "outputs": [
    {
     "name": "stdout",
     "output_type": "stream",
     "text": [
      "Количество проданных единиц товаров: 9887\n"
     ]
    }
   ],
   "source": [
    "quantity_sum_6 = ecom_2['quantity'].sum()\n",
    "print('Количество проданных единиц товаров:', quantity_sum_6)"
   ]
  },
  {
   "cell_type": "code",
   "execution_count": 48,
   "id": "0e760289",
   "metadata": {},
   "outputs": [
    {
     "name": "stdout",
     "output_type": "stream",
     "text": [
      "Общая выручка: 3670996.42\n"
     ]
    }
   ],
   "source": [
    "order_sum_6 = round(ecom_2['order_sum'].sum(), 2)\n",
    "print('Общая выручка:', order_sum_6)"
   ]
  },
  {
   "cell_type": "markdown",
   "id": "b8396c34",
   "metadata": {},
   "source": [
    "# Промежуточный вывод 2.1:\n",
    "\n",
    "Распределила товары с помощью функции def по следующим категориям:\n",
    "- растения,\n",
    "- хозяйственные товары и бытовая химия,\n",
    "- товары для дома,\n",
    "- бытовая химия,\n",
    "- товары для кухни,\n",
    "- мебель,\n",
    "- прочее.\n",
    "\n",
    "Для дальнейшего исследования в датасете осталось:\n",
    "- 3 484 заказов на сумму 3 670 996.42,\n",
    "- 2 296 уникальных товаров,\n",
    "- 2 399 уникальных покупателя."
   ]
  },
  {
   "cell_type": "markdown",
   "id": "f5554c6f",
   "metadata": {},
   "source": [
    "### Рассчитайте количество проданных товаров и выручку по категориям"
   ]
  },
  {
   "cell_type": "code",
   "execution_count": 49,
   "id": "57c7b661",
   "metadata": {},
   "outputs": [
    {
     "name": "stderr",
     "output_type": "stream",
     "text": [
      "C:\\Users\\veron\\AppData\\Local\\Temp\\ipykernel_11908\\3301797526.py:2: FutureWarning: Indexing with multiple keys (implicitly converted to a tuple of keys) will be deprecated, use a list instead.\n",
      "  ecom_5 = (ecom_2.groupby(['product_group'])['product_group', 'quantity', 'order_sum']\n"
     ]
    }
   ],
   "source": [
    "# группирую данные по категориям товаров и рассчитываю выручку по категориям\n",
    "ecom_5 = (ecom_2.groupby(['product_group'])['product_group', 'quantity', 'order_sum']\n",
    "                .agg({'quantity': 'sum', 'order_sum': 'sum'})\n",
    "                .sort_values(by='order_sum', ascending=False))"
   ]
  },
  {
   "cell_type": "code",
   "execution_count": 50,
   "id": "04c9f696",
   "metadata": {},
   "outputs": [],
   "source": [
    "# переименовываю столбцы и сбрасываю индексы\n",
    "ecom_5 = ecom_5.rename(columns={\"quantity\": \"quantity_sum\", \"order_sum\": \"product_sum\"})\n",
    "ecom_5 = ecom_5.reset_index()"
   ]
  },
  {
   "cell_type": "code",
   "execution_count": 51,
   "id": "945c6826",
   "metadata": {},
   "outputs": [
    {
     "data": {
      "text/html": [
       "<div>\n",
       "<style scoped>\n",
       "    .dataframe tbody tr th:only-of-type {\n",
       "        vertical-align: middle;\n",
       "    }\n",
       "\n",
       "    .dataframe tbody tr th {\n",
       "        vertical-align: top;\n",
       "    }\n",
       "\n",
       "    .dataframe thead th {\n",
       "        text-align: right;\n",
       "    }\n",
       "</style>\n",
       "<table border=\"1\" class=\"dataframe\">\n",
       "  <thead>\n",
       "    <tr style=\"text-align: right;\">\n",
       "      <th></th>\n",
       "      <th>product_group</th>\n",
       "      <th>quantity_sum</th>\n",
       "      <th>product_sum</th>\n",
       "    </tr>\n",
       "  </thead>\n",
       "  <tbody>\n",
       "    <tr>\n",
       "      <th>0</th>\n",
       "      <td>растения</td>\n",
       "      <td>5547</td>\n",
       "      <td>1748763.75</td>\n",
       "    </tr>\n",
       "    <tr>\n",
       "      <th>1</th>\n",
       "      <td>хозяйственные товары и бытовая химия</td>\n",
       "      <td>1088</td>\n",
       "      <td>799157.83</td>\n",
       "    </tr>\n",
       "    <tr>\n",
       "      <th>2</th>\n",
       "      <td>товары для дома</td>\n",
       "      <td>1845</td>\n",
       "      <td>504510.33</td>\n",
       "    </tr>\n",
       "    <tr>\n",
       "      <th>3</th>\n",
       "      <td>товары длительного хранения (мебель и бытовая ...</td>\n",
       "      <td>366</td>\n",
       "      <td>371685.00</td>\n",
       "    </tr>\n",
       "    <tr>\n",
       "      <th>4</th>\n",
       "      <td>товары для кухни</td>\n",
       "      <td>764</td>\n",
       "      <td>186122.50</td>\n",
       "    </tr>\n",
       "    <tr>\n",
       "      <th>5</th>\n",
       "      <td>прочее</td>\n",
       "      <td>277</td>\n",
       "      <td>60757.00</td>\n",
       "    </tr>\n",
       "  </tbody>\n",
       "</table>\n",
       "</div>"
      ],
      "text/plain": [
       "                                       product_group  quantity_sum  \\\n",
       "0                                           растения          5547   \n",
       "1               хозяйственные товары и бытовая химия          1088   \n",
       "2                                    товары для дома          1845   \n",
       "3  товары длительного хранения (мебель и бытовая ...           366   \n",
       "4                                   товары для кухни           764   \n",
       "5                                             прочее           277   \n",
       "\n",
       "   product_sum  \n",
       "0   1748763.75  \n",
       "1    799157.83  \n",
       "2    504510.33  \n",
       "3    371685.00  \n",
       "4    186122.50  \n",
       "5     60757.00  "
      ]
     },
     "execution_count": 51,
     "metadata": {},
     "output_type": "execute_result"
    }
   ],
   "source": [
    "# округляю значения столбца product_sum до 2х знаков после запятой\n",
    "ecom_5['product_sum'] = round(ecom_5['product_sum'], 2)\n",
    "ecom_5"
   ]
  },
  {
   "cell_type": "code",
   "execution_count": 52,
   "id": "301cff85",
   "metadata": {},
   "outputs": [
    {
     "name": "stdout",
     "output_type": "stream",
     "text": [
      "Количество проданных товаров: 9887\n"
     ]
    }
   ],
   "source": [
    "# считаю количество проданных товаров\n",
    "quantity_sum_7 = ecom_5['quantity_sum'].sum()\n",
    "print('Количество проданных товаров:', quantity_sum_7)"
   ]
  },
  {
   "cell_type": "code",
   "execution_count": 53,
   "id": "4e76cc15",
   "metadata": {},
   "outputs": [
    {
     "name": "stdout",
     "output_type": "stream",
     "text": [
      "Выручка от продажи товаров: 3670996.41\n"
     ]
    }
   ],
   "source": [
    "# считаю общую выручку\n",
    "quantity_sum_8 = round(ecom_5['product_sum'].sum(), 2)\n",
    "print('Выручка от продажи товаров:', quantity_sum_8)"
   ]
  },
  {
   "cell_type": "markdown",
   "id": "e7f556b4",
   "metadata": {},
   "source": [
    "# Промежуточный вывод 2.2.:\n",
    "\n",
    "Рассчитала количество проданных товаров и выручку по категориям:\n",
    "- растения - продано 5 547 единиц товара на сумму 1 748 763.75,\n",
    "- хозяйственные товары и бытовая химия - продано 1 088 единицы товара на сумму 799 157.83,\n",
    "- товары для дома - продано 1 845 единиц товара на сумму 504 510.33,\n",
    "- товары длительного хранения (мебель и бытовая техника) - продано 366 единиц товара на сумму 371 685.00,\n",
    "- товары для кухни - продано 764 единицы товара на сумму 186 122.50,\n",
    "- прочее - продано 277 единиц товара на сумму 60 757.00.\n",
    "\n",
    "Общая выручка от продажи 9 887 товаров: 3 670 996.41."
   ]
  },
  {
   "cell_type": "markdown",
   "id": "d7792d3e",
   "metadata": {},
   "source": [
    "### Выделение основных показателей интернет-магазина (динамика выручки, средний чек и его динамика, помесячная динамика средней выручки с покупателя) и построение графиков на основе полученных данных"
   ]
  },
  {
   "cell_type": "markdown",
   "id": "cd35103f",
   "metadata": {},
   "source": [
    "#### Исследование динамики выручки интеренет магазина по месяцам и построение графика"
   ]
  },
  {
   "cell_type": "code",
   "execution_count": 54,
   "id": "05665e43",
   "metadata": {},
   "outputs": [],
   "source": [
    "# добавляю в ecom_2 столбец с годом и месяцем для использования в помесячном анализе различных параметров в дальнейшем исследовании\n",
    "ecom_2[\"year_month\"] = ecom_2[\"date_time\"].dt.to_period(\"M\")  "
   ]
  },
  {
   "cell_type": "code",
   "execution_count": 55,
   "id": "b2162979",
   "metadata": {},
   "outputs": [
    {
     "name": "stderr",
     "output_type": "stream",
     "text": [
      "C:\\Users\\veron\\AppData\\Local\\Temp\\ipykernel_11908\\1889057782.py:2: FutureWarning: Indexing with multiple keys (implicitly converted to a tuple of keys) will be deprecated, use a list instead.\n",
      "  ecom_6 = (ecom_2.groupby(['year_month'])['year_month', 'order_sum']\n"
     ]
    },
    {
     "data": {
      "text/html": [
       "<div>\n",
       "<style scoped>\n",
       "    .dataframe tbody tr th:only-of-type {\n",
       "        vertical-align: middle;\n",
       "    }\n",
       "\n",
       "    .dataframe tbody tr th {\n",
       "        vertical-align: top;\n",
       "    }\n",
       "\n",
       "    .dataframe thead th {\n",
       "        text-align: right;\n",
       "    }\n",
       "</style>\n",
       "<table border=\"1\" class=\"dataframe\">\n",
       "  <thead>\n",
       "    <tr style=\"text-align: right;\">\n",
       "      <th></th>\n",
       "      <th>order_sum</th>\n",
       "    </tr>\n",
       "    <tr>\n",
       "      <th>year_month</th>\n",
       "      <th></th>\n",
       "    </tr>\n",
       "  </thead>\n",
       "  <tbody>\n",
       "    <tr>\n",
       "      <th>2020-01</th>\n",
       "      <td>174036.333333</td>\n",
       "    </tr>\n",
       "    <tr>\n",
       "      <th>2019-12</th>\n",
       "      <td>202885.333333</td>\n",
       "    </tr>\n",
       "    <tr>\n",
       "      <th>2019-11</th>\n",
       "      <td>128791.750000</td>\n",
       "    </tr>\n",
       "    <tr>\n",
       "      <th>2019-10</th>\n",
       "      <td>197910.000000</td>\n",
       "    </tr>\n",
       "    <tr>\n",
       "      <th>2019-09</th>\n",
       "      <td>171320.000000</td>\n",
       "    </tr>\n",
       "    <tr>\n",
       "      <th>2019-08</th>\n",
       "      <td>181231.000000</td>\n",
       "    </tr>\n",
       "    <tr>\n",
       "      <th>2019-07</th>\n",
       "      <td>226361.000000</td>\n",
       "    </tr>\n",
       "    <tr>\n",
       "      <th>2019-06</th>\n",
       "      <td>185887.000000</td>\n",
       "    </tr>\n",
       "    <tr>\n",
       "      <th>2019-05</th>\n",
       "      <td>213966.000000</td>\n",
       "    </tr>\n",
       "    <tr>\n",
       "      <th>2019-04</th>\n",
       "      <td>294163.000000</td>\n",
       "    </tr>\n",
       "    <tr>\n",
       "      <th>2019-03</th>\n",
       "      <td>252704.000000</td>\n",
       "    </tr>\n",
       "    <tr>\n",
       "      <th>2019-02</th>\n",
       "      <td>300959.000000</td>\n",
       "    </tr>\n",
       "    <tr>\n",
       "      <th>2019-01</th>\n",
       "      <td>215365.000000</td>\n",
       "    </tr>\n",
       "    <tr>\n",
       "      <th>2018-12</th>\n",
       "      <td>301996.000000</td>\n",
       "    </tr>\n",
       "    <tr>\n",
       "      <th>2018-11</th>\n",
       "      <td>294087.000000</td>\n",
       "    </tr>\n",
       "    <tr>\n",
       "      <th>2018-10</th>\n",
       "      <td>329334.000000</td>\n",
       "    </tr>\n",
       "  </tbody>\n",
       "</table>\n",
       "</div>"
      ],
      "text/plain": [
       "                order_sum\n",
       "year_month               \n",
       "2020-01     174036.333333\n",
       "2019-12     202885.333333\n",
       "2019-11     128791.750000\n",
       "2019-10     197910.000000\n",
       "2019-09     171320.000000\n",
       "2019-08     181231.000000\n",
       "2019-07     226361.000000\n",
       "2019-06     185887.000000\n",
       "2019-05     213966.000000\n",
       "2019-04     294163.000000\n",
       "2019-03     252704.000000\n",
       "2019-02     300959.000000\n",
       "2019-01     215365.000000\n",
       "2018-12     301996.000000\n",
       "2018-11     294087.000000\n",
       "2018-10     329334.000000"
      ]
     },
     "execution_count": 55,
     "metadata": {},
     "output_type": "execute_result"
    }
   ],
   "source": [
    "# группирую данные по месяцам для построения графика динамики выручки по месяцам\n",
    "ecom_6 = (ecom_2.groupby(['year_month'])['year_month', 'order_sum']\n",
    "                .agg({'order_sum': 'sum'})\n",
    "                .sort_values(by='year_month', ascending=False))\n",
    "ecom_6"
   ]
  },
  {
   "cell_type": "code",
   "execution_count": 56,
   "id": "c0b6face",
   "metadata": {},
   "outputs": [],
   "source": [
    "# переименовываю столбец и сбрасываю индексы\n",
    "ecom_6 = ecom_6.rename(columns={\"order_sum\": \"sum\"})\n",
    "ecom_6 = ecom_6.reset_index()"
   ]
  },
  {
   "cell_type": "code",
   "execution_count": 57,
   "id": "830e3cb2",
   "metadata": {},
   "outputs": [
    {
     "data": {
      "image/png": "[encoded data removed]",
      "text/plain": [
       "<Figure size 1500x1000 with 1 Axes>"
      ]
     },
     "metadata": {},
     "output_type": "display_data"
    }
   ],
   "source": [
    "# строю график динамики выручки интернет магазина по месяцам\n",
    "ecom_6.plot(x='year_month', y='sum', style='o-', figsize=(15, 10), grid=True)\n",
    "\n",
    "\n",
    "plt.xlabel('Год и месяц')  \n",
    "plt.title('Выручка')  \n",
    "plt.title('Динамика выручки интеренет магазина по месяцам')  \n",
    "plt.ylim(ymin=0)\n",
    "plt.show()  "
   ]
  },
  {
   "cell_type": "markdown",
   "id": "3d211ddb",
   "metadata": {},
   "source": [
    "# Промежуточный вывод 2.3.1:\n",
    "\n",
    "К датасету добавила столбец с годом и месяцем продажи ('year_month').\n",
    "\n",
    "Сгруппировала данные с помощью groupby по столбцу 'year_month' и посчитала выручку интернет-магазина за каждый месяц 'sum'.\n",
    "\n",
    "Построила график динамики выручки интернет-магазин по месяцам. По графику можно сделать вывод, что выручка снижается. "
   ]
  },
  {
   "cell_type": "markdown",
   "id": "25f803a1",
   "metadata": {},
   "source": [
    "#### Cредний чек и его динамика"
   ]
  },
  {
   "cell_type": "code",
   "execution_count": 58,
   "id": "109ea5c5",
   "metadata": {},
   "outputs": [
    {
     "name": "stderr",
     "output_type": "stream",
     "text": [
      "C:\\Users\\veron\\AppData\\Local\\Temp\\ipykernel_11908\\3267974352.py:2: FutureWarning: Indexing with multiple keys (implicitly converted to a tuple of keys) will be deprecated, use a list instead.\n",
      "  ecom_7 = ecom_2.groupby(['year_month', 'order_id'])['year_month', 'order_id', 'order_sum'].agg({'order_sum': 'sum'})\n"
     ]
    },
    {
     "data": {
      "text/html": [
       "<div>\n",
       "<style scoped>\n",
       "    .dataframe tbody tr th:only-of-type {\n",
       "        vertical-align: middle;\n",
       "    }\n",
       "\n",
       "    .dataframe tbody tr th {\n",
       "        vertical-align: top;\n",
       "    }\n",
       "\n",
       "    .dataframe thead th {\n",
       "        text-align: right;\n",
       "    }\n",
       "</style>\n",
       "<table border=\"1\" class=\"dataframe\">\n",
       "  <thead>\n",
       "    <tr style=\"text-align: right;\">\n",
       "      <th></th>\n",
       "      <th></th>\n",
       "      <th>order_sum</th>\n",
       "    </tr>\n",
       "    <tr>\n",
       "      <th>year_month</th>\n",
       "      <th>order_id</th>\n",
       "      <th></th>\n",
       "    </tr>\n",
       "  </thead>\n",
       "  <tbody>\n",
       "    <tr>\n",
       "      <th rowspan=\"5\" valign=\"top\">2018-10</th>\n",
       "      <th>14480</th>\n",
       "      <td>359.0</td>\n",
       "    </tr>\n",
       "    <tr>\n",
       "      <th>14481</th>\n",
       "      <td>600.0</td>\n",
       "    </tr>\n",
       "    <tr>\n",
       "      <th>14482</th>\n",
       "      <td>376.0</td>\n",
       "    </tr>\n",
       "    <tr>\n",
       "      <th>14485</th>\n",
       "      <td>676.0</td>\n",
       "    </tr>\n",
       "    <tr>\n",
       "      <th>14486</th>\n",
       "      <td>1880.0</td>\n",
       "    </tr>\n",
       "    <tr>\n",
       "      <th>...</th>\n",
       "      <th>...</th>\n",
       "      <td>...</td>\n",
       "    </tr>\n",
       "    <tr>\n",
       "      <th rowspan=\"5\" valign=\"top\">2020-01</th>\n",
       "      <th>112601</th>\n",
       "      <td>134.0</td>\n",
       "    </tr>\n",
       "    <tr>\n",
       "      <th>112635</th>\n",
       "      <td>2399.0</td>\n",
       "    </tr>\n",
       "    <tr>\n",
       "      <th>112657</th>\n",
       "      <td>149.0</td>\n",
       "    </tr>\n",
       "    <tr>\n",
       "      <th>112691</th>\n",
       "      <td>539.0</td>\n",
       "    </tr>\n",
       "    <tr>\n",
       "      <th>112779</th>\n",
       "      <td>172.0</td>\n",
       "    </tr>\n",
       "  </tbody>\n",
       "</table>\n",
       "<p>3488 rows × 1 columns</p>\n",
       "</div>"
      ],
      "text/plain": [
       "                     order_sum\n",
       "year_month order_id           \n",
       "2018-10    14480         359.0\n",
       "           14481         600.0\n",
       "           14482         376.0\n",
       "           14485         676.0\n",
       "           14486        1880.0\n",
       "...                        ...\n",
       "2020-01    112601        134.0\n",
       "           112635       2399.0\n",
       "           112657        149.0\n",
       "           112691        539.0\n",
       "           112779        172.0\n",
       "\n",
       "[3488 rows x 1 columns]"
      ]
     },
     "execution_count": 58,
     "metadata": {},
     "output_type": "execute_result"
    }
   ],
   "source": [
    "# группирую данные по месяцам и заказам для построения графика и расчёта среднего чека\n",
    "ecom_7 = ecom_2.groupby(['year_month', 'order_id'])['year_month', 'order_id', 'order_sum'].agg({'order_sum': 'sum'})\n",
    "ecom_7"
   ]
  },
  {
   "cell_type": "code",
   "execution_count": 59,
   "id": "feb054dc",
   "metadata": {},
   "outputs": [
    {
     "data": {
      "text/html": [
       "<div>\n",
       "<style scoped>\n",
       "    .dataframe tbody tr th:only-of-type {\n",
       "        vertical-align: middle;\n",
       "    }\n",
       "\n",
       "    .dataframe tbody tr th {\n",
       "        vertical-align: top;\n",
       "    }\n",
       "\n",
       "    .dataframe thead th {\n",
       "        text-align: right;\n",
       "    }\n",
       "</style>\n",
       "<table border=\"1\" class=\"dataframe\">\n",
       "  <thead>\n",
       "    <tr style=\"text-align: right;\">\n",
       "      <th></th>\n",
       "      <th>year_month</th>\n",
       "      <th>order_id</th>\n",
       "      <th>sum</th>\n",
       "    </tr>\n",
       "  </thead>\n",
       "  <tbody>\n",
       "    <tr>\n",
       "      <th>0</th>\n",
       "      <td>2018-10</td>\n",
       "      <td>14480</td>\n",
       "      <td>359.0</td>\n",
       "    </tr>\n",
       "    <tr>\n",
       "      <th>1</th>\n",
       "      <td>2018-10</td>\n",
       "      <td>14481</td>\n",
       "      <td>600.0</td>\n",
       "    </tr>\n",
       "    <tr>\n",
       "      <th>2</th>\n",
       "      <td>2018-10</td>\n",
       "      <td>14482</td>\n",
       "      <td>376.0</td>\n",
       "    </tr>\n",
       "    <tr>\n",
       "      <th>3</th>\n",
       "      <td>2018-10</td>\n",
       "      <td>14485</td>\n",
       "      <td>676.0</td>\n",
       "    </tr>\n",
       "    <tr>\n",
       "      <th>4</th>\n",
       "      <td>2018-10</td>\n",
       "      <td>14486</td>\n",
       "      <td>1880.0</td>\n",
       "    </tr>\n",
       "  </tbody>\n",
       "</table>\n",
       "</div>"
      ],
      "text/plain": [
       "  year_month  order_id     sum\n",
       "0    2018-10     14480   359.0\n",
       "1    2018-10     14481   600.0\n",
       "2    2018-10     14482   376.0\n",
       "3    2018-10     14485   676.0\n",
       "4    2018-10     14486  1880.0"
      ]
     },
     "execution_count": 59,
     "metadata": {},
     "output_type": "execute_result"
    }
   ],
   "source": [
    "# переименовываю столбец и сбрасываю индексы\n",
    "ecom_7 = ecom_7.rename(columns={\"order_sum\": \"sum\"})\n",
    "ecom_7 = ecom_7.reset_index()\n",
    "ecom_7.head()"
   ]
  },
  {
   "cell_type": "code",
   "execution_count": 60,
   "id": "6ca6a2c1",
   "metadata": {},
   "outputs": [
    {
     "name": "stderr",
     "output_type": "stream",
     "text": [
      "C:\\Users\\veron\\AppData\\Local\\Temp\\ipykernel_11908\\1656990186.py:2: FutureWarning: Indexing with multiple keys (implicitly converted to a tuple of keys) will be deprecated, use a list instead.\n",
      "  ecom_8 = (ecom_7.groupby(['year_month'])['year_month', 'sum']\n"
     ]
    }
   ],
   "source": [
    "# группирую данные для расчёта среднего чека помесячно\n",
    "ecom_8 = (ecom_7.groupby(['year_month'])['year_month', 'sum']\n",
    "                .agg({'sum': 'mean'})\n",
    "                .sort_values(by='year_month', ascending=False))"
   ]
  },
  {
   "cell_type": "code",
   "execution_count": 61,
   "id": "342deb68",
   "metadata": {},
   "outputs": [],
   "source": [
    "# переименовываю столбец и сбрасываю индексы\n",
    "ecom_8 = ecom_8.rename(columns={\"sum\": \"mean\"})\n",
    "ecom_8 = ecom_8.reset_index()"
   ]
  },
  {
   "cell_type": "code",
   "execution_count": 62,
   "id": "e6f35100",
   "metadata": {},
   "outputs": [
    {
     "data": {
      "text/html": [
       "<div>\n",
       "<style scoped>\n",
       "    .dataframe tbody tr th:only-of-type {\n",
       "        vertical-align: middle;\n",
       "    }\n",
       "\n",
       "    .dataframe tbody tr th {\n",
       "        vertical-align: top;\n",
       "    }\n",
       "\n",
       "    .dataframe thead th {\n",
       "        text-align: right;\n",
       "    }\n",
       "</style>\n",
       "<table border=\"1\" class=\"dataframe\">\n",
       "  <thead>\n",
       "    <tr style=\"text-align: right;\">\n",
       "      <th></th>\n",
       "      <th>year_month</th>\n",
       "      <th>mean</th>\n",
       "    </tr>\n",
       "  </thead>\n",
       "  <tbody>\n",
       "    <tr>\n",
       "      <th>0</th>\n",
       "      <td>2020-01</td>\n",
       "      <td>646.98</td>\n",
       "    </tr>\n",
       "    <tr>\n",
       "      <th>1</th>\n",
       "      <td>2019-12</td>\n",
       "      <td>824.74</td>\n",
       "    </tr>\n",
       "    <tr>\n",
       "      <th>2</th>\n",
       "      <td>2019-11</td>\n",
       "      <td>593.51</td>\n",
       "    </tr>\n",
       "    <tr>\n",
       "      <th>3</th>\n",
       "      <td>2019-10</td>\n",
       "      <td>984.63</td>\n",
       "    </tr>\n",
       "    <tr>\n",
       "      <th>4</th>\n",
       "      <td>2019-09</td>\n",
       "      <td>962.47</td>\n",
       "    </tr>\n",
       "  </tbody>\n",
       "</table>\n",
       "</div>"
      ],
      "text/plain": [
       "  year_month    mean\n",
       "0    2020-01  646.98\n",
       "1    2019-12  824.74\n",
       "2    2019-11  593.51\n",
       "3    2019-10  984.63\n",
       "4    2019-09  962.47"
      ]
     },
     "execution_count": 62,
     "metadata": {},
     "output_type": "execute_result"
    }
   ],
   "source": [
    "# округляю значения столбца до двух знаков после запятой\n",
    "ecom_8['mean'] = round(ecom_8['mean'], 2)\n",
    "ecom_8 = ecom_8.sort_values(by='year_month', ascending=False)\n",
    "ecom_8.head()"
   ]
  },
  {
   "cell_type": "code",
   "execution_count": null,
   "id": "f0141345",
   "metadata": {},
   "outputs": [],
   "source": [
    "ecom_8.plot(x='year_month', y='mean', style='o-', figsize=(10, 10), grid=True)\n",
    "\n",
    "plt.xlabel('Год и месяц')  \n",
    "plt.title('Средний чек')  \n",
    "plt.title('Динамика среднего чека по месяцам')  \n",
    "plt.ylim(ymin=0)\n",
    "plt.show()"
   ]
  },
  {
   "cell_type": "markdown",
   "id": "42bf9fc7",
   "metadata": {},
   "source": [
    "# Промежуточный вывод 2.3.2:\n",
    "\n",
    "Рассчитала средний чек заказа в разрезе месяцев.\n",
    "\n",
    "Построила график динамики среднего чека по месяцам.\n",
    "\n",
    "По графику можно сделать вывод, что средний чек интернет-магазина снижается (В октябре 2018 года средний чек заказа был 1 419.54, а в янаваре 2020 года - 646,98). "
   ]
  },
  {
   "cell_type": "markdown",
   "id": "1d40c4e6",
   "metadata": {},
   "source": [
    "#### Помесячная динамика средней выручки с покупателя"
   ]
  },
  {
   "cell_type": "code",
   "execution_count": null,
   "id": "6c78d957",
   "metadata": {},
   "outputs": [],
   "source": [
    "# группирую данные по месяцам и покупателям для расчёта динамики средней выручки с покупателя и построения графика\n",
    "ecom_9 = ecom_2.groupby(['year_month', 'customer_id'])['year_month', 'customer_id', 'order_sum'].agg({'order_sum': 'sum'})\n",
    "ecom_9"
   ]
  },
  {
   "cell_type": "code",
   "execution_count": null,
   "id": "69b67f0a",
   "metadata": {},
   "outputs": [],
   "source": [
    "# переименовываю столбец и сбрасываю индексы\n",
    "ecom_9 = ecom_9.rename(columns={\"order_sum\": \"sum\"})\n",
    "ecom_9 = ecom_9.reset_index()"
   ]
  },
  {
   "cell_type": "code",
   "execution_count": null,
   "id": "6a9978bf",
   "metadata": {},
   "outputs": [],
   "source": [
    "# группирую данные по месяцам и рассчитываю среднюю выручку с покупателя\n",
    "ecom_9 = (ecom_9.groupby(['year_month'])['year_month', 'sum']\n",
    "                  .agg({'sum': 'mean'})\n",
    "                  .sort_values(by='year_month', ascending=False))"
   ]
  },
  {
   "cell_type": "code",
   "execution_count": null,
   "id": "1d58dcb2",
   "metadata": {},
   "outputs": [],
   "source": [
    "# переименовываю столбец и сбрасываю индексы\n",
    "ecom_9 = ecom_9.rename(columns={\"sum\": \"mean\"})\n",
    "ecom_9 = ecom_9.reset_index()"
   ]
  },
  {
   "cell_type": "code",
   "execution_count": null,
   "id": "409bcc4d",
   "metadata": {},
   "outputs": [],
   "source": [
    "# данные столбца округляю до двух знаков после запятой\n",
    "ecom_9['mean'] = round(ecom_9['mean'], 2)\n",
    "ecom_9.head()"
   ]
  },
  {
   "cell_type": "code",
   "execution_count": null,
   "id": "fb7899d1",
   "metadata": {},
   "outputs": [],
   "source": [
    "# строю график средней выручки с покупателя по месяцам\n",
    "ecom_9.plot(x='year_month', y='mean', style='o-', figsize=(10, 10), grid=True)\n",
    "\n",
    "plt.xlabel('Год и месяц')  \n",
    "plt.title('Средняя выручка с покупателя по месяцам')  \n",
    "plt.ylim(ymin=0)\n",
    "plt.show()"
   ]
  },
  {
   "cell_type": "markdown",
   "id": "5b01fdb1",
   "metadata": {},
   "source": [
    "# Промежуточный вывод 2.3.3:\n",
    "\n",
    "Рассчитала среднюю выручку с покупателя в разрезе месяцев.\n",
    "\n",
    "Построила график динамики средней выручки от каждого покупателя по месяцам.\n",
    "\n",
    "По графику можно сделать вывод, что выручка с каждого покупателя интернет-магазина снижается (В октябре 2018 года средний чек заказа был 1 871.22, а в янаваре 2020 года - 646.98). "
   ]
  },
  {
   "cell_type": "markdown",
   "id": "5535702b",
   "metadata": {},
   "source": [
    "### Сегментирование покупателей на основе истории их покупок (сегментация покупателей, анализ сегментов (количество покупателей, средний чек, основные продукты и категории), анализ категорий товаров(помесячно) и их сезонность по выделенным сегментам покупателей) и построение графиков для каждого сегмента по продажам категорий товаров.\n",
    "\n",
    "#### Сегментация покупателей с помощью RFM-анализа"
   ]
  },
  {
   "cell_type": "markdown",
   "id": "e770af0c",
   "metadata": {},
   "source": [
    "# Разделение покупателей не сегменты\n",
    "\n",
    "Для Recency: \n",
    "\n",
    "1 – клиенты, которые совершали покупки очень давно (больше 6 месяцев от максимальной даты покупки);\n",
    "\n",
    "2 – относительно недавние клиенты (от 2 до 6 месяцев от максимальной даты покупки (включительно));\n",
    "\n",
    "3 – только пришедшие клиенты (до 2 месяцев от максимальной даты покупки (включительно)).\n",
    "\n",
    "\n",
    "Для Frequency:\n",
    "\n",
    "1 – клиент совершает очень мало покупок, обычно не превосходит единоразового визита (2й квартиль);\n",
    "\n",
    "2 – клиент приходит за покупками, но крайне редко (больше 2го квартиля, но меньше 3го квартиля);\n",
    "\n",
    "3 - клиент регулярно приходит за покупками (больше 3го квартиля).\n",
    "\n",
    "\n",
    "Для Monetary:\n",
    "\n",
    "1 – небольшая сумма покупки (меньше 2го квартиля);\n",
    "\n",
    "2 – средние затраты (от 2го квартиля(включительно) до 3го квартиля );\n",
    "\n",
    "3 – крупная сумма, которую потратил клиент на товар или услугу компании (больше либо равно 3му квартилю)."
   ]
  },
  {
   "cell_type": "code",
   "execution_count": null,
   "id": "c70c6d1c",
   "metadata": {},
   "outputs": [],
   "source": [
    "ecom_2.info()"
   ]
  },
  {
   "cell_type": "code",
   "execution_count": null,
   "id": "6f56882b",
   "metadata": {},
   "outputs": [],
   "source": [
    "ecom_2['date_time_1'] = ecom_2['date_time'].dt.round('1D')"
   ]
  },
  {
   "cell_type": "code",
   "execution_count": null,
   "id": "c6391cab",
   "metadata": {},
   "outputs": [],
   "source": [
    "# группирую данные для сегментирования покупателей по количеству покупок\n",
    "ecom_11 = ecom_2.groupby(['customer_id'])['customer_id', 'order_id', 'order_sum'].agg({'order_id': 'count', 'order_sum': 'sum'})"
   ]
  },
  {
   "cell_type": "code",
   "execution_count": null,
   "id": "72be1ad3",
   "metadata": {},
   "outputs": [],
   "source": [
    "# переименовываю столбцы и сбрасываю индексы\n",
    "ecom_11 = ecom_11.rename(columns={\"order_id\": \"count_order\", \"order_sum\": \"sum\"})\n",
    "ecom_11 = ecom_11.reset_index()\n",
    "ecom_11.head()"
   ]
  },
  {
   "cell_type": "code",
   "execution_count": null,
   "id": "a3ce71c4",
   "metadata": {},
   "outputs": [],
   "source": [
    "ecom_2.info()"
   ]
  },
  {
   "cell_type": "code",
   "execution_count": null,
   "id": "12dde0a8",
   "metadata": {},
   "outputs": [],
   "source": [
    "# получаю последнюю дату заказа для каждого покупателя\n",
    "ecom_2['date_time'] = pd.to_datetime(ecom_2['date_time'])\n",
    "ecom_2['most_recent_date'] = ecom_2.groupby(['customer_id'])['date_time'].transform('max')"
   ]
  },
  {
   "cell_type": "code",
   "execution_count": null,
   "id": "03f63e42",
   "metadata": {},
   "outputs": [],
   "source": [
    "ecom_2 = ecom_2.sort_values(by='most_recent_date', ascending=False)"
   ]
  },
  {
   "cell_type": "code",
   "execution_count": null,
   "id": "91e88890",
   "metadata": {},
   "outputs": [],
   "source": [
    "# нахожу необходимые даты покупок для сегментирования покупателей в зависимости от даты их последней покупки\n",
    "max_date = ecom_2['most_recent_date'].max() \n",
    "max_date_whithout_2_month = max_date - relativedelta(months=2)\n",
    "max_date_whithout_3_month = max_date - relativedelta(months=3)\n",
    "max_date_whithout_6_month = max_date - relativedelta(months=6)\n",
    "print('Последняя дата покупки в интернет магазине:', max_date)\n",
    "print('Дата покупки 2 месяца от максимальной даты в интернет магазине:', max_date_whithout_2_month)\n",
    "print('Дата покупки 3 месяца от максимальной даты в интернет магазине:', max_date_whithout_3_month)\n",
    "print('Дата покупки 6 месяцев от максимальной даты в интернет магазине:', max_date_whithout_6_month)"
   ]
  },
  {
   "cell_type": "code",
   "execution_count": null,
   "id": "3a0303bf",
   "metadata": {},
   "outputs": [],
   "source": [
    "# сегментирую покупателей интернет магазина в зависимости от даты их последней покупки\n",
    "def recency(most_recent_date):\n",
    "    if most_recent_date <  max_date_whithout_6_month:\n",
    "        return '1'\n",
    "    if most_recent_date >=  max_date_whithout_2_month:\n",
    "        return '3'\n",
    "    else:\n",
    "        return '2'\n",
    "\n",
    "ecom_2['recency'] = ecom_2['most_recent_date'].apply(recency) "
   ]
  },
  {
   "cell_type": "code",
   "execution_count": null,
   "id": "f3bc6c63",
   "metadata": {},
   "outputs": [],
   "source": [
    "ecom_11['count_order'].describe()"
   ]
  },
  {
   "cell_type": "code",
   "execution_count": null,
   "id": "02f5ca35",
   "metadata": {},
   "outputs": [],
   "source": [
    "# считаю квартили для сегментирования покупателей по количеству заказов\n",
    "Q1_order = np.quantile(ecom_11['count_order'], 0.25) \n",
    "Q2_order = np.quantile(ecom_11['count_order'], 0.5) \n",
    "Q3_order = np.quantile(ecom_11['count_order'], 0.75) \n",
    "\n",
    " \n",
    "print(f\"Q1_order (25-й процентиль): {Q1_order}\") \n",
    "print(f\"Q2_order (50-й процентиль): {Q2_order}\") \n",
    "print(f\"Q3_order (75-й процентиль): {Q3_order}\") "
   ]
  },
  {
   "cell_type": "code",
   "execution_count": null,
   "id": "99e8d30d",
   "metadata": {},
   "outputs": [],
   "source": [
    "ecom_11.head()"
   ]
  },
  {
   "cell_type": "code",
   "execution_count": null,
   "id": "4a517718",
   "metadata": {},
   "outputs": [],
   "source": [
    "# сегментирую покупателей по количеству заказов на каждого\n",
    "def frequency(count_order):\n",
    "    if count_order == Q2_order:\n",
    "        return '1'\n",
    "    if count_order > Q3_order:\n",
    "        return '3'\n",
    "    else:\n",
    "        return '2'\n",
    "    \n",
    "ecom_11['frequency'] = ecom_11['count_order'].apply(frequency) \n",
    "ecom_11.head()"
   ]
  },
  {
   "cell_type": "code",
   "execution_count": null,
   "id": "ceda5714",
   "metadata": {},
   "outputs": [],
   "source": [
    "# рассчитывают 1й квартиль в столбце с выручкой по каждому покупателю\n",
    "Q1_sum = np.quantile(ecom_11['sum'], 0.25) \n",
    "print(f\"Q1_sum (25-й процентиль): {Q1_sum}\")  "
   ]
  },
  {
   "cell_type": "code",
   "execution_count": null,
   "id": "df6851a4",
   "metadata": {},
   "outputs": [],
   "source": [
    "# рассчитывают 2й квартиль в столбце с выручкой по каждому покупателю\n",
    "Q2_sum = np.quantile(ecom_11['sum'], 0.5) \n",
    "print(f\"Q2_sum (50-й процентиль): {Q2_sum}\")  "
   ]
  },
  {
   "cell_type": "code",
   "execution_count": null,
   "id": "c917398e",
   "metadata": {},
   "outputs": [],
   "source": [
    "# рассчитывают 3й квартиль в столбце с выручкой по каждому покупателю\n",
    "Q3_sum = np.quantile(ecom_11['sum'], 0.75) \n",
    "print(f\"Q3_sum (75-й процентиль): {Q3_sum}\")  "
   ]
  },
  {
   "cell_type": "code",
   "execution_count": null,
   "id": "a74ed4cd",
   "metadata": {
    "scrolled": false
   },
   "outputs": [],
   "source": [
    "# сегментирую покупателей по выручке\n",
    "def monetary(sum):\n",
    "    if sum < Q2_sum:\n",
    "        return '1'\n",
    "    if sum >= Q3_sum:\n",
    "        return '3'\n",
    "    else:\n",
    "        return '2'\n",
    "\n",
    "ecom_11['monetary'] = ecom_11['sum'].apply(monetary) \n",
    "ecom_11.head()"
   ]
  },
  {
   "cell_type": "markdown",
   "id": "e14a36dc",
   "metadata": {},
   "source": [
    "# Промежуточный выод 2.4.1:\n",
    "\n",
    "Произвела сегментацию покупателей по трём параметрам: recency, frequency и monetary."
   ]
  },
  {
   "cell_type": "markdown",
   "id": "808205ce",
   "metadata": {},
   "source": [
    "#### Анализ количества покупателей по сегментам"
   ]
  },
  {
   "cell_type": "code",
   "execution_count": null,
   "id": "b8934c67",
   "metadata": {},
   "outputs": [],
   "source": [
    "# группирую данные для подсчёта количества покупателей по каждому сегменту по параметру recency\n",
    "ecom_13 = ecom_2.groupby(['recency', 'customer_id'])['recency', 'customer_id'].agg({'customer_id': 'count'})\n",
    "ecom_13"
   ]
  },
  {
   "cell_type": "code",
   "execution_count": null,
   "id": "10de205b",
   "metadata": {},
   "outputs": [],
   "source": [
    "# переименовываю столбец и сбрасываю индексы\n",
    "ecom_13 = ecom_13.rename(columns={\"customer_id\": \"customer_id_count\"})\n",
    "ecom_13 = ecom_13.reset_index()"
   ]
  },
  {
   "cell_type": "code",
   "execution_count": null,
   "id": "689790c9",
   "metadata": {},
   "outputs": [],
   "source": [
    "# группирую данные для подсчёта количества покупателей по каждому сегменту по параметру recency\n",
    "ecom_13 = ecom_13.groupby(['recency'])['recency', 'customer_id'].agg({'customer_id': 'count'})"
   ]
  },
  {
   "cell_type": "code",
   "execution_count": null,
   "id": "6e850098",
   "metadata": {},
   "outputs": [],
   "source": [
    "# переименовываю столбец и сбрасываю индексы\n",
    "ecom_13 = ecom_13.rename(columns={\"customer_id\": \"customer_id_count\"})\n",
    "ecom_13 = ecom_13.reset_index()\n",
    "ecom_13"
   ]
  },
  {
   "cell_type": "code",
   "execution_count": null,
   "id": "f5130b17",
   "metadata": {},
   "outputs": [],
   "source": [
    "# строим столбчатую диаграмму \n",
    "fig = px.bar(ecom_13.sort_values(by='customer_id_count', ascending=True), # загружаем данные и заново их сортируем\n",
    "             x='customer_id_count', # указываем столбец с данными для оси X\n",
    "             y='recency', # указываем столбец с данными для оси Y\n",
    "             text='customer_id_count' # добавляем аргумент, который отобразит текст с информацией\n",
    "                                # о количестве объявлений внутри столбца графика\n",
    "            )\n",
    "# оформляем график\n",
    "fig.update_layout(title='Количество покупателей по сегментам по давности последней покупки',\n",
    "                   xaxis_title='Количество покупателей в сегменте',\n",
    "                   yaxis_title='Наименование сегмента')\n",
    "fig.show() # выводим график"
   ]
  },
  {
   "cell_type": "code",
   "execution_count": null,
   "id": "09da297f",
   "metadata": {},
   "outputs": [],
   "source": [
    "# строю диаграмму зависимости количества покупателей от месяца в разрезе сегментов\n",
    "ecom_14 = ecom_2.pivot_table(\n",
    "    index='year_month', \n",
    "    columns='recency', \n",
    "    values='customer_id', \n",
    "    aggfunc='count'\n",
    ")\n",
    "\n",
    "# Используем .plot() с kind='bar'\n",
    "ecom_14.plot(kind='bar', figsize=(10, 5))\n",
    "\n",
    "plt.title('Диаграмма зависимости количества покупателей от месяца в разрезе сегментов')\n",
    "plt.xlabel('Месяц', color='red')\n",
    "plt.ylabel('Количество покупателей', color='green')\n",
    "plt.show()"
   ]
  },
  {
   "cell_type": "markdown",
   "id": "77d47588",
   "metadata": {},
   "source": [
    "# Промежуточный вывод 2.4.2 recency:\n",
    "\n",
    "Рассчитала количество покупателей в каждом сегменте в зависимости от давности последней покупки:\n",
    "- Сегмент 1 – клиенты, которые совершали покупки очень давно (больше 6 месяцев от максимальной даты покупки) - 1 281 покупателя;\n",
    "\n",
    "- Сегмент 2 – относительно недавние клиенты (от 2 до 6 месяцев от максимальной даты покупки (включительно)) - 600 покупателей;\n",
    "\n",
    "- Сегмент 3 – только пришедшие клиенты (до 2 месяцев от максимальной даты покупки (включительно)) - 518 покупателей.\n",
    "\n",
    "Т.е. покупателей, которых я отнесла к только пришедшим (с последней покупкой до 2 месяцев назад) 518 - это 21.59 % от общего числа покупателей). Примечательно, что некоторые покупатели данного сегмента совершают покупки с 01-2019."
   ]
  },
  {
   "cell_type": "code",
   "execution_count": null,
   "id": "9e3732d6",
   "metadata": {},
   "outputs": [],
   "source": [
    "# группирую данные для подсчёта количества покупателей по каждому сегменту по параметру frequency\n",
    "ecom_15 = ecom_11.groupby(['frequency'])['frequency', 'customer_id'].agg({'customer_id': 'count'})"
   ]
  },
  {
   "cell_type": "code",
   "execution_count": null,
   "id": "c3dc82a6",
   "metadata": {},
   "outputs": [],
   "source": [
    "# переименовываю столбец и сбрасываю индексы\n",
    "ecom_15 =ecom_15.rename(columns={\"customer_id\": \"customer_id_count\"})\n",
    "ecom_15 = ecom_15.reset_index()\n",
    "ecom_15"
   ]
  },
  {
   "cell_type": "code",
   "execution_count": null,
   "id": "f91f383d",
   "metadata": {},
   "outputs": [],
   "source": [
    "# строим столбчатую диаграмму \n",
    "fig = px.bar(ecom_15.sort_values(by='customer_id_count', ascending=True), # загружаем данные и заново их сортируем\n",
    "             x='customer_id_count', # указываем столбец с данными для оси X\n",
    "             y='frequency', # указываем столбец с данными для оси Y\n",
    "             text='customer_id_count' # добавляем аргумент, который отобразит текст с информацией\n",
    "                                # о количестве объявлений внутри столбца графика\n",
    "            )\n",
    "# оформляем график\n",
    "fig.update_layout(title='Количество покупателей по сегментам по количеству покупок',\n",
    "                   xaxis_title='Количество покупателей в сегменте',\n",
    "                   yaxis_title='Наименование сегмента')\n",
    "fig.show() # выводим график"
   ]
  },
  {
   "cell_type": "markdown",
   "id": "a252a959",
   "metadata": {},
   "source": [
    "# Промежуточный вывод 2.4.2 frequency:\n",
    "\n",
    "Рассчитала количество покупателей в каждом сегменте в зависимости от количества покупок:\n",
    "\n",
    "- Сегмент 1 – клиент совершает очень мало покупок, обычно не превосходит единоразового визита (1 покупка) - 1 207;\n",
    "\n",
    "- Сегмент 2 – клиент приходит за покупками, но крайне редко (2 покупки) - 912,\n",
    "\n",
    "- Сегмент 3 – клиент приходит за покупками, но крайне редко (больше 2 покупок) - 280."
   ]
  },
  {
   "cell_type": "code",
   "execution_count": null,
   "id": "ffe4ca4d",
   "metadata": {},
   "outputs": [],
   "source": [
    "# группирую данные для подсчёта количества покупателей по каждому сегменту по параметру monetary\n",
    "ecom_16 = ecom_11.groupby(['monetary'])['monetary', 'customer_id'].agg({'customer_id': 'count'})"
   ]
  },
  {
   "cell_type": "code",
   "execution_count": null,
   "id": "85ec47d5",
   "metadata": {},
   "outputs": [],
   "source": [
    "# переименовываю столбец и сбрасываю индексы\n",
    "ecom_16 = ecom_16.rename(columns={\"customer_id\": \"customer_id_count\"})\n",
    "ecom_16 = ecom_16.reset_index()\n",
    "ecom_16"
   ]
  },
  {
   "cell_type": "code",
   "execution_count": null,
   "id": "334c1dfb",
   "metadata": {},
   "outputs": [],
   "source": [
    "# строим столбчатую диаграмму \n",
    "fig = px.bar(ecom_16.sort_values(by='customer_id_count', ascending=True), # загружаем данные и заново их сортируем\n",
    "             x='customer_id_count', # указываем столбец с данными для оси X\n",
    "             y='monetary', # указываем столбец с данными для оси Y\n",
    "             text='customer_id_count' # добавляем аргумент, который отобразит текст с информацией\n",
    "                                # о количестве объявлений внутри столбца графика\n",
    "            )\n",
    "# оформляем график\n",
    "fig.update_layout(title='Количество покупателей по сегментам по выручке по каждому покупателю',\n",
    "                   xaxis_title='Количество покупателей в сегменте',\n",
    "                   yaxis_title='Наименование сегмента')\n",
    "fig.show() # выводим график"
   ]
  },
  {
   "cell_type": "markdown",
   "id": "98b99a77",
   "metadata": {},
   "source": [
    "# Промежуточный вывод 2.4.2 monetary:\n",
    "\n",
    "Рассчитала количество покупателей в каждом сегменте в зависимости от суммы выручки по каждому покупателю:\n",
    "\n",
    "1 – небольшая сумма покупки (меньше 2го квартиля - 824.0) - 1 192 покупателей;\n",
    "\n",
    "2 – средние затраты (от 2го квартиля до 3го квартиля (включительно)) - 607 покупателей;\n",
    "\n",
    "3 – крупная сумма, которую потратил клиент на товар или услугу компании (больше 3го квартиля - 1 761.75) - 600 покупателя.\n",
    "\n",
    "Т.е. покупателей, которых я отнесла к сегменту с крупными суммами выручки 600 - это 25.01 % от общего числа покупателей."
   ]
  },
  {
   "cell_type": "markdown",
   "id": "8cd366dc",
   "metadata": {},
   "source": [
    "#### Анализ среднего чека по сегментам"
   ]
  },
  {
   "cell_type": "code",
   "execution_count": null,
   "id": "9cbfbd1e",
   "metadata": {},
   "outputs": [],
   "source": [
    "# группирую данные для расчёта среднего чека помесячно по сегментам по параметру recency\n",
    "ecom_17 = (ecom_2.groupby(['year_month', 'customer_id', 'order_id', 'recency'])['year_month', 'customer_id', 'order_id', 'recency', 'order_sum']\n",
    "                .agg({'order_sum': 'sum'}))"
   ]
  },
  {
   "cell_type": "code",
   "execution_count": null,
   "id": "863023c7",
   "metadata": {},
   "outputs": [],
   "source": [
    "# переименовываю столбец и сбрасываю индексы\n",
    "ecom_17 = ecom_17.rename(columns={\"order_sum\": \"order_sum\"})\n",
    "ecom_17 = ecom_17.reset_index()\n",
    "ecom_17.head()"
   ]
  },
  {
   "cell_type": "code",
   "execution_count": null,
   "id": "c4a3f32c",
   "metadata": {},
   "outputs": [],
   "source": [
    "# строю диаграмму зависимости среднего чека от месяца в разрезе сегментов по параметру recency\n",
    "ecom_18 = ecom_17.pivot_table(\n",
    "    index='year_month', \n",
    "    columns='recency', \n",
    "    values='order_sum', \n",
    "    aggfunc='mean'\n",
    ")\n",
    "\n",
    "# Используем .plot() с kind='bar'\n",
    "ecom_18.plot(kind='bar', figsize=(10, 5))\n",
    "\n",
    "plt.title('Диаграмма зависимости среднего чека от месяца в разрезе сегментов по параметру recency')\n",
    "plt.xlabel('Месяц', color='red')\n",
    "plt.ylabel('Средний чек', color='green')\n",
    "plt.show()"
   ]
  },
  {
   "cell_type": "markdown",
   "id": "a111064c",
   "metadata": {},
   "source": [
    "# Промежуточный вывод 2.4.3 по сегментам по параметру recency:\n",
    "\n",
    "Рассчитала средний чек помесячно по сегментам по параметру recency.\n",
    "\n",
    "Построила диаграмму зависимости среднего чека от месяца в разрезе сегментов.\n",
    "\n",
    "Самый высокий средний чек зафиксирован в Сегменте 3 в ноябре 2019 года (может быть связано с предновогодними покупками). "
   ]
  },
  {
   "cell_type": "code",
   "execution_count": null,
   "id": "5ce67874",
   "metadata": {},
   "outputs": [],
   "source": [
    "# группирую данные по сегментам по параметру recency для расчёта среднего чека\n",
    "ecom_18 = ecom_17.groupby(['recency'])['recency', 'order_sum'].agg({'order_sum': 'mean'})"
   ]
  },
  {
   "cell_type": "code",
   "execution_count": null,
   "id": "6667ca0d",
   "metadata": {},
   "outputs": [],
   "source": [
    "# переименовываю столбец и сбрасываю индексы\n",
    "ecom_18 = ecom_18.rename(columns={\"order_sum\": \"mean_order_sum\"})\n",
    "ecom_18 = ecom_18.reset_index()"
   ]
  },
  {
   "cell_type": "code",
   "execution_count": null,
   "id": "950d30d0",
   "metadata": {},
   "outputs": [],
   "source": [
    "# округляю среднее значение чека до двух знаков после запятой\n",
    "ecom_18['mean_order_sum'] = round(ecom_18['mean_order_sum'], 2)\n",
    "ecom_18"
   ]
  },
  {
   "cell_type": "code",
   "execution_count": null,
   "id": "09552683",
   "metadata": {},
   "outputs": [],
   "source": [
    "# строим столбчатую диаграмму \n",
    "fig = px.bar(ecom_18.sort_values(by='mean_order_sum', ascending=True), # загружаем данные и заново их сортируем\n",
    "             x='mean_order_sum', # указываем столбец с данными для оси X\n",
    "             y='recency', # указываем столбец с данными для оси Y\n",
    "             text='mean_order_sum' # добавляем аргумент, который отобразит текст с информацией\n",
    "                                # о количестве объявлений внутри столбца графика\n",
    "            )\n",
    "# оформляем график\n",
    "fig.update_layout(title='Средний чек по сегментам',\n",
    "                   xaxis_title='Средний чек',\n",
    "                   yaxis_title='Наименование сегмента')\n",
    "fig.show() # выводим график"
   ]
  },
  {
   "cell_type": "markdown",
   "id": "52e850a6",
   "metadata": {},
   "source": [
    "# Промежуточный вывод 2.4.3 по сегментам по параметру recency:\n",
    "\n",
    "Рассчитала средний чек в каждом сегменте по параметру recency и построила диаграмму:\n",
    "- 1 - 1 232.6,\n",
    "- 2 - 935.64,\n",
    "- 3 - 873.99.\n",
    "\n",
    "Т.е. самый высокий средний чек у покупателей из сегмента 1 (совершавшие покупки больше 6 месяцев назад), следом идёт сегмент 2. "
   ]
  },
  {
   "cell_type": "markdown",
   "id": "48563790",
   "metadata": {},
   "source": [
    "# Добавляю знячения сегментирования по параметрам frequency и monetary в общую таблицу"
   ]
  },
  {
   "cell_type": "code",
   "execution_count": null,
   "id": "adee743d",
   "metadata": {},
   "outputs": [],
   "source": [
    "# удаляю из ecom_11 не нужные для соединения столбцы\n",
    "ecom_19 = ecom_11.drop(['count_order', 'sum', 'monetary'], axis=1)\n",
    "ecom_19"
   ]
  },
  {
   "cell_type": "code",
   "execution_count": null,
   "id": "238c5680",
   "metadata": {
    "scrolled": true
   },
   "outputs": [],
   "source": [
    "# добавляю к ecom_2 сегментирование по параметру frequency\n",
    "ecom_20 = pd.merge(ecom_2, ecom_19, on='customer_id', how='left')"
   ]
  },
  {
   "cell_type": "code",
   "execution_count": null,
   "id": "170c9713",
   "metadata": {},
   "outputs": [],
   "source": [
    "# удаляю из ecom_11 не нужные для соединения столбцы\n",
    "ecom_21 = ecom_11.drop(['count_order', 'sum', 'frequency'], axis=1)\n",
    "ecom_21"
   ]
  },
  {
   "cell_type": "code",
   "execution_count": null,
   "id": "53f2d6a5",
   "metadata": {
    "scrolled": true
   },
   "outputs": [],
   "source": [
    "# добавляю к ecom_20 сегментирование по параметру monetary\n",
    "ecom_20 = pd.merge(ecom_20, ecom_21, on='customer_id', how='left')"
   ]
  },
  {
   "cell_type": "code",
   "execution_count": null,
   "id": "6a1e3031",
   "metadata": {},
   "outputs": [],
   "source": [
    "# добавляю пояснительные стольдцы по параметру monetary\n",
    "def monetary_name(monetary):\n",
    "    if monetary == \"1\":\n",
    "        return 'Покупатели с min выручкой'\n",
    "    if monetary == \"2\":\n",
    "        return 'Покупатели с avg выручкой'\n",
    "    else:\n",
    "        return 'Покупатели с max выручкой'\n",
    "\n",
    "ecom_20['monetary_name'] = ecom_20['monetary'].apply(monetary_name) "
   ]
  },
  {
   "cell_type": "markdown",
   "id": "f58ea298",
   "metadata": {},
   "source": [
    "# Подготавливаю данные для расчёта среднего чека и построения диаграммы для сегментов покупателей по параметру frequency"
   ]
  },
  {
   "cell_type": "code",
   "execution_count": null,
   "id": "68ce54f5",
   "metadata": {},
   "outputs": [],
   "source": [
    "# группирую данные по сегментам по параметру frequency для расчёта среднего чека\n",
    "ecom_22 = ecom_20.groupby(['order_id', 'frequency'])['order_id', 'frequency', 'order_sum'].agg({'order_sum': 'sum'})"
   ]
  },
  {
   "cell_type": "code",
   "execution_count": null,
   "id": "76515d1f",
   "metadata": {},
   "outputs": [],
   "source": [
    "# переименовываю столбец и сбрасываю индексы\n",
    "ecom_22 = ecom_22.rename(columns={\"order_sum\": \"order_sum\"})\n",
    "ecom_22 = ecom_22.reset_index()"
   ]
  },
  {
   "cell_type": "code",
   "execution_count": null,
   "id": "d461f02c",
   "metadata": {},
   "outputs": [],
   "source": [
    "# группирую данные по сегментам по параметру frequency для расчёта среднего чека\n",
    "ecom_22 = ecom_22.groupby(['frequency'])['frequency', 'order_sum'].agg({'order_sum': 'mean'})"
   ]
  },
  {
   "cell_type": "code",
   "execution_count": null,
   "id": "f929c3a8",
   "metadata": {},
   "outputs": [],
   "source": [
    "# переименовываю столбец и сбрасываю индексы\n",
    "ecom_22 = ecom_22.rename(columns={\"order_sum\": \"mean_order_sum\"})\n",
    "ecom_22 = ecom_22.reset_index()"
   ]
  },
  {
   "cell_type": "code",
   "execution_count": null,
   "id": "fb55666c",
   "metadata": {},
   "outputs": [],
   "source": [
    "# округляю среднее значение чека до двух знаков после запятой\n",
    "ecom_22['mean_order_sum'] = round(ecom_22['mean_order_sum'], 2)\n",
    "ecom_22"
   ]
  },
  {
   "cell_type": "code",
   "execution_count": null,
   "id": "26eb09ba",
   "metadata": {
    "scrolled": true
   },
   "outputs": [],
   "source": [
    "# строим столбчатую диаграмму \n",
    "fig = px.bar(ecom_22.sort_values(by='mean_order_sum', ascending=True), # загружаем данные и заново их сортируем\n",
    "             x='mean_order_sum', # указываем столбец с данными для оси X\n",
    "             y='frequency', # указываем столбец с данными для оси Y\n",
    "             text='mean_order_sum' # добавляем аргумент, который отобразит текст с информацией\n",
    "                                # о количестве объявлений внутри столбца графика\n",
    "            )\n",
    "# оформляем график\n",
    "fig.update_layout(title='Средний чек по сегментам по параметру frequency(количество покупок на покупателя)',\n",
    "                   xaxis_title='Средний чек',\n",
    "                   yaxis_title='Наименование сегмента')\n",
    "fig.show() # выводим график"
   ]
  },
  {
   "cell_type": "markdown",
   "id": "17e18df4",
   "metadata": {},
   "source": [
    "# Промежуточный вывод 2.4.3 по сегментам по параметру frequency(количество покупок на покупателя):\n",
    "\n",
    "Рассчитала средний чек в каждом сегменте по параметру frequency(количество покупок на покупателя) и построила диаграмму:\n",
    "- Сегмент 1 - средний чек 1 126.51,\n",
    "- Сегмент 2 - средний чек 924.97,\n",
    "- Сегмент 3 - средний чек 1 310.59.\n",
    "\n",
    "Получается у регулярных покупателей самый высокий средний чек."
   ]
  },
  {
   "cell_type": "markdown",
   "id": "255bae7e",
   "metadata": {},
   "source": [
    "# Подготавливаю данные для расчёта среднего чека и построения диаграммы для сегментов покупателей по параметру monetary"
   ]
  },
  {
   "cell_type": "code",
   "execution_count": null,
   "id": "39f8958a",
   "metadata": {},
   "outputs": [],
   "source": [
    "# группирую данные по сегментам по параметру frequency для расчёта среднего чека\n",
    "ecom_23 = ecom_20.groupby(['order_id', 'monetary'])['order_id', 'monetary', 'order_sum'].agg({'order_sum': 'sum'})"
   ]
  },
  {
   "cell_type": "code",
   "execution_count": null,
   "id": "4e7b5127",
   "metadata": {},
   "outputs": [],
   "source": [
    "# переименовываю столбец и сбрасываю индексы\n",
    "ecom_23 = ecom_23.rename(columns={\"order_sum\": \"order_sum\"})\n",
    "ecom_23 = ecom_23.reset_index()"
   ]
  },
  {
   "cell_type": "code",
   "execution_count": null,
   "id": "bc5a332c",
   "metadata": {},
   "outputs": [],
   "source": [
    "# группирую данные по сегментам по параметру frequency для расчёта среднего чека\n",
    "ecom_23 = ecom_23.groupby(['monetary'])['monetary', 'order_sum'].agg({'order_sum': 'mean'})"
   ]
  },
  {
   "cell_type": "code",
   "execution_count": null,
   "id": "15152f8e",
   "metadata": {},
   "outputs": [],
   "source": [
    "# переименовываю столбец и сбрасываю индексы\n",
    "ecom_23 = ecom_23.rename(columns={\"order_sum\": \"mean\"})\n",
    "ecom_23 = ecom_23.reset_index()"
   ]
  },
  {
   "cell_type": "code",
   "execution_count": null,
   "id": "29e5e508",
   "metadata": {},
   "outputs": [],
   "source": [
    "# округляю среднее значение чека до двух знаков после запятой\n",
    "ecom_23['mean'] = round(ecom_23['mean'], 2)\n",
    "ecom_23 "
   ]
  },
  {
   "cell_type": "code",
   "execution_count": null,
   "id": "519da5f7",
   "metadata": {},
   "outputs": [],
   "source": [
    "# строим столбчатую диаграмму \n",
    "fig = px.bar(ecom_23.sort_values(by='mean', ascending=True), # загружаем данные и заново их сортируем\n",
    "             x='mean', # указываем столбец с данными для оси X\n",
    "             y='monetary', # указываем столбец с данными для оси Y\n",
    "             text='mean' # добавляем аргумент, который отобразит текст с информацией\n",
    "                                # о количестве объявлений внутри столбца графика\n",
    "            )\n",
    "# оформляем график\n",
    "fig.update_layout(title='Средний чек по сегментам по параметру monetary(по выручке)',\n",
    "                   xaxis_title='Средний чек',\n",
    "                   yaxis_title='Наименование сегмента')\n",
    "fig.show() # выводим график"
   ]
  },
  {
   "cell_type": "markdown",
   "id": "db1ef8ad",
   "metadata": {},
   "source": [
    "# Промежуточный вывод 2.4.3 по сегментам по параметру monetary(по выручке):\n",
    "\n",
    "Рассчитала средний чек в каждом сегменте по параметру monetary(по выручке) и построила диаграмму:\n",
    "- Сегмент 1 - средний чек 307.9,\n",
    "- Сегмент 2 - средний чек 863.67,\n",
    "- Сегмент 3 - средний чек 2 244.79.\n",
    "\n",
    "Получается закономерно у покупателей, которые приносят наибольшую выручку, имеют наибольшее значение по среднему чеку. "
   ]
  },
  {
   "cell_type": "markdown",
   "id": "497449a7",
   "metadata": {},
   "source": [
    "#### Анализ основных продуктов и категорий по сегментам"
   ]
  },
  {
   "cell_type": "code",
   "execution_count": null,
   "id": "fea08525",
   "metadata": {},
   "outputs": [],
   "source": [
    "# группирую данные по сегментам по параметру recency для анализа основных продуктов и категрий\n",
    "ecom_24 = (ecom_20.groupby(['recency', 'product', 'product_group'])['recency', 'product', 'product_group', 'quantity']\n",
    "                .agg({'quantity': 'sum'}))"
   ]
  },
  {
   "cell_type": "code",
   "execution_count": null,
   "id": "3ff319eb",
   "metadata": {},
   "outputs": [],
   "source": [
    "# переименование столбца и сброс индексов\n",
    "ecom_24 = ecom_24.rename(columns={\"quantity\": \"product_sum\"})\n",
    "ecom_24 = ecom_24.reset_index()"
   ]
  },
  {
   "cell_type": "code",
   "execution_count": null,
   "id": "96a5c36a",
   "metadata": {},
   "outputs": [],
   "source": [
    "# отсортировала столбец по убыванию значений\n",
    "ecom_24 = ecom_24.sort_values(by='product_sum', ascending=False)\n",
    "ecom_24.head(2)"
   ]
  },
  {
   "cell_type": "code",
   "execution_count": null,
   "id": "d05480d8",
   "metadata": {},
   "outputs": [],
   "source": [
    "ecom_24['product_sum'].describe()"
   ]
  },
  {
   "cell_type": "code",
   "execution_count": null,
   "id": "da1e7e4d",
   "metadata": {},
   "outputs": [],
   "source": [
    "# выбираю сегмент 1 по параметру recency\n",
    "ecom_25 = ecom_24.query('recency == \"1\"')\n",
    "\n",
    "# рассчитываю 3й квартиль в столбце \n",
    "Q3_1 = np.quantile(ecom_25['product_sum'], 0.75) \n",
    "\n",
    "ecom_25_1 = ecom_25.query('product_sum > @Q3_1')\n",
    "print(f\"Q3_1 (75-й процентиль): {Q3_1}\")  \n",
    "ecom_25_1.head(2)"
   ]
  },
  {
   "cell_type": "code",
   "execution_count": null,
   "id": "db5bd50c",
   "metadata": {},
   "outputs": [],
   "source": [
    "# строим столбчатую диаграмму \n",
    "fig = px.bar(ecom_25_1.sort_values(by='product_sum', ascending=True), # загружаем данные и заново их сортируем\n",
    "             x='product_sum', # указываем столбец с данными для оси X\n",
    "             y='product', # указываем столбец с данными для оси Y\n",
    "             text='product_sum' # добавляем аргумент, который отобразит текст с информацией\n",
    "                                # о количестве объявлений внутри столбца графика\n",
    "            )\n",
    "# оформляем график\n",
    "fig.update_layout(title='Основные товары в сегменте 1 по  параметру recency',\n",
    "                   xaxis_title='Количество единиц проданного товара',\n",
    "                   yaxis_title='Наименование товара')\n",
    "fig.show() # выводим график"
   ]
  },
  {
   "cell_type": "markdown",
   "id": "fdb90d6e",
   "metadata": {},
   "source": [
    "# Промежуточный вывод 2.4.4 сегменте 1 по параметру recency:\n",
    "\n",
    "В сегменте 1 по параметру recency основными являются товары:\n",
    "- щетка-сметка 4-х рядная деревянная 300 мм  - продано 105,\n",
    "- ёрш унитазный с деревянной ручкой , ваир 1712012 - продано 103,\n",
    "- цветок искусственный гвоздика пластиковая один.... - продано 80,\n",
    "- однолетнее растение петуния махровая в кассете - продано 76,\n",
    "- муляж яблоко зеленый 9 см полиуретан...\t- продано 73,\n",
    "- муляж красное яблоко мини полиуретан d-6 см - продано 63,\n",
    "- пеларгония зональная диам. 12 см красная махровая\t- продано 62,\n",
    "- тарелка суповая luminarc океан эклипс 20,5 см\t- продано 60,\n",
    "- пеларгония зональная диам. 12 см сиреневый пол.\t- продано 59,\n",
    "- муляж банан желтый 21 см полиуретан...\t- продано 59."
   ]
  },
  {
   "cell_type": "code",
   "execution_count": null,
   "id": "978a73ed",
   "metadata": {},
   "outputs": [],
   "source": [
    "# группирую данные для построения диаграммы по категориям товаров\n",
    "ecom_25_2 = (ecom_25.groupby(['product_group'])['product_group', 'product_sum']\n",
    "                  .agg({'product_sum': 'sum'})\n",
    "                  .sort_values(by='product_sum', ascending=False))"
   ]
  },
  {
   "cell_type": "code",
   "execution_count": null,
   "id": "deb507e8",
   "metadata": {},
   "outputs": [],
   "source": [
    "# переименовываю столбец и сбрасываю индексы\n",
    "ecom_25_2 = ecom_25_2.rename(columns={\"product_sum\": \"product_group_sum\"})\n",
    "ecom_25_2 = ecom_25_2.reset_index()\n",
    "ecom_25_2"
   ]
  },
  {
   "cell_type": "code",
   "execution_count": null,
   "id": "cd6a9f79",
   "metadata": {},
   "outputs": [],
   "source": [
    "# строим столбчатую диаграмму \n",
    "fig = px.bar(ecom_25_2.sort_values(by='product_group_sum', ascending=True), # загружаем данные и заново их сортируем\n",
    "             x='product_group_sum', # указываем столбец с данными для оси X\n",
    "             y='product_group', # указываем столбец с данными для оси Y\n",
    "             text='product_group_sum' # добавляем аргумент, который отобразит текст с информацией\n",
    "                                # о количестве объявлений внутри столбца графика\n",
    "            )\n",
    "# оформляем график\n",
    "fig.update_layout(title='Основные категории в сегменте 1 по параметру recency',\n",
    "                   xaxis_title='Количество единиц проданного товара по категориям',\n",
    "                   yaxis_title='Наименование категории товаров')\n",
    "fig.show() # выводим график"
   ]
  },
  {
   "cell_type": "markdown",
   "id": "e0b8d6b1",
   "metadata": {},
   "source": [
    "# Промежуточный вывод 2.4.4 сегменте 1 по параметру recency:\n",
    "\n",
    "Рассчитала количество проданных товаров по категориям в сегменте 1 по параметру recency и на основании полученных данных построила диаграмму:\n",
    "- растения - продано 4 100 товаров,\n",
    "- товары для дома - продано 1 343 товаров,\n",
    "- хозяйственные товары и бытовая химия - продано 762 товара,\n",
    "- товары для кухни - продано 621 товар,\n",
    "- товары длительного хранения (мебель и бытовая техника) - продано 220 товаров,\n",
    "- прочее - продано 213 товаров. \n",
    "\n",
    "Т.е. основными категориями можно считать растения, товары для дома и хозяйственные товары и бытовая химия."
   ]
  },
  {
   "cell_type": "code",
   "execution_count": null,
   "id": "f55d1bfc",
   "metadata": {
    "scrolled": false
   },
   "outputs": [],
   "source": [
    "# выбираю сегмент 2 по параметру recency\n",
    "ecom_25_3 = ecom_24.query('recency == \"2\"')\n",
    "\n",
    "# рассчитываю 3й квартиль в столбце \n",
    "Q3_2 = np.quantile(ecom_25_3['product_sum'], 0.75) \n",
    "\n",
    "ecom_25_4 = ecom_25_3.query('product_sum > @Q3_2')\n",
    "print(f\"Q3_2 (75-й процентиль): {Q3_2}\")  \n",
    "ecom_25_4.head(3)"
   ]
  },
  {
   "cell_type": "code",
   "execution_count": null,
   "id": "97b66115",
   "metadata": {},
   "outputs": [],
   "source": [
    "# строим столбчатую диаграмму \n",
    "fig = px.bar(ecom_25_4.sort_values(by='product_sum', ascending=True), # загружаем данные и заново их сортируем\n",
    "             x='product_sum', # указываем столбец с данными для оси X\n",
    "             y='product', # указываем столбец с данными для оси Y\n",
    "             text='product_sum' # добавляем аргумент, который отобразит текст с информацией\n",
    "                                # о количестве объявлений внутри столбца графика\n",
    "            )\n",
    "# оформляем график\n",
    "fig.update_layout(title='Основные товары в сегменте 2 по  параметру recency',\n",
    "                   xaxis_title='Количество единиц проданного товара',\n",
    "                   yaxis_title='Наименование товара')\n",
    "fig.show() # выводим график"
   ]
  },
  {
   "cell_type": "markdown",
   "id": "0b45466b",
   "metadata": {},
   "source": [
    "# Промежуточный вывод 2.4.4 сегменте 2 по параметру recency:\n",
    "В сегменте 2 по параметру recency основными являются товары:\n",
    "\n",
    "- искусственный цветок роза закрытая малая пласт.\t- продано 45 товаров,\n",
    "- муляж яблоко зеленый 9 см полиуретан. - продано 40 товаров,\n",
    "- карниз для ванной комнаты виолет раздвижной 28.... - продано 25 товаров,\n",
    "- цветок искусственный нарцисс одиночный в ассор...\t- продано 25 товаров,\n",
    "- вешалка для костюма прямая 44 см красное дерев. - продано 25 товаров,\n",
    "- уголок оконный 100х100 мм медь антик с полимер.\t- продано 24 товаров,\n",
    "- циперус зумула d-12 см h-25 см..\t- продано 23 товаров,\n",
    "- завертка форточная белая/антик с полимерным по.. - продано 22 товаров,\n",
    "- стяжка оконная с болтом ст-55 цинк, 1108354\t- продано 22 товаров,\n",
    "- тимьян d-9 см\t \t- продано 21 товаров."
   ]
  },
  {
   "cell_type": "code",
   "execution_count": null,
   "id": "e106120c",
   "metadata": {},
   "outputs": [],
   "source": [
    "# группирую данные для построения диаграммы по категориям товаров\n",
    "ecom_25_5 = (ecom_25_3.groupby(['product_group'])['product_group', 'product_sum']\n",
    "                  .agg({'product_sum': 'sum'})\n",
    "                  .sort_values(by='product_sum', ascending=False))"
   ]
  },
  {
   "cell_type": "code",
   "execution_count": null,
   "id": "eb2343e1",
   "metadata": {},
   "outputs": [],
   "source": [
    "# переименовываю столбец и сбрасываю индексы\n",
    "ecom_25_5 = ecom_25_5.rename(columns={\"product_sum\": \"product_group_sum\"})\n",
    "ecom_25_5 = ecom_25_5.reset_index()\n",
    "ecom_25_5"
   ]
  },
  {
   "cell_type": "code",
   "execution_count": null,
   "id": "f3eb502a",
   "metadata": {},
   "outputs": [],
   "source": [
    "# строим столбчатую диаграмму \n",
    "fig = px.bar(ecom_25_5.sort_values(by='product_group_sum', ascending=True), # загружаем данные и заново их сортируем\n",
    "             x='product_group_sum', # указываем столбец с данными для оси X\n",
    "             y='product_group', # указываем столбец с данными для оси Y\n",
    "             text='product_group_sum' # добавляем аргумент, который отобразит текст с информацией\n",
    "                                # о количестве объявлений внутри столбца графика\n",
    "            )\n",
    "# оформляем график\n",
    "fig.update_layout(title='Основные категории в сегменте 2 по параметру recency',\n",
    "                   xaxis_title='Количество единиц проданного товара по категориям',\n",
    "                   yaxis_title='Наименование категории товаров')\n",
    "fig.show() # выводим график"
   ]
  },
  {
   "cell_type": "markdown",
   "id": "42bbc362",
   "metadata": {},
   "source": [
    "# Промежуточный вывод 2.4.4 сегменте 2 по параметру recency:\n",
    "\n",
    "Рассчитала количество проданных товаров по категориям в сегменте 2 по параметру recency и на основании полученных данных построила диаграмму:\n",
    "- растения - продано 802 товаров,\n",
    "- товары для дома - продано 344 товара,\n",
    "- хозяйственные товары и бытовая химия - продано 210 товара,\n",
    "- товары длительного хранения (мебель и бытовая техника) - продано 74 товаров,\n",
    "- товары для кухни - продано 73 товара,\n",
    "- прочее - продано 44 товаров. \n",
    "\n",
    "Т.е. основными категориями можно считать растения, товары для дома и хозяйственные товары и бытовая химия."
   ]
  },
  {
   "cell_type": "code",
   "execution_count": null,
   "id": "f453723a",
   "metadata": {},
   "outputs": [],
   "source": [
    "# выбираю сегмент 3 по параметру recency\n",
    "ecom_25_6 = ecom_24.query('recency == \"3\"')\n",
    "\n",
    "# рассчитываю 3й квартиль в столбце \n",
    "Q3_3 = np.quantile(ecom_25_6['product_sum'], 0.75) \n",
    "\n",
    "ecom_25_7 = ecom_25_6.query('product_sum > @Q3_3')\n",
    "print(f\"Q3_3 (75-й процентиль): {Q3_3}\")  \n",
    "ecom_25_7.head(2)"
   ]
  },
  {
   "cell_type": "code",
   "execution_count": null,
   "id": "bd8c72e9",
   "metadata": {},
   "outputs": [],
   "source": [
    "# строим столбчатую диаграмму \n",
    "fig = px.bar(ecom_25_7.sort_values(by='product_sum', ascending=True), # загружаем данные и заново их сортируем\n",
    "             x='product_sum', # указываем столбец с данными для оси X\n",
    "             y='product', # указываем столбец с данными для оси Y\n",
    "             text='product_sum' # добавляем аргумент, который отобразит текст с информацией\n",
    "                                # о количестве объявлений внутри столбца графика\n",
    "            )\n",
    "# оформляем график\n",
    "fig.update_layout(title='Основные товары в сегменте 3 по  параметру recency',\n",
    "                   xaxis_title='Количество единиц проданного товара',\n",
    "                   yaxis_title='Наименование товара')\n",
    "fig.show() # выводим график"
   ]
  },
  {
   "cell_type": "markdown",
   "id": "cf5c276b",
   "metadata": {},
   "source": [
    "# Промежуточный вывод 2.4.4 сегменте 3 по параметру recency:\n",
    "\n",
    "В сегменте 3 по параметру recency основными являются товары:\n",
    "- пеларгония розебудная red pandora укорененный - продано 20 товаров,\n",
    "- пеларгония зональная ринго вайт d-7 см h-10 см - продано 14 товаров,\n",
    "- тележка багажная delta тбр-20 синий грузоподъе - продано 11 товаров,\n",
    "- пеларгония розебудная prins nikolai укорененны - продано 10 товаров,\n",
    "- сушилка для белья потолочная лиана 1,7 м 1703006 - продано 8 товаров,\n",
    "- пеларгония зональная мультиблум скарлет ай d-7 - продано 8 товаров,\n",
    "- герань домашняя (пеларгония зональная) цветуща.. - продано 6 товаров,\n",
    "- сушилка для белья потолочная лиана 2,0 м 1703009 - продано 6 товаров,\n",
    "- тележка багажная delta dt-22 синий грузоподъем. - продано 6 товаров,\n",
    "- сумка-тележка 2-х колесная складная gimi flexi. - продано 6 товаров."
   ]
  },
  {
   "cell_type": "code",
   "execution_count": null,
   "id": "27e0f53c",
   "metadata": {},
   "outputs": [],
   "source": [
    "# группирую данные для построения диаграммы по категориям товаров\n",
    "ecom_25_8 = (ecom_25_6.groupby(['product_group'])['product_group', 'product_sum']\n",
    "                  .agg({'product_sum': 'sum'})\n",
    "                  .sort_values(by='product_sum', ascending=False))"
   ]
  },
  {
   "cell_type": "code",
   "execution_count": null,
   "id": "148b1083",
   "metadata": {},
   "outputs": [],
   "source": [
    "# переименовываю столбец и сбрасываю индексы\n",
    "ecom_25_8 = ecom_25_8.rename(columns={\"product_sum\": \"product_group_sum\"})\n",
    "ecom_25_8 = ecom_25_8.reset_index()\n",
    "ecom_25_8 "
   ]
  },
  {
   "cell_type": "code",
   "execution_count": null,
   "id": "1d0b9393",
   "metadata": {},
   "outputs": [],
   "source": [
    "# строим столбчатую диаграмму \n",
    "fig = px.bar(ecom_25_8.sort_values(by='product_group_sum', ascending=True), # загружаем данные и заново их сортируем\n",
    "             x='product_group_sum', # указываем столбец с данными для оси X\n",
    "             y='product_group', # указываем столбец с данными для оси Y\n",
    "             text='product_group_sum' # добавляем аргумент, который отобразит текст с информацией\n",
    "                                # о количестве объявлений внутри столбца графика\n",
    "            )\n",
    "# оформляем график\n",
    "fig.update_layout(title='Основные категории в сегменте 3 по параметру recency',\n",
    "                   xaxis_title='Количество единиц проданного товара по категориям',\n",
    "                   yaxis_title='Наименование категории товаров')\n",
    "fig.show() # выводим график"
   ]
  },
  {
   "cell_type": "markdown",
   "id": "992312db",
   "metadata": {},
   "source": [
    "# Промежуточный вывод 2.4.4 сегменте 3 по параметру recency:\n",
    "\n",
    "Рассчитала количество проданных товаров по категориям в сегменте 3 по параметру recency и на основании полученных данных построила диаграмму:\n",
    "- растения - продано 645 товаров,\n",
    "- товары для дома - продано 158 товара,\n",
    "- хозяйственные товары и бытовая химия - продано 116 товара,\n",
    "- товары длительного хранения (мебель и бытовая техника) - продано 72 товара,\n",
    "- товары для кухни - продано 70 товаров,\n",
    "- прочее - продано 20 товаров. \n",
    "\n",
    "Т.е. основными категориями можно считать растения, товары для дома и хозяйственные товары и бытовая химия."
   ]
  },
  {
   "cell_type": "markdown",
   "id": "990003cb",
   "metadata": {},
   "source": [
    "#### Анализ категорий товаров(помесячно) и их сезонность по выделенным сегментам покупателей"
   ]
  },
  {
   "cell_type": "code",
   "execution_count": null,
   "id": "a62b19e7",
   "metadata": {},
   "outputs": [],
   "source": [
    "ecom_26_1 = (ecom_20.groupby(['recency', 'year_month', 'product_group'])['recency', 'year_month', 'product_group', 'order_sum']\n",
    "                    .agg({'order_sum': 'sum'})\n",
    "                    .sort_values(by='order_sum', ascending=False))"
   ]
  },
  {
   "cell_type": "code",
   "execution_count": null,
   "id": "85ed7859",
   "metadata": {},
   "outputs": [],
   "source": [
    "# переименовываю столбец и сбрасываю индексы\n",
    "ecom_26_1 = ecom_26_1.rename(columns={\"order_sum\": \"sum\"})\n",
    "ecom_26_1 = ecom_26_1.reset_index()\n",
    "ecom_26_1"
   ]
  },
  {
   "cell_type": "code",
   "execution_count": null,
   "id": "799559bb",
   "metadata": {},
   "outputs": [],
   "source": [
    "# выбираю из датасета сегмент 1 по параметру recency\n",
    "ecom_26_2 = ecom_26_1.query('recency == \"1\"')\n",
    "ecom_26_2.head()"
   ]
  },
  {
   "cell_type": "code",
   "execution_count": null,
   "id": "8bdaf1e1",
   "metadata": {},
   "outputs": [],
   "source": [
    "# строю диаграмму зависимости выручки от месяца в разрезе категорий по сегменту 1 параметру recency\n",
    "ecom_26_3 = ecom_26_2.pivot_table(\n",
    "    index='year_month', \n",
    "    columns='product_group', \n",
    "    values='sum', \n",
    "    aggfunc='sum'\n",
    ")\n",
    "\n",
    "# Используем .plot() с kind='bar'\n",
    "ecom_26_3.plot(kind='bar', figsize=(10, 5))\n",
    "\n",
    "plt.title('Диаграмма зависимости выручки от месяца в разрезе категорий по сегменту 1 параметру recency')\n",
    "plt.xlabel('Дата', color='red')\n",
    "plt.ylabel('Выручка', color='green')\n",
    "plt.show()"
   ]
  },
  {
   "cell_type": "markdown",
   "id": "9cbf7d44",
   "metadata": {},
   "source": [
    "#  Промежуточный вывод 2.4.5 по параметру recency:\n",
    "\n",
    "Построила диаграмму зависимости выручки от месяца в разрезе категорий по сегменту 1 параметру recency.\n",
    "Исходя из полученных результатов видно, что:\n",
    "- растения является ТОП-1 по выручке (лидер продаж во всех месяцах, кроме февраля),\n",
    "- хозяйственные товары и бытовая химия является ТОП-2 по выручке (лидер продаж в феврале, на 3м месте в декабре, январе, апреле, июне и июле, на 2м месте в остальные месяцы). \n",
    "- товары для домы является ТОП-3 по выручке (на 2м месте в декабре, январе, апреле, июне, июле, на 3м месте в октябре, ноябре и феврале).\n",
    "\n",
    "Учитывая, что данный сегмент ушедших покупателей, их можно попробовать вернуть направив рекламную рассылку."
   ]
  },
  {
   "cell_type": "code",
   "execution_count": null,
   "id": "14811d11",
   "metadata": {},
   "outputs": [],
   "source": [
    "# выбираю из датасета сегмент 2 по параметру recency\n",
    "ecom_27_2 = ecom_26_1.query('recency == \"2\"')\n",
    "ecom_27_2.head()"
   ]
  },
  {
   "cell_type": "code",
   "execution_count": null,
   "id": "7ca51b35",
   "metadata": {},
   "outputs": [],
   "source": [
    "# строю диаграмму зависимости выручки от месяца в разрезе категорий по сегменту 2 параметру recency\n",
    "ecom_27_3 = ecom_27_2.pivot_table(\n",
    "    index='year_month', \n",
    "    columns='product_group', \n",
    "    values='sum', \n",
    "    aggfunc='sum'\n",
    ")\n",
    "\n",
    "# Используем .plot() с kind='bar'\n",
    "ecom_27_3.plot(kind='bar', figsize=(10, 5))\n",
    "\n",
    "plt.title('Диаграмма зависимости выручки от месяца в разрезе категорий по сегменту 2 параметру recency')\n",
    "plt.xlabel('Дата', color='red')\n",
    "plt.ylabel('Выручка', color='green')\n",
    "plt.show()"
   ]
  },
  {
   "cell_type": "markdown",
   "id": "2054a70c",
   "metadata": {},
   "source": [
    "#  Промежуточный вывод 2.4.5 по сегменту 2 по параметру recency:\n",
    "\n",
    "Построила диаграмму зависимости выручки от месяца в разрезе категорий по сегменту 2 параметру recency.\n",
    "Исходя из полученных результатов видно, что:\n",
    "- растения является ТОП-1 по выручке (лидер продаж во всех месяцах, кроме октября и ноября 2019 года),\n",
    "- хозяйственные товары и бытовая химия является ТОП-2 по выручке (лидер продаж в октябре и ноябре 2018 года.) \n",
    "- товары для дома является ТОП-3 по выручке (на 2м месте в сентябре и январе, на 3м месте в августе, октябре).\n",
    "\n",
    "Учитывая, что данный сегмент включает покупателей, которые совершили последную покупку от 2 до 6 месяцев, им можно направлять  рекламную рассылку."
   ]
  },
  {
   "cell_type": "code",
   "execution_count": null,
   "id": "340f3050",
   "metadata": {},
   "outputs": [],
   "source": [
    "# выбираю из датасета сегмент 3 по параметру recency\n",
    "ecom_28_2 = ecom_26_1.query('recency == \"3\"')\n",
    "ecom_28_2.head()"
   ]
  },
  {
   "cell_type": "code",
   "execution_count": null,
   "id": "378dab3e",
   "metadata": {},
   "outputs": [],
   "source": [
    "# строю диаграмму зависимости выручки от месяца в разрезе категорий по сегменту 3 параметру recency\n",
    "ecom_28_3 = ecom_28_2.pivot_table(\n",
    "    index='year_month', \n",
    "    columns='product_group', \n",
    "    values='sum', \n",
    "    aggfunc='sum'\n",
    ")\n",
    "\n",
    "# Используем .plot() с kind='bar'\n",
    "ecom_28_3.plot(kind='bar', figsize=(10, 5))\n",
    "\n",
    "plt.title('Диаграмма зависимости выручки от месяца в разрезе категорий по сегменту 3 параметру recency')\n",
    "plt.xlabel('Дата', color='red')\n",
    "plt.ylabel('Выручка', color='green')\n",
    "plt.show()"
   ]
  },
  {
   "cell_type": "markdown",
   "id": "1854a6f9",
   "metadata": {},
   "source": [
    "#  Промежуточный вывод 2.4.5 по сегменту 3 по параметру recency:\n",
    "\n",
    "Построила диаграмму зависимости выручки от месяца в разрезе категорий по сегменту 3 параметру recency.\n",
    "Исходя из полученных результатов видно, что:\n",
    "- растения является ТОП-1 по выручке (лидер по всем месяцам),\n",
    "- хозяйственные товары и бытовая химия является ТОП-2 по выручке (на 2м месте в марте, апреле, июне, августе, сентябре и декабре, на 3м месте в январе, феврале и июле). \n",
    "- товары для длительного хранения является ТОП-3 по выручке (на 2м месте в январе, феврале и июле, на 3м месте в марте, сентябре и декабре).\n",
    "\n",
    "Учитывая, что данный сегмент включает покупателей, которые совершили последную покупку до 2 месяцев, им можно направлять рекламную рассылку."
   ]
  },
  {
   "cell_type": "markdown",
   "id": "d5cb4f69",
   "metadata": {},
   "source": [
    "## Проверка гипотез\n",
    "### Проверка гипотезы 1:\n",
    "\n",
    "H0 - Статистически значимых различий в среднем чеке между сегментами нет.\n",
    "\n",
    "H1 - Статистически значимых различий в среднем чеке между сегментами есть."
   ]
  },
  {
   "cell_type": "markdown",
   "id": "a2545cdc",
   "metadata": {},
   "source": [
    "# Буду использовать тест Манна-Уитни независимых выборок, т.к.:\n",
    "1) не требует, чтобы группы были одинакового размера,\n",
    "\n",
    "2) подходит для сравнения двух и более группа,\n",
    "\n",
    "3) устойчив к малым размерам выборки и выбросам, чем t-test."
   ]
  },
  {
   "cell_type": "code",
   "execution_count": null,
   "id": "5f5b140e",
   "metadata": {},
   "outputs": [],
   "source": [
    "ecom_test = (ecom_20.groupby(['order_id', 'customer_id', 'monetary_name'])['order_id', 'customer_id', 'monetary_name', 'order_sum']\n",
    "                    .agg({'order_sum': 'sum'}))"
   ]
  },
  {
   "cell_type": "code",
   "execution_count": null,
   "id": "aed649c2",
   "metadata": {},
   "outputs": [],
   "source": [
    "ecom_test = ecom_test.rename(columns={\"order_sum\": \"order_sum\"})\n",
    "ecom_test = ecom_test.reset_index()\n",
    "ecom_test.head()"
   ]
  },
  {
   "cell_type": "code",
   "execution_count": null,
   "id": "cf1b1093",
   "metadata": {},
   "outputs": [],
   "source": [
    "ecom_test_1 = ecom_test[ecom_test['monetary_name'] == \"Покупатели с max выручкой\"]\n",
    "ecom_test_2 = ecom_test[ecom_test['monetary_name'] == \"Покупатели с avg выручкой\"]\n",
    "ecom_test_3 = ecom_test[ecom_test['monetary_name'] == \"Покупатели с min выручкой\"]\n",
    "\n",
    "\n",
    "print(ecom_test_1.head())\n",
    "print(ecom_test_2.head())\n",
    "print(ecom_test_3.head())"
   ]
  },
  {
   "cell_type": "code",
   "execution_count": null,
   "id": "bc9f5fea",
   "metadata": {},
   "outputs": [],
   "source": [
    "# группирую по покупателю и считаю средний чек для каждого покупателя\n",
    "major_customers = ecom_test_1.groupby('customer_id')['order_sum'].mean()\n",
    "average_customers = ecom_test_2.groupby('customer_id')['order_sum'].mean()\n",
    "retail_customers = ecom_test_3.groupby('customer_id')['order_sum'].mean()\n",
    "\n",
    "print(major_customers.head())\n",
    "print(average_customers.head())\n",
    "print(retail_customers.head())"
   ]
  },
  {
   "cell_type": "code",
   "execution_count": null,
   "id": "f1e3328d",
   "metadata": {},
   "outputs": [],
   "source": [
    "stat, p_value = stats.mannwhitneyu(retail_customers, average_customers, alternative='two-sided')\n",
    "\n",
    "if p_value < 0.05:\n",
    "    print(f'Отвергаем нулевую гипотезу: p-value: {p_value:.3f} . Статистически значимые различия в среднем чеке между Покупатели с min выручкой и Покупатели с avg выручкой есть.')\n",
    "else:\n",
    "    print(f'Не отвергаем нулевую гипотезу: p-value: {p_value:.3f} . Статистически значимых различий в среднем чеке между Покупатели с min выручкой и Покупатели с avg выручкой нет.')"
   ]
  },
  {
   "cell_type": "code",
   "execution_count": null,
   "id": "855e8528",
   "metadata": {},
   "outputs": [],
   "source": [
    "stat, p_value = stats.mannwhitneyu(major_customers, average_customers, alternative='two-sided')"
   ]
  },
  {
   "cell_type": "code",
   "execution_count": null,
   "id": "ffbb722a",
   "metadata": {},
   "outputs": [],
   "source": [
    "if p_value < 0.05:\n",
    "    print(f'Отвергаем нулевую гипотезу: p-value: {p_value:.3f}. Статистически значимые различия в среднем чеке между Покупатели с max выручкой и Покупатели с avg выручкой есть.')\n",
    "else:\n",
    "    print(f'Не отвергаем нулевую гипотезу: p-value: {p_value:.3f}. Статистически значимых различий в среднем чеке между Покупатели с max выручкой и Покупатели с avg выручкой нет.')"
   ]
  },
  {
   "cell_type": "code",
   "execution_count": null,
   "id": "4bdc5126",
   "metadata": {},
   "outputs": [],
   "source": [
    "stat, p_value = stats.mannwhitneyu(major_customers, retail_customers, alternative='two-sided')"
   ]
  },
  {
   "cell_type": "code",
   "execution_count": null,
   "id": "53f1fd5a",
   "metadata": {},
   "outputs": [],
   "source": [
    "if p_value < 0.05:\n",
    "    print(f'Отвергаем нулевую гипотезу: p-value: {p_value:.3f}. Статистически значимые различия в среднем чеке между Покупатели с max выручкой и Покупатели с min выручкой.')\n",
    "else:\n",
    "    print(f'Не отвергаем нулевую гипотезу: p-value: {p_value:.3f}. Статистически значимых различий в среднем чеке между Покупатели с max выручкой и Покупатели с min выручкой.')"
   ]
  },
  {
   "cell_type": "code",
   "execution_count": null,
   "id": "76264e55",
   "metadata": {},
   "outputs": [],
   "source": [
    "merged_df = pd.merge(major_customers, average_customers, on='customer_id', how='inner')\n",
    "merged_df.info()"
   ]
  },
  {
   "cell_type": "markdown",
   "id": "b8fda93b",
   "metadata": {},
   "source": [
    "# Промежуточный вывод 3.1 (для сегментов 1 и 2): \n",
    "\n",
    "Отвергаем нулевую гипотезу: p-value: 0.000. Статистически значимые различия в среднем чеке между Покупатели с max выручкой и Покупатели с avg выручкой есть.\n",
    "\n",
    "С помощью merge() выявила, что при проведении тестов, не будет пользователей, которые участвуют одновременно в двух группах."
   ]
  },
  {
   "cell_type": "code",
   "execution_count": null,
   "id": "d621f2ee",
   "metadata": {},
   "outputs": [],
   "source": [
    "merged_df = pd.merge(major_customers, retail_customers, on='customer_id', how='inner')\n",
    "merged_df.info()"
   ]
  },
  {
   "cell_type": "markdown",
   "id": "86999b40",
   "metadata": {},
   "source": [
    "# Промежуточный вывод 3.1 (для сегментов 1 и 3): \n",
    "\n",
    "Не отвергаем нулевую гипотезу: p-value: 1.000. Статистически значимых различий в среднем чеке между Покупатели с max выручкой и Покупатели с min выручкой.\n",
    "\n",
    "С помощью merge() выявила, что при проведении тестов,не будет пользователей, которые участвуют одновременно в двух группах."
   ]
  },
  {
   "cell_type": "code",
   "execution_count": null,
   "id": "0cc6dc5a",
   "metadata": {},
   "outputs": [],
   "source": [
    "merged_df = pd.merge(average_customers, retail_customers, on='customer_id', how='inner')\n",
    "merged_df.info()"
   ]
  },
  {
   "cell_type": "markdown",
   "id": "ee1b52f7",
   "metadata": {},
   "source": [
    "# Промежуточный вывод 3.1 (для сегментов 2 и 3): \n",
    "\n",
    "Отвергаем нулевую гипотезу: p-value: 0.000 . Статистически значимые различия в среднем чеке между Покупатели с min выручкой и Покупатели с avg выручкой есть.\n",
    "\n",
    "С помощью merge() выявила, что при проведении тестов, не будет пользователей, которые участвуют одновременно в двух группах."
   ]
  },
  {
   "cell_type": "markdown",
   "id": "24dc6213",
   "metadata": {},
   "source": [
    "### Проверка гипотезы 2:\n",
    "H0 - Статистически значимых различий в выручке с покупателя между сегментами нет.\n",
    "\n",
    "H1 - Статистически значимых различий в выручке с покупателя между сегментами есть."
   ]
  },
  {
   "cell_type": "code",
   "execution_count": null,
   "id": "63ee71df",
   "metadata": {},
   "outputs": [],
   "source": [
    "major_customers = ecom_test_1.groupby('customer_id')['order_sum'].sum()\n",
    "average_customers = ecom_test_2.groupby('customer_id')['order_sum'].sum()\n",
    "retail_customers = ecom_test_3.groupby('customer_id')['order_sum'].sum()\n",
    "\n",
    "print(major_customers.head())\n",
    "print(average_customers.head())\n",
    "print(retail_customers.head())"
   ]
  },
  {
   "cell_type": "code",
   "execution_count": null,
   "id": "477df9f4",
   "metadata": {},
   "outputs": [],
   "source": [
    "stat, p_value = stats.mannwhitneyu(retail_customers, average_customers, alternative='two-sided')\n",
    "\n",
    "if p_value < 0.05:\n",
    "    print(f'Отвергаем нулевую гипотезу: p-value: {p_value:.3f} . Статистически значимые различий в выручке с покупателя между Покупатели с min выручкой и Покупатели с avg выручкой есть.')\n",
    "else:\n",
    "    print(f'Не отвергаем нулевую гипотезу: p-value: {p_value:.3f} . Статистически значимых различий в выручке с покупателя между Покупатели с min выручкой и Покупатели с avg выручкой нет.')"
   ]
  },
  {
   "cell_type": "code",
   "execution_count": null,
   "id": "83dcc3db",
   "metadata": {},
   "outputs": [],
   "source": [
    "stat, p_value = stats.mannwhitneyu(major_customers, average_customers, alternative='two-sided')\n",
    "\n",
    "if p_value < 0.05:\n",
    "    print(f'Отвергаем нулевую гипотезу: p-value: {p_value:.3f}. Статистически значимые различия в выручке с покупателя между Покупатели с max выручкой и Покупатели с avg выручкой есть.')\n",
    "else:\n",
    "    print(f'Не отвергаем нулевую гипотезу: p-value: {p_value:.3f}. Статистически значимых различий в выручке с покупателя  между Покупатели с max выручкой и Покупатели с avg выручкой нет.')"
   ]
  },
  {
   "cell_type": "code",
   "execution_count": null,
   "id": "f7a58bec",
   "metadata": {},
   "outputs": [],
   "source": [
    "stat, p_value = stats.mannwhitneyu(major_customers, retail_customers, alternative='two-sided')\n",
    "\n",
    "if p_value < 0.05:\n",
    "    print(f'Отвергаем нулевую гипотезу: p-value: {p_value:.3f}. Статистически значимые различия в выручке с покупателя между Покупатели с max выручкой и Покупатели с min выручкой.')\n",
    "else:\n",
    "    print(f'Не отвергаем нулевую гипотезу: p-value: {p_value:.3f}. Статистически значимых различий в выручке с покупателя  между Покупатели с max выручкой и Покупатели с min выручкой.')"
   ]
  },
  {
   "cell_type": "markdown",
   "id": "7f5959d5",
   "metadata": {},
   "source": [
    "# Промежуточный вывод 3.2 (для сегментов 1 и 2): \n",
    "\n",
    "Отвергаем нулевую гипотезу: p-value: 0.000. Статистически значимые различия в выручке с покупателя между Покупатели с max выручкой и Покупатели с avg выручкой есть."
   ]
  },
  {
   "cell_type": "markdown",
   "id": "c4e48ba8",
   "metadata": {},
   "source": [
    "# Промежуточный вывод 3.2 (для сегментов 1 и 3): \n",
    "\n",
    "Отвергаем нулевую гипотезу: p-value: 0.000. Статистически значимые различия в выручке с покупателя между Покупатели с max выручкой и Покупатели с min выручкой есть."
   ]
  },
  {
   "cell_type": "markdown",
   "id": "e76ad7e3",
   "metadata": {},
   "source": [
    "# Промежуточный вывод 3.2 (для сегментов 2 и 3): \n",
    "\n",
    "Отвергаем нулевую гипотезу: p-value: 0.000 . Статистически значимые различий в выручке с покупателя между Покупатели с min выручкой и Покупатели с avg выручкой есть."
   ]
  },
  {
   "cell_type": "markdown",
   "id": "bd05a466",
   "metadata": {},
   "source": [
    "# Итоговый вывод: \n",
    "В датасете представлены:\n",
    "- 2 451 покупателя,\n",
    "- 3 521 заказ,\n",
    "- 2 343 товара.\n",
    "\n",
    "Распределила товары с помощью функции def по следующим категориям:\n",
    "- растения,\n",
    "- хозяйственные товары и бытовая химия,\n",
    "- товары для дома,\n",
    "- бытовая химия,\n",
    "- товары для кухни,\n",
    "- мебель,\n",
    "- прочее.\n",
    "\n",
    "Для дальнейшего исследования в датасете осталось:\n",
    "- 3 484 заказов на сумму 3 670 996.42,\n",
    "- 2 296 уникальных товаров,\n",
    "- 2 399 уникальных покупателя.\n",
    "\n",
    "Рассчитала количество проданных товаров и выручку по категориям:\n",
    "- растения - продано 5 547 единиц товара на сумму 1 748 763.75,\n",
    "- хозяйственные товары и бытовая химия - продано 1 088 единицы товара на сумму 799 157.83,\n",
    "- товары для дома - продано 1 845 единиц товара на сумму 504 510.33,\n",
    "- товары длительного хранения (мебель и бытовая техника) - продано 366 единиц товара на сумму 371 685.00,\n",
    "- товары для кухни - продано 764 единицы товара на сумму 186 122.50,\n",
    "- прочее - продано 277 единиц товара на сумму 60 757.00.\n",
    "\n",
    "\n",
    "Построила график динамики выручки интернет-магазин по месяцам. По графику можно сделать вывод, что выручка снижается. \n",
    "Построила график динамики среднего чека по месяцам. По графику можно сделать вывод, что средний чек интернет-магазина снижается (в октябре 2018 года средний чек заказа был 1 419.54, а в янаваре 2020 года - 646,98). \n",
    "Построила график динамики средней выручки по месяцам с покупателя. По графику можно сделать вывод, что выручка с покупателя интернет-магазина снижается (В октябре 2018 года средний чек заказа был 1 871.22, а в янаваре 2020 года - 646.98). \n",
    "\n",
    "# Разделение покупателей не сегменты\n",
    "\n",
    "Для Recency: \n",
    "\n",
    "1 – клиенты, которые совершали покупки очень давно (больше 6 месяцев от максимальной даты покупки);\n",
    "\n",
    "2 – относительно недавние клиенты (от 2 до 6 месяцев от максимальной даты покупки (включительно));\n",
    "\n",
    "3 – только пришедшие клиенты (до 2 месяцев от максимальной даты покупки (включительно)).\n",
    "\n",
    "Для Frequency:\n",
    "\n",
    "1 – клиент совершает очень мало покупок, обычно не превосходит единоразового визита (2й квартиль);\n",
    "\n",
    "2 – клиент приходит за покупками, но крайне редко (больше 2го квартиля, но меньше 3го квартиля);\n",
    "\n",
    "3 - клиент регулярно приходит за покупками (больше 3го квартиля).\n",
    "\n",
    "Для Monetary:\n",
    "\n",
    "1 – небольшая сумма покупки (меньше 2го квартиля);\n",
    "\n",
    "2 – средние затраты (от 2го квартиля(включительно) до 3го квартиля );\n",
    "\n",
    "3 – крупная сумма, которую потратил клиент на товар или услугу компании (больше либо равно 3му квартилю).\n",
    "\n",
    "\n",
    "Рассчитала количество проданных товаров по категориям в сегменте 1 по параметру recency и на основании полученных данных построила диаграмму:\n",
    "- растения - продано 4 100 товаров,\n",
    "- товары для дома - продано 1 343 товаров,\n",
    "- хозяйственные товары и бытовая химия - продано 762 товара,\n",
    "- товары для кухни - продано 621 товар,\n",
    "- товары длительного хранения (мебель и бытовая техника) - продано 220 товаров,\n",
    "- прочее - продано 213 товаров. \n",
    "Т.е. основными категориями можно считать растения, товары для дома и хозяйственные товары и бытовая химия.\n",
    "\n",
    "\n",
    "Рассчитала количество проданных товаров по категориям в сегменте 2 по параметру recency и на основании полученных данных построила диаграмму:\n",
    "- растения - продано 802 товаров,\n",
    "- товары для дома - продано 344 товара,\n",
    "- хозяйственные товары и бытовая химия - продано 210 товара,\n",
    "- товары длительного хранения (мебель и бытовая техника) - продано 74 товаров,\n",
    "- товары для кухни - продано 73 товара,\n",
    "- прочее - продано 44 товаров. \n",
    "Т.е. основными категориями можно считать растения, товары для дома и хозяйственные товары и бытовая химия.\n",
    "\n",
    "\n",
    "Рассчитала количество проданных товаров по категориям в сегменте 3 по параметру recency и на основании полученных данных построила диаграмму:\n",
    "- растения - продано 645 товаров,\n",
    "- товары для дома - продано 158 товара,\n",
    "- хозяйственные товары и бытовая химия - продано 116 товара,\n",
    "- товары длительного хранения (мебель и бытовая техника) - продано 72 товара,\n",
    "- товары для кухни - продано 70 товаров,\n",
    "- прочее - продано 20 товаров. \n",
    "Т.е. основными категориями можно считать растения, товары для дома и хозяйственные товары и бытовая химия.\n",
    "\n",
    "Построила диаграмму зависимости выручки от месяца в разрезе категорий по сегменту 1 параметру recency.\n",
    "Исходя из полученных результатов видно, что:\n",
    "- растения является ТОП-1 по выручке (лидер продаж во всех месяцах, кроме февраля),\n",
    "- хозяйственные товары и бытовая химия является ТОП-2 по выручке (лидер продаж в феврале, на 3м месте в декабре, январе, апреле, июне и июле, на 2м месте в остальные месяцы). \n",
    "- товары для домы является ТОП-3 по выручке (на 2м месте в декабре, январе, апреле, июне, июле, на 3м месте в октябре, ноябре и феврале).\n",
    "Учитывая, что данный сегмент ушедших покупателей, их можно попробовать вернуть направив рекламную рассылку.\n",
    "\n",
    "Построила диаграмму зависимости выручки от месяца в разрезе категорий по сегменту 2 параметру recency.\n",
    "Исходя из полученных результатов видно, что:\n",
    "- растения является ТОП-1 по выручке (лидер продаж во всех месяцах, кроме октября и ноября 2019 года),\n",
    "- хозяйственные товары и бытовая химия является ТОП-2 по выручке (лидер продаж в октябре и ноябре 2018 года.) \n",
    "- товары для дома является ТОП-3 по выручке (на 2м месте в сентябре и январе, на 3м месте в августе, октябре).\n",
    "Учитывая, что данный сегмент включает покупателей, которые совершили последную покупку от 2 до 6 месяцев, им можно направлять  рекламную рассылку.\n",
    "\n",
    "Построила диаграмму зависимости выручки от месяца в разрезе категорий по сегменту 3 параметру recency.\n",
    "Исходя из полученных результатов видно, что:\n",
    "- растения является ТОП-1 по выручке (лидер по всем месяцам),\n",
    "- хозяйственные товары и бытовая химия является ТОП-2 по выручке (на 2м месте в марте, апреле, июне, августе, сентябре и декабре, на 3м месте в январе, феврале и июле). \n",
    "- товары для длительного хранения является ТОП-3 по выручке (на 2м месте в январе, феврале и июле, на 3м месте в марте, сентябре и декабре).\n",
    "Учитывая, что данный сегмент включает покупателей, которые совершили последную покупку до 2 месяцев, им можно направлять рекламную рассылку.\n",
    "\n",
    "# Проверка гипотез\n",
    "\n",
    "Использовала тест Манна-Уитни независимых выборок, т.к.:\n",
    "1) не требует, чтобы группы были одинакового размера,\n",
    "\n",
    "2) подходит для сравнения двух и более группа,\n",
    "\n",
    "3) устойчив к малым размерам выборки и выбросам, чем t-test.\n",
    "\n",
    "# Проверка гипотезы 1:\n",
    "\n",
    "H0 - Статистически значимых различий в среднем чеке между сегментами нет.\n",
    "\n",
    "H1 - Статистически значимых различий в среднем чеке между сегментами есть.\n",
    "\n",
    "Для всех сравниваемых групп (Покупатели с max выручкой, Покупатели с avg выручкой, Покупатели с min выручкой) получился следующий результат:\n",
    "Отвергаем нулевую гипотезу: p-value: 1.000. Статистически значимых различий в среднем чеке между группами есть.\n",
    "\n",
    "\n",
    "# Проверка гипотезы 2:\n",
    "\n",
    "H0 - Статистически значимых различий в выручке с покупателя между сегментами нет.\n",
    "\n",
    "H1 - Статистически значимых различий в выручке с покупателя между сегментами есть.\n",
    "\n",
    "Для всех сравниваемых групп (Покупатели с max выручкой, Покупатели с avg выручкой, Покупатели с min выручкой) получился следующий результат:\n",
    "Отвергаем нулевую гипотезу: p-value: 1.000 . Статистически значимых различий в выручке с покупателя между группами есть.\n",
    "\n",
    "# Рекомендации по маркетингу:\n",
    "Исходя из анализа сегментов покупателей следует рассылать рекламные предложения о следующих категориях.\n",
    "\n",
    "Сегмент 1 по параметру recency:\n",
    "- Январь - предлагаем товары из категории РАСТЕНИЯ\n",
    "- Февраль - предлагаем товары из категории ХОЗЯЙСТВЕННЫЕ ТОВАРЫ И БЫТОВАЯ ХИМИЯ\n",
    "- Март - предлагаем товары из категории РАСТЕНИЯ\n",
    "- Апрель - предлагаем товары из категории РАСТЕНИЯ\n",
    "- Май - предлагаем товары из категории РАСТЕНИЯ\n",
    "- Июнь - предлагаем товары из категории РАСТЕНИЯ\n",
    "- Июль - предлагаем товары из категории РАСТЕНИЯ\n",
    "- Август, Сентябрь, Октябрь, Ноябрь, Декабрь - по данным месяцам из-за отсутствия данных предполагаю, что также стоит предлагать товары из категории РАСТЕНИЯ\n",
    "\n",
    "Сегмент 2 по параметру recency:\n",
    "- Январь - предлагаем товары из категории РАСТЕНИЯ\n",
    "- Май - предлагаем товары из категории РАСТЕНИЯ\n",
    "- Июль - предлагаем товары из категории РАСТЕНИЯ\n",
    "- Август - предлагаем товары из категории РАСТЕНИЯ\n",
    "- Сентябрь - предлагаем товары из категории РАСТЕНИЯ\n",
    "- Октябрь - предлагаем товары из категории ХОЗЯЙСТВЕННЫЕ ТОВАРЫ И БЫТОВАЯ ХИМИЯ\n",
    "- Ноябрь -  предлагаем товары из категории ХОЗЯЙСТВЕННЫЕ ТОВАРЫ И БЫТОВАЯ ХИМИЯ\n",
    "- Декабрь -  предлагаем товары из категории РАСТЕНИЯ\n",
    "- Февраль, Март, Апрель - по данным месяцам из-за отсутствия данных предполагаю, что также стоит предлагать товары из категории РАСТЕНИЯ\n",
    "\n",
    "Сегмент 3 по параметру recency:\n",
    "- Январь - предлагаем товары из категории РАСТЕНИЯ\n",
    "- Февраль - предлагаем товары из категории РАСТЕНИЯ\n",
    "- Март - предлагаем товары из категории РАСТЕНИЯ\n",
    "- Апрель - предлагаем товары из категории РАСТЕНИЯ\n",
    "- Май - предлагаем товары из категории РАСТЕНИЯ\n",
    "- Июнь - предлагаем товары из категории РАСТЕНИЯ\n",
    "- Июль - предлагаем товары из категории РАСТЕНИЯ\n",
    "- Август - предлагаем товары из категории РАСТЕНИЯ\n",
    "- Сентябрь - предлагаем товары из категории РАСТЕНИЯ\n",
    "- Октябрь - предлагаем товары из категории РАСТЕНИЯ\n",
    "- Ноябрь - предлагаем товары из категории РАСТЕНИЯ\n",
    "- Декабрь - предлагаем товары из категории РАСТЕНИЯ\n",
    "\n",
    "# Стратегия увеличения продаж: \n",
    "- Создание качественного контента\n",
    "\n",
    "\n",
    "# Стратегия повышения лояльности\n",
    "- Персонализированные предложения\n",
    "- Программы лояльности\n",
    "\n",
    "Инструменты для реализации\n",
    "- Поп-апы. Всплывающие окна с предложениями или скидками, которые размещаются на главной странице или страницах с популярными товарами.\n",
    "- Функция сравнения товаров. Помогает покупателям сориентироваться в ассортименте, глубже изучить характеристики товаров.\n",
    "- Блоки с сопутствующими товарами. Дополнительные продукты или аксессуары, которые клиент может приобрести вместе с основным товаром, увеличивают средний чек.\n"
   ]
  }
 ],
 "metadata": {
  "ExecuteTimeLog": [
   {
    "duration": 1370,
    "start_time": "2025-05-26T14:33:50.680Z"
   },
   {
    "duration": 73,
    "start_time": "2025-05-26T14:33:52.052Z"
   },
   {
    "duration": 13,
    "start_time": "2025-05-26T14:33:52.126Z"
   },
   {
    "duration": 12,
    "start_time": "2025-05-26T14:33:52.141Z"
   },
   {
    "duration": 21,
    "start_time": "2025-05-26T14:33:52.154Z"
   },
   {
    "duration": 13,
    "start_time": "2025-05-26T14:33:52.176Z"
   },
   {
    "duration": 4,
    "start_time": "2025-05-26T14:33:52.190Z"
   },
   {
    "duration": 5,
    "start_time": "2025-05-26T14:33:52.196Z"
   },
   {
    "duration": 5,
    "start_time": "2025-05-26T14:33:52.235Z"
   },
   {
    "duration": 12,
    "start_time": "2025-05-26T14:33:52.243Z"
   },
   {
    "duration": 13,
    "start_time": "2025-05-26T14:33:52.256Z"
   },
   {
    "duration": 8,
    "start_time": "2025-05-26T14:33:52.270Z"
   },
   {
    "duration": 305,
    "start_time": "2025-05-26T14:33:52.280Z"
   },
   {
    "duration": 8,
    "start_time": "2025-05-26T14:33:52.587Z"
   },
   {
    "duration": 33,
    "start_time": "2025-05-26T14:33:52.596Z"
   },
   {
    "duration": 22,
    "start_time": "2025-05-26T14:33:52.630Z"
   },
   {
    "duration": 18,
    "start_time": "2025-05-26T14:33:52.654Z"
   },
   {
    "duration": 21,
    "start_time": "2025-05-26T14:33:52.673Z"
   },
   {
    "duration": 47,
    "start_time": "2025-05-26T14:33:52.695Z"
   },
   {
    "duration": 5,
    "start_time": "2025-05-26T14:33:52.744Z"
   },
   {
    "duration": 10,
    "start_time": "2025-05-26T14:33:52.750Z"
   },
   {
    "duration": 7,
    "start_time": "2025-05-26T14:33:52.762Z"
   },
   {
    "duration": 20,
    "start_time": "2025-05-26T14:33:52.770Z"
   },
   {
    "duration": 4,
    "start_time": "2025-05-26T14:33:52.791Z"
   },
   {
    "duration": 61,
    "start_time": "2025-05-26T14:33:52.797Z"
   },
   {
    "duration": 15,
    "start_time": "2025-05-26T14:33:52.859Z"
   },
   {
    "duration": 9,
    "start_time": "2025-05-26T14:33:52.875Z"
   },
   {
    "duration": 147,
    "start_time": "2025-05-26T14:33:52.888Z"
   },
   {
    "duration": 8,
    "start_time": "2025-05-26T14:33:53.036Z"
   },
   {
    "duration": 54,
    "start_time": "2025-05-26T14:33:53.045Z"
   },
   {
    "duration": 72,
    "start_time": "2025-05-26T14:33:53.101Z"
   },
   {
    "duration": 13,
    "start_time": "2025-05-26T14:33:53.175Z"
   },
   {
    "duration": 13,
    "start_time": "2025-05-26T14:33:53.190Z"
   },
   {
    "duration": 19,
    "start_time": "2025-05-26T14:33:53.205Z"
   },
   {
    "duration": 12,
    "start_time": "2025-05-26T14:33:53.225Z"
   },
   {
    "duration": 13,
    "start_time": "2025-05-26T14:33:53.238Z"
   },
   {
    "duration": 36,
    "start_time": "2025-05-26T14:33:53.252Z"
   },
   {
    "duration": 6,
    "start_time": "2025-05-26T14:33:53.290Z"
   },
   {
    "duration": 3,
    "start_time": "2025-05-26T14:33:53.298Z"
   },
   {
    "duration": 9,
    "start_time": "2025-05-26T14:33:53.302Z"
   },
   {
    "duration": 4,
    "start_time": "2025-05-26T14:33:53.312Z"
   },
   {
    "duration": 11,
    "start_time": "2025-05-26T14:33:53.317Z"
   },
   {
    "duration": 14,
    "start_time": "2025-05-26T14:33:53.329Z"
   },
   {
    "duration": 15,
    "start_time": "2025-05-26T14:33:53.344Z"
   },
   {
    "duration": 28,
    "start_time": "2025-05-26T14:33:53.360Z"
   },
   {
    "duration": 10,
    "start_time": "2025-05-26T14:33:53.389Z"
   },
   {
    "duration": 10,
    "start_time": "2025-05-26T14:33:53.401Z"
   },
   {
    "duration": 9,
    "start_time": "2025-05-26T14:33:53.413Z"
   },
   {
    "duration": 5,
    "start_time": "2025-05-26T14:33:53.424Z"
   },
   {
    "duration": 8,
    "start_time": "2025-05-26T14:33:53.430Z"
   },
   {
    "duration": 37,
    "start_time": "2025-05-26T14:33:53.439Z"
   },
   {
    "duration": 4,
    "start_time": "2025-05-26T14:33:53.478Z"
   },
   {
    "duration": 7,
    "start_time": "2025-05-26T14:33:53.484Z"
   },
   {
    "duration": 5,
    "start_time": "2025-05-26T14:33:53.493Z"
   },
   {
    "duration": 12,
    "start_time": "2025-05-26T14:33:53.499Z"
   },
   {
    "duration": 18,
    "start_time": "2025-05-26T14:33:53.513Z"
   },
   {
    "duration": 18,
    "start_time": "2025-05-26T14:33:53.533Z"
   },
   {
    "duration": 11,
    "start_time": "2025-05-26T14:33:53.552Z"
   },
   {
    "duration": 134,
    "start_time": "2025-05-26T14:33:53.564Z"
   },
   {
    "duration": 5,
    "start_time": "2025-05-26T14:33:53.699Z"
   },
   {
    "duration": 32,
    "start_time": "2025-05-26T14:33:53.705Z"
   },
   {
    "duration": 6,
    "start_time": "2025-05-26T14:33:53.738Z"
   },
   {
    "duration": 6,
    "start_time": "2025-05-26T14:33:53.746Z"
   },
   {
    "duration": 15,
    "start_time": "2025-05-26T14:33:53.754Z"
   },
   {
    "duration": 8,
    "start_time": "2025-05-26T14:33:53.770Z"
   },
   {
    "duration": 60,
    "start_time": "2025-05-26T14:33:53.779Z"
   },
   {
    "duration": 3,
    "start_time": "2025-05-26T14:33:53.841Z"
   },
   {
    "duration": 6,
    "start_time": "2025-05-26T14:33:53.846Z"
   },
   {
    "duration": 28,
    "start_time": "2025-05-26T14:33:53.854Z"
   },
   {
    "duration": 59,
    "start_time": "2025-05-26T14:33:53.884Z"
   },
   {
    "duration": 14,
    "start_time": "2025-05-26T14:33:53.946Z"
   },
   {
    "duration": 16,
    "start_time": "2025-05-26T14:33:53.961Z"
   },
   {
    "duration": 59,
    "start_time": "2025-05-26T14:33:53.979Z"
   },
   {
    "duration": 55,
    "start_time": "2025-05-26T14:33:54.040Z"
   },
   {
    "duration": 287,
    "start_time": "2025-05-26T14:33:54.098Z"
   },
   {
    "duration": 14,
    "start_time": "2025-05-26T14:33:54.387Z"
   },
   {
    "duration": 35,
    "start_time": "2025-05-26T14:33:54.402Z"
   },
   {
    "duration": 12,
    "start_time": "2025-05-26T14:33:54.438Z"
   },
   {
    "duration": 11,
    "start_time": "2025-05-26T14:33:54.451Z"
   },
   {
    "duration": 20,
    "start_time": "2025-05-26T14:33:54.463Z"
   },
   {
    "duration": 195,
    "start_time": "2025-05-26T14:33:54.485Z"
   },
   {
    "duration": 13,
    "start_time": "2025-05-26T14:33:54.687Z"
   },
   {
    "duration": 36,
    "start_time": "2025-05-26T14:33:54.701Z"
   },
   {
    "duration": 13,
    "start_time": "2025-05-26T14:33:54.739Z"
   },
   {
    "duration": 11,
    "start_time": "2025-05-26T14:33:54.753Z"
   },
   {
    "duration": 9,
    "start_time": "2025-05-26T14:33:54.766Z"
   },
   {
    "duration": 8,
    "start_time": "2025-05-26T14:33:54.776Z"
   },
   {
    "duration": 220,
    "start_time": "2025-05-26T14:33:54.786Z"
   },
   {
    "duration": 12,
    "start_time": "2025-05-26T14:33:55.008Z"
   },
   {
    "duration": 163,
    "start_time": "2025-05-26T14:33:55.021Z"
   },
   {
    "duration": 12,
    "start_time": "2025-05-26T14:33:55.186Z"
   },
   {
    "duration": 15,
    "start_time": "2025-05-26T14:33:55.199Z"
   },
   {
    "duration": 10,
    "start_time": "2025-05-26T14:33:55.216Z"
   },
   {
    "duration": 22,
    "start_time": "2025-05-26T14:33:55.227Z"
   },
   {
    "duration": 13,
    "start_time": "2025-05-26T14:33:55.251Z"
   },
   {
    "duration": 7,
    "start_time": "2025-05-26T14:33:55.265Z"
   },
   {
    "duration": 107,
    "start_time": "2025-05-26T14:33:55.273Z"
   },
   {
    "duration": 17,
    "start_time": "2025-05-26T14:33:55.381Z"
   },
   {
    "duration": 12,
    "start_time": "2025-05-26T14:33:55.399Z"
   },
   {
    "duration": 40,
    "start_time": "2025-05-26T14:33:55.413Z"
   },
   {
    "duration": 24,
    "start_time": "2025-05-26T14:33:55.455Z"
   },
   {
    "duration": 11,
    "start_time": "2025-05-26T14:33:55.480Z"
   },
   {
    "duration": 14,
    "start_time": "2025-05-26T14:33:55.493Z"
   },
   {
    "duration": 16,
    "start_time": "2025-05-26T14:33:55.509Z"
   },
   {
    "duration": 22,
    "start_time": "2025-05-26T14:33:55.526Z"
   },
   {
    "duration": 14,
    "start_time": "2025-05-26T14:33:55.550Z"
   },
   {
    "duration": 87,
    "start_time": "2025-05-26T14:33:55.566Z"
   },
   {
    "duration": 80,
    "start_time": "2025-05-26T14:33:55.655Z"
   },
   {
    "duration": 9,
    "start_time": "2025-05-26T14:33:55.736Z"
   },
   {
    "duration": 263,
    "start_time": "2025-05-26T14:33:55.746Z"
   },
   {
    "duration": 823,
    "start_time": "2025-05-26T14:33:56.011Z"
   },
   {
    "duration": 10,
    "start_time": "2025-05-26T14:33:56.836Z"
   },
   {
    "duration": 327,
    "start_time": "2025-05-26T14:33:56.848Z"
   },
   {
    "duration": 18,
    "start_time": "2025-05-26T14:33:57.177Z"
   },
   {
    "duration": 12,
    "start_time": "2025-05-26T14:33:57.197Z"
   },
   {
    "duration": 32,
    "start_time": "2025-05-26T14:33:57.210Z"
   },
   {
    "duration": 12,
    "start_time": "2025-05-26T14:33:57.244Z"
   },
   {
    "duration": 9,
    "start_time": "2025-05-26T14:33:57.257Z"
   },
   {
    "duration": 73,
    "start_time": "2025-05-26T14:33:57.267Z"
   },
   {
    "duration": 13,
    "start_time": "2025-05-26T14:33:57.342Z"
   },
   {
    "duration": 23,
    "start_time": "2025-05-26T14:33:57.357Z"
   },
   {
    "duration": 55,
    "start_time": "2025-05-26T14:33:57.382Z"
   },
   {
    "duration": 17,
    "start_time": "2025-05-26T14:33:57.438Z"
   },
   {
    "duration": 19,
    "start_time": "2025-05-26T14:33:57.457Z"
   },
   {
    "duration": 30,
    "start_time": "2025-05-26T14:33:57.477Z"
   },
   {
    "duration": 29,
    "start_time": "2025-05-26T14:33:57.509Z"
   },
   {
    "duration": 10,
    "start_time": "2025-05-26T14:33:57.540Z"
   },
   {
    "duration": 19,
    "start_time": "2025-05-26T14:33:57.552Z"
   },
   {
    "duration": 134,
    "start_time": "2025-05-26T14:33:57.573Z"
   },
   {
    "duration": 7,
    "start_time": "2025-05-26T14:33:57.709Z"
   },
   {
    "duration": 4,
    "start_time": "2025-05-26T14:33:57.717Z"
   },
   {
    "duration": 11,
    "start_time": "2025-05-26T14:33:57.722Z"
   },
   {
    "duration": 50,
    "start_time": "2025-05-26T14:33:57.734Z"
   },
   {
    "duration": 12,
    "start_time": "2025-05-26T14:33:57.785Z"
   },
   {
    "duration": 14,
    "start_time": "2025-05-26T14:33:57.798Z"
   },
   {
    "duration": 61,
    "start_time": "2025-05-26T14:33:57.814Z"
   },
   {
    "duration": 14,
    "start_time": "2025-05-26T14:33:57.877Z"
   },
   {
    "duration": 14,
    "start_time": "2025-05-26T14:33:57.893Z"
   },
   {
    "duration": 153,
    "start_time": "2025-05-26T14:33:57.935Z"
   },
   {
    "duration": 11,
    "start_time": "2025-05-26T14:33:58.089Z"
   },
   {
    "duration": 8,
    "start_time": "2025-05-26T14:33:58.101Z"
   },
   {
    "duration": 65,
    "start_time": "2025-05-26T14:33:58.110Z"
   },
   {
    "duration": 19,
    "start_time": "2025-05-26T14:33:58.176Z"
   },
   {
    "duration": 65,
    "start_time": "2025-05-26T14:33:58.197Z"
   },
   {
    "duration": 11,
    "start_time": "2025-05-26T14:33:58.264Z"
   },
   {
    "duration": 14,
    "start_time": "2025-05-26T14:33:58.277Z"
   },
   {
    "duration": 62,
    "start_time": "2025-05-26T14:33:58.293Z"
   },
   {
    "duration": 12,
    "start_time": "2025-05-26T14:33:58.357Z"
   },
   {
    "duration": 18,
    "start_time": "2025-05-26T14:33:58.370Z"
   },
   {
    "duration": 13,
    "start_time": "2025-05-26T14:33:58.390Z"
   },
   {
    "duration": 37,
    "start_time": "2025-05-26T14:33:58.404Z"
   },
   {
    "duration": 265,
    "start_time": "2025-05-26T14:33:58.443Z"
   },
   {
    "duration": 12,
    "start_time": "2025-05-26T14:33:58.711Z"
   },
   {
    "duration": 252,
    "start_time": "2025-05-26T14:33:58.724Z"
   },
   {
    "duration": 10,
    "start_time": "2025-05-26T14:33:58.979Z"
   },
   {
    "duration": 226,
    "start_time": "2025-05-26T14:33:58.991Z"
   },
   {
    "duration": 20,
    "start_time": "2025-05-26T14:33:59.219Z"
   },
   {
    "duration": 31,
    "start_time": "2025-05-26T14:33:59.242Z"
   },
   {
    "duration": 22,
    "start_time": "2025-05-26T14:33:59.275Z"
   },
   {
    "duration": 18,
    "start_time": "2025-05-26T14:33:59.299Z"
   },
   {
    "duration": 25,
    "start_time": "2025-05-26T14:33:59.319Z"
   },
   {
    "duration": 6,
    "start_time": "2025-05-26T14:33:59.346Z"
   },
   {
    "duration": 24,
    "start_time": "2025-05-26T14:33:59.354Z"
   },
   {
    "duration": 9,
    "start_time": "2025-05-26T14:33:59.379Z"
   },
   {
    "duration": 45,
    "start_time": "2025-05-26T14:33:59.390Z"
   },
   {
    "duration": 27,
    "start_time": "2025-05-26T14:33:59.437Z"
   },
   {
    "duration": 5,
    "start_time": "2025-05-26T14:33:59.465Z"
   },
   {
    "duration": 25,
    "start_time": "2025-05-26T14:33:59.471Z"
   },
   {
    "duration": 3,
    "start_time": "2025-05-26T14:33:59.498Z"
   },
   {
    "duration": 9,
    "start_time": "2025-05-26T14:33:59.503Z"
   },
   {
    "duration": 23,
    "start_time": "2025-05-26T14:33:59.514Z"
   },
   {
    "duration": 6,
    "start_time": "2025-05-26T14:33:59.539Z"
   },
   {
    "duration": 13,
    "start_time": "2025-05-26T15:04:35.754Z"
   },
   {
    "duration": 14,
    "start_time": "2025-05-26T15:04:39.818Z"
   },
   {
    "duration": 19,
    "start_time": "2025-05-26T15:04:57.599Z"
   },
   {
    "duration": 214,
    "start_time": "2025-05-26T15:08:03.863Z"
   },
   {
    "duration": 209,
    "start_time": "2025-05-26T15:08:09.558Z"
   },
   {
    "duration": 184,
    "start_time": "2025-05-26T15:08:13.807Z"
   },
   {
    "duration": 201,
    "start_time": "2025-05-26T15:08:17.512Z"
   },
   {
    "duration": 208,
    "start_time": "2025-05-26T15:08:20.730Z"
   },
   {
    "duration": 208,
    "start_time": "2025-05-26T15:08:28.528Z"
   },
   {
    "duration": 228,
    "start_time": "2025-05-26T15:08:43.978Z"
   },
   {
    "duration": 23,
    "start_time": "2025-05-26T15:12:51.497Z"
   },
   {
    "duration": 19,
    "start_time": "2025-05-26T15:13:02.151Z"
   },
   {
    "duration": 18,
    "start_time": "2025-05-26T15:13:16.814Z"
   },
   {
    "duration": 83,
    "start_time": "2025-05-26T15:13:51.167Z"
   },
   {
    "duration": 21,
    "start_time": "2025-05-26T15:13:55.504Z"
   },
   {
    "duration": 25,
    "start_time": "2025-05-26T15:14:40.650Z"
   },
   {
    "duration": 10,
    "start_time": "2025-05-26T15:27:15.073Z"
   },
   {
    "duration": 1222,
    "start_time": "2025-05-29T15:18:38.625Z"
   },
   {
    "duration": 99,
    "start_time": "2025-05-29T15:18:39.849Z"
   },
   {
    "duration": 13,
    "start_time": "2025-05-29T15:18:39.950Z"
   },
   {
    "duration": 129,
    "start_time": "2025-05-29T15:18:39.965Z"
   },
   {
    "duration": 23,
    "start_time": "2025-05-29T15:18:40.095Z"
   },
   {
    "duration": 12,
    "start_time": "2025-05-29T15:18:40.119Z"
   },
   {
    "duration": 4,
    "start_time": "2025-05-29T15:18:40.133Z"
   },
   {
    "duration": 9,
    "start_time": "2025-05-29T15:18:40.138Z"
   },
   {
    "duration": 28,
    "start_time": "2025-05-29T15:18:40.149Z"
   },
   {
    "duration": 12,
    "start_time": "2025-05-29T15:18:40.179Z"
   },
   {
    "duration": 17,
    "start_time": "2025-05-29T15:18:40.193Z"
   },
   {
    "duration": 15,
    "start_time": "2025-05-29T15:18:40.212Z"
   },
   {
    "duration": 312,
    "start_time": "2025-05-29T15:18:40.228Z"
   },
   {
    "duration": 9,
    "start_time": "2025-05-29T15:18:40.542Z"
   },
   {
    "duration": 38,
    "start_time": "2025-05-29T15:18:40.553Z"
   },
   {
    "duration": 97,
    "start_time": "2025-05-29T15:18:40.593Z"
   },
   {
    "duration": 32,
    "start_time": "2025-05-29T15:18:40.691Z"
   },
   {
    "duration": 15,
    "start_time": "2025-05-29T15:18:40.725Z"
   },
   {
    "duration": 15,
    "start_time": "2025-05-29T15:18:40.741Z"
   },
   {
    "duration": 33,
    "start_time": "2025-05-29T15:18:40.758Z"
   },
   {
    "duration": 5,
    "start_time": "2025-05-29T15:18:40.793Z"
   },
   {
    "duration": 21,
    "start_time": "2025-05-29T15:18:40.800Z"
   },
   {
    "duration": 3,
    "start_time": "2025-05-29T15:18:40.822Z"
   },
   {
    "duration": 35,
    "start_time": "2025-05-29T15:18:40.827Z"
   },
   {
    "duration": 45,
    "start_time": "2025-05-29T15:18:40.864Z"
   },
   {
    "duration": 15,
    "start_time": "2025-05-29T15:18:40.911Z"
   },
   {
    "duration": 161,
    "start_time": "2025-05-29T15:18:40.928Z"
   },
   {
    "duration": 8,
    "start_time": "2025-05-29T15:18:41.093Z"
   },
   {
    "duration": 6,
    "start_time": "2025-05-29T15:18:41.103Z"
   },
   {
    "duration": 17,
    "start_time": "2025-05-29T15:18:41.110Z"
   },
   {
    "duration": 15,
    "start_time": "2025-05-29T15:18:41.129Z"
   },
   {
    "duration": 36,
    "start_time": "2025-05-29T15:18:41.146Z"
   },
   {
    "duration": 3,
    "start_time": "2025-05-29T15:18:41.184Z"
   },
   {
    "duration": 3,
    "start_time": "2025-05-29T15:18:41.189Z"
   },
   {
    "duration": 15,
    "start_time": "2025-05-29T15:18:41.193Z"
   },
   {
    "duration": 13,
    "start_time": "2025-05-29T15:18:41.210Z"
   },
   {
    "duration": 57,
    "start_time": "2025-05-29T15:18:41.224Z"
   },
   {
    "duration": 5,
    "start_time": "2025-05-29T15:18:41.283Z"
   },
   {
    "duration": 10,
    "start_time": "2025-05-29T15:18:41.289Z"
   },
   {
    "duration": 15,
    "start_time": "2025-05-29T15:18:41.301Z"
   },
   {
    "duration": 12,
    "start_time": "2025-05-29T15:18:41.317Z"
   },
   {
    "duration": 133,
    "start_time": "2025-05-29T15:18:41.330Z"
   },
   {
    "duration": 4,
    "start_time": "2025-05-29T15:18:41.465Z"
   },
   {
    "duration": 11,
    "start_time": "2025-05-29T15:18:41.477Z"
   },
   {
    "duration": 4,
    "start_time": "2025-05-29T15:18:41.490Z"
   },
   {
    "duration": 13,
    "start_time": "2025-05-29T15:18:41.496Z"
   },
   {
    "duration": 19,
    "start_time": "2025-05-29T15:18:41.511Z"
   },
   {
    "duration": 5,
    "start_time": "2025-05-29T15:18:41.531Z"
   },
   {
    "duration": 49,
    "start_time": "2025-05-29T15:18:41.537Z"
   },
   {
    "duration": 62,
    "start_time": "2025-05-29T15:18:41.588Z"
   },
   {
    "duration": 4,
    "start_time": "2025-05-29T15:18:41.652Z"
   },
   {
    "duration": 22,
    "start_time": "2025-05-29T15:18:41.657Z"
   },
   {
    "duration": 5,
    "start_time": "2025-05-29T15:18:41.681Z"
   },
   {
    "duration": 7,
    "start_time": "2025-05-29T15:18:41.687Z"
   },
   {
    "duration": 4,
    "start_time": "2025-05-29T15:18:41.696Z"
   },
   {
    "duration": 14,
    "start_time": "2025-05-29T15:18:41.701Z"
   },
   {
    "duration": 9,
    "start_time": "2025-05-29T15:18:41.716Z"
   },
   {
    "duration": 10,
    "start_time": "2025-05-29T15:18:41.726Z"
   },
   {
    "duration": 40,
    "start_time": "2025-05-29T15:18:41.737Z"
   },
   {
    "duration": 3,
    "start_time": "2025-05-29T15:18:41.779Z"
   },
   {
    "duration": 14,
    "start_time": "2025-05-29T15:18:41.784Z"
   },
   {
    "duration": 11,
    "start_time": "2025-05-29T15:18:41.800Z"
   },
   {
    "duration": 8,
    "start_time": "2025-05-29T15:18:41.813Z"
   },
   {
    "duration": 279,
    "start_time": "2025-05-29T15:18:41.823Z"
   },
   {
    "duration": 13,
    "start_time": "2025-05-29T15:18:42.103Z"
   },
   {
    "duration": 31,
    "start_time": "2025-05-29T15:18:42.118Z"
   },
   {
    "duration": 26,
    "start_time": "2025-05-29T15:18:42.152Z"
   },
   {
    "duration": 12,
    "start_time": "2025-05-29T15:18:42.180Z"
   },
   {
    "duration": 10,
    "start_time": "2025-05-29T15:18:42.193Z"
   },
   {
    "duration": 10,
    "start_time": "2025-05-29T15:18:42.205Z"
   },
   {
    "duration": 222,
    "start_time": "2025-05-29T15:18:42.216Z"
   },
   {
    "duration": 13,
    "start_time": "2025-05-29T15:18:42.439Z"
   },
   {
    "duration": 51,
    "start_time": "2025-05-29T15:18:42.453Z"
   },
   {
    "duration": 12,
    "start_time": "2025-05-29T15:18:42.506Z"
   },
   {
    "duration": 22,
    "start_time": "2025-05-29T15:18:42.519Z"
   },
   {
    "duration": 10,
    "start_time": "2025-05-29T15:18:42.542Z"
   },
   {
    "duration": 15,
    "start_time": "2025-05-29T15:18:42.553Z"
   },
   {
    "duration": 207,
    "start_time": "2025-05-29T15:18:42.577Z"
   },
   {
    "duration": 13,
    "start_time": "2025-05-29T15:18:42.786Z"
   },
   {
    "duration": 25,
    "start_time": "2025-05-29T15:18:42.800Z"
   },
   {
    "duration": 13,
    "start_time": "2025-05-29T15:18:42.827Z"
   },
   {
    "duration": 32,
    "start_time": "2025-05-29T15:18:42.848Z"
   },
   {
    "duration": 15,
    "start_time": "2025-05-29T15:18:42.881Z"
   },
   {
    "duration": 9,
    "start_time": "2025-05-29T15:18:42.898Z"
   },
   {
    "duration": 21,
    "start_time": "2025-05-29T15:18:42.909Z"
   },
   {
    "duration": 12,
    "start_time": "2025-05-29T15:18:42.931Z"
   },
   {
    "duration": 53,
    "start_time": "2025-05-29T15:18:42.944Z"
   },
   {
    "duration": 86,
    "start_time": "2025-05-29T15:18:42.998Z"
   },
   {
    "duration": 5,
    "start_time": "2025-05-29T15:18:43.086Z"
   },
   {
    "duration": 46,
    "start_time": "2025-05-29T15:18:43.092Z"
   },
   {
    "duration": 8,
    "start_time": "2025-05-29T15:18:43.139Z"
   },
   {
    "duration": 7,
    "start_time": "2025-05-29T15:18:43.149Z"
   },
   {
    "duration": 24,
    "start_time": "2025-05-29T15:18:43.157Z"
   },
   {
    "duration": 11,
    "start_time": "2025-05-29T15:18:43.183Z"
   },
   {
    "duration": 6,
    "start_time": "2025-05-29T15:18:43.195Z"
   },
   {
    "duration": 4,
    "start_time": "2025-05-29T15:18:43.202Z"
   },
   {
    "duration": 3,
    "start_time": "2025-05-29T15:18:43.207Z"
   },
   {
    "duration": 15,
    "start_time": "2025-05-29T15:18:43.212Z"
   },
   {
    "duration": 60,
    "start_time": "2025-05-29T15:18:43.228Z"
   },
   {
    "duration": 18,
    "start_time": "2025-05-29T15:18:43.289Z"
   },
   {
    "duration": 11,
    "start_time": "2025-05-29T15:18:43.308Z"
   },
   {
    "duration": 10,
    "start_time": "2025-05-29T15:18:43.321Z"
   },
   {
    "duration": 8,
    "start_time": "2025-05-29T15:18:43.333Z"
   },
   {
    "duration": 884,
    "start_time": "2025-05-29T15:18:43.342Z"
   },
   {
    "duration": 397,
    "start_time": "2025-05-29T15:18:44.228Z"
   },
   {
    "duration": 17,
    "start_time": "2025-05-29T15:18:44.626Z"
   },
   {
    "duration": 66,
    "start_time": "2025-05-29T15:18:44.644Z"
   },
   {
    "duration": 40,
    "start_time": "2025-05-29T15:18:44.712Z"
   },
   {
    "duration": 56,
    "start_time": "2025-05-29T15:18:44.754Z"
   },
   {
    "duration": 12,
    "start_time": "2025-05-29T15:18:44.812Z"
   },
   {
    "duration": 19,
    "start_time": "2025-05-29T15:18:44.825Z"
   },
   {
    "duration": 63,
    "start_time": "2025-05-29T15:18:44.845Z"
   },
   {
    "duration": 17,
    "start_time": "2025-05-29T15:18:44.909Z"
   },
   {
    "duration": 23,
    "start_time": "2025-05-29T15:18:44.928Z"
   },
   {
    "duration": 14,
    "start_time": "2025-05-29T15:18:44.975Z"
   },
   {
    "duration": 399,
    "start_time": "2025-05-29T15:18:44.991Z"
   },
   {
    "duration": 11,
    "start_time": "2025-05-29T15:18:45.392Z"
   },
   {
    "duration": 13,
    "start_time": "2025-05-29T15:18:45.405Z"
   },
   {
    "duration": 17,
    "start_time": "2025-05-29T15:18:45.420Z"
   },
   {
    "duration": 159,
    "start_time": "2025-05-29T15:18:45.438Z"
   },
   {
    "duration": 28,
    "start_time": "2025-05-29T15:18:45.598Z"
   },
   {
    "duration": 10,
    "start_time": "2025-05-29T15:18:45.628Z"
   },
   {
    "duration": 47,
    "start_time": "2025-05-29T15:18:45.640Z"
   },
   {
    "duration": 45,
    "start_time": "2025-05-29T15:18:45.688Z"
   },
   {
    "duration": 40,
    "start_time": "2025-05-29T15:18:45.734Z"
   },
   {
    "duration": 47,
    "start_time": "2025-05-29T15:18:45.776Z"
   },
   {
    "duration": 28,
    "start_time": "2025-05-29T15:18:45.829Z"
   },
   {
    "duration": 211,
    "start_time": "2025-05-29T15:18:45.859Z"
   },
   {
    "duration": 15,
    "start_time": "2025-05-29T15:18:46.072Z"
   },
   {
    "duration": 31,
    "start_time": "2025-05-29T15:18:46.088Z"
   },
   {
    "duration": 9,
    "start_time": "2025-05-29T15:18:46.121Z"
   },
   {
    "duration": 12,
    "start_time": "2025-05-29T15:18:46.131Z"
   },
   {
    "duration": 58,
    "start_time": "2025-05-29T15:18:46.145Z"
   },
   {
    "duration": 19,
    "start_time": "2025-05-29T15:18:46.205Z"
   },
   {
    "duration": 11,
    "start_time": "2025-05-29T15:18:46.225Z"
   },
   {
    "duration": 24,
    "start_time": "2025-05-29T15:18:46.238Z"
   },
   {
    "duration": 20,
    "start_time": "2025-05-29T15:18:46.263Z"
   },
   {
    "duration": 17,
    "start_time": "2025-05-29T15:18:46.284Z"
   },
   {
    "duration": 48,
    "start_time": "2025-05-29T15:18:46.302Z"
   },
   {
    "duration": 29,
    "start_time": "2025-05-29T15:18:46.351Z"
   },
   {
    "duration": 23,
    "start_time": "2025-05-29T15:18:46.382Z"
   },
   {
    "duration": 14,
    "start_time": "2025-05-29T15:18:46.406Z"
   },
   {
    "duration": 10,
    "start_time": "2025-05-29T15:18:46.422Z"
   },
   {
    "duration": 44,
    "start_time": "2025-05-29T15:18:46.433Z"
   },
   {
    "duration": 15,
    "start_time": "2025-05-29T15:18:46.479Z"
   },
   {
    "duration": 80,
    "start_time": "2025-05-29T15:18:46.496Z"
   },
   {
    "duration": 10,
    "start_time": "2025-05-29T15:18:46.578Z"
   },
   {
    "duration": 16,
    "start_time": "2025-05-29T15:18:46.590Z"
   },
   {
    "duration": 109,
    "start_time": "2025-05-29T15:18:46.607Z"
   },
   {
    "duration": 48,
    "start_time": "2025-05-29T15:18:46.718Z"
   },
   {
    "duration": 10,
    "start_time": "2025-05-29T15:18:46.768Z"
   },
   {
    "duration": 34,
    "start_time": "2025-05-29T15:18:46.780Z"
   },
   {
    "duration": 54,
    "start_time": "2025-05-29T15:18:46.816Z"
   },
   {
    "duration": 13,
    "start_time": "2025-05-29T15:18:46.872Z"
   },
   {
    "duration": 9,
    "start_time": "2025-05-29T15:18:46.886Z"
   },
   {
    "duration": 49,
    "start_time": "2025-05-29T15:18:46.896Z"
   },
   {
    "duration": 37,
    "start_time": "2025-05-29T15:18:46.947Z"
   },
   {
    "duration": 132,
    "start_time": "2025-05-29T15:18:46.986Z"
   },
   {
    "duration": 10,
    "start_time": "2025-05-29T15:18:47.120Z"
   },
   {
    "duration": 13,
    "start_time": "2025-05-29T15:18:47.132Z"
   },
   {
    "duration": 61,
    "start_time": "2025-05-29T15:18:47.147Z"
   },
   {
    "duration": 17,
    "start_time": "2025-05-29T15:18:47.210Z"
   },
   {
    "duration": 21,
    "start_time": "2025-05-29T15:18:47.228Z"
   },
   {
    "duration": 36,
    "start_time": "2025-05-29T15:18:47.250Z"
   },
   {
    "duration": 11,
    "start_time": "2025-05-29T15:18:47.288Z"
   },
   {
    "duration": 356,
    "start_time": "2025-05-29T15:18:47.301Z"
   },
   {
    "duration": 12,
    "start_time": "2025-05-29T15:18:47.658Z"
   },
   {
    "duration": 350,
    "start_time": "2025-05-29T15:18:47.677Z"
   },
   {
    "duration": 11,
    "start_time": "2025-05-29T15:18:48.029Z"
   },
   {
    "duration": 399,
    "start_time": "2025-05-29T15:18:48.041Z"
   },
   {
    "duration": 16,
    "start_time": "2025-05-29T15:18:48.442Z"
   },
   {
    "duration": 34,
    "start_time": "2025-05-29T15:18:48.459Z"
   },
   {
    "duration": 16,
    "start_time": "2025-05-29T15:18:48.495Z"
   },
   {
    "duration": 13,
    "start_time": "2025-05-29T15:18:48.513Z"
   },
   {
    "duration": 8,
    "start_time": "2025-05-29T15:18:48.527Z"
   },
   {
    "duration": 13,
    "start_time": "2025-05-29T15:18:48.537Z"
   },
   {
    "duration": 7,
    "start_time": "2025-05-29T15:18:48.576Z"
   },
   {
    "duration": 8,
    "start_time": "2025-05-29T15:18:48.585Z"
   },
   {
    "duration": 95,
    "start_time": "2025-05-29T15:18:48.595Z"
   },
   {
    "duration": 38,
    "start_time": "2025-05-29T15:18:48.692Z"
   },
   {
    "duration": 12,
    "start_time": "2025-05-29T15:18:48.732Z"
   },
   {
    "duration": 13,
    "start_time": "2025-05-29T15:18:48.746Z"
   },
   {
    "duration": 6,
    "start_time": "2025-05-29T15:18:48.760Z"
   },
   {
    "duration": 20,
    "start_time": "2025-05-29T15:18:48.767Z"
   },
   {
    "duration": 16,
    "start_time": "2025-05-29T15:18:48.789Z"
   },
   {
    "duration": 20,
    "start_time": "2025-05-29T15:18:48.807Z"
   },
   {
    "duration": 5,
    "start_time": "2025-05-29T15:38:24.080Z"
   },
   {
    "duration": 6,
    "start_time": "2025-05-29T15:38:59.975Z"
   },
   {
    "duration": 5,
    "start_time": "2025-05-29T15:39:00.548Z"
   },
   {
    "duration": 1407,
    "start_time": "2025-05-30T17:02:52.753Z"
   },
   {
    "duration": 76,
    "start_time": "2025-05-30T17:02:54.162Z"
   },
   {
    "duration": 14,
    "start_time": "2025-05-30T17:02:54.240Z"
   },
   {
    "duration": 21,
    "start_time": "2025-05-30T17:02:54.256Z"
   },
   {
    "duration": 22,
    "start_time": "2025-05-30T17:02:54.279Z"
   },
   {
    "duration": 13,
    "start_time": "2025-05-30T17:02:54.303Z"
   },
   {
    "duration": 5,
    "start_time": "2025-05-30T17:02:54.317Z"
   },
   {
    "duration": 5,
    "start_time": "2025-05-30T17:02:54.324Z"
   },
   {
    "duration": 34,
    "start_time": "2025-05-30T17:02:54.330Z"
   },
   {
    "duration": 14,
    "start_time": "2025-05-30T17:02:54.367Z"
   },
   {
    "duration": 13,
    "start_time": "2025-05-30T17:02:54.382Z"
   },
   {
    "duration": 19,
    "start_time": "2025-05-30T17:02:54.397Z"
   },
   {
    "duration": 349,
    "start_time": "2025-05-30T17:02:54.418Z"
   },
   {
    "duration": 11,
    "start_time": "2025-05-30T17:02:54.768Z"
   },
   {
    "duration": 28,
    "start_time": "2025-05-30T17:02:54.781Z"
   },
   {
    "duration": 23,
    "start_time": "2025-05-30T17:02:54.810Z"
   },
   {
    "duration": 36,
    "start_time": "2025-05-30T17:02:54.835Z"
   },
   {
    "duration": 21,
    "start_time": "2025-05-30T17:02:54.873Z"
   },
   {
    "duration": 16,
    "start_time": "2025-05-30T17:02:54.896Z"
   },
   {
    "duration": 21,
    "start_time": "2025-05-30T17:02:54.914Z"
   },
   {
    "duration": 28,
    "start_time": "2025-05-30T17:02:54.937Z"
   },
   {
    "duration": 53,
    "start_time": "2025-05-30T17:02:54.966Z"
   },
   {
    "duration": 20,
    "start_time": "2025-05-30T17:02:55.021Z"
   },
   {
    "duration": 34,
    "start_time": "2025-05-30T17:02:55.042Z"
   },
   {
    "duration": 38,
    "start_time": "2025-05-30T17:02:55.077Z"
   },
   {
    "duration": 39,
    "start_time": "2025-05-30T17:02:55.117Z"
   },
   {
    "duration": 18,
    "start_time": "2025-05-30T17:02:55.158Z"
   },
   {
    "duration": 179,
    "start_time": "2025-05-30T17:02:55.181Z"
   },
   {
    "duration": 10,
    "start_time": "2025-05-30T17:02:55.362Z"
   },
   {
    "duration": 10,
    "start_time": "2025-05-30T17:02:55.373Z"
   },
   {
    "duration": 130,
    "start_time": "2025-05-30T17:02:55.385Z"
   },
   {
    "duration": 8,
    "start_time": "2025-05-30T17:02:55.517Z"
   },
   {
    "duration": 40,
    "start_time": "2025-05-30T17:02:55.526Z"
   },
   {
    "duration": 27,
    "start_time": "2025-05-30T17:02:55.568Z"
   },
   {
    "duration": 15,
    "start_time": "2025-05-30T17:02:55.596Z"
   },
   {
    "duration": 23,
    "start_time": "2025-05-30T17:02:55.612Z"
   },
   {
    "duration": 18,
    "start_time": "2025-05-30T17:02:55.637Z"
   },
   {
    "duration": 9,
    "start_time": "2025-05-30T17:02:55.659Z"
   },
   {
    "duration": 4,
    "start_time": "2025-05-30T17:02:55.670Z"
   },
   {
    "duration": 5,
    "start_time": "2025-05-30T17:02:55.676Z"
   },
   {
    "duration": 18,
    "start_time": "2025-05-30T17:02:55.683Z"
   },
   {
    "duration": 21,
    "start_time": "2025-05-30T17:02:55.702Z"
   },
   {
    "duration": 32,
    "start_time": "2025-05-30T17:02:55.763Z"
   },
   {
    "duration": 10,
    "start_time": "2025-05-30T17:02:55.797Z"
   },
   {
    "duration": 15,
    "start_time": "2025-05-30T17:02:55.808Z"
   },
   {
    "duration": 17,
    "start_time": "2025-05-30T17:02:55.861Z"
   },
   {
    "duration": 13,
    "start_time": "2025-05-30T17:02:55.880Z"
   },
   {
    "duration": 18,
    "start_time": "2025-05-30T17:02:55.894Z"
   },
   {
    "duration": 155,
    "start_time": "2025-05-30T17:02:55.913Z"
   },
   {
    "duration": 13,
    "start_time": "2025-05-30T17:02:56.069Z"
   },
   {
    "duration": 92,
    "start_time": "2025-05-30T17:02:56.083Z"
   },
   {
    "duration": 15,
    "start_time": "2025-05-30T17:02:56.177Z"
   },
   {
    "duration": 7,
    "start_time": "2025-05-30T17:02:56.193Z"
   },
   {
    "duration": 5,
    "start_time": "2025-05-30T17:02:56.201Z"
   },
   {
    "duration": 4,
    "start_time": "2025-05-30T17:02:56.208Z"
   },
   {
    "duration": 4,
    "start_time": "2025-05-30T17:02:56.214Z"
   },
   {
    "duration": 48,
    "start_time": "2025-05-30T17:02:56.220Z"
   },
   {
    "duration": 9,
    "start_time": "2025-05-30T17:02:56.270Z"
   },
   {
    "duration": 10,
    "start_time": "2025-05-30T17:02:56.281Z"
   },
   {
    "duration": 5,
    "start_time": "2025-05-30T17:02:56.293Z"
   },
   {
    "duration": 4,
    "start_time": "2025-05-30T17:02:56.300Z"
   },
   {
    "duration": 18,
    "start_time": "2025-05-30T17:02:56.306Z"
   },
   {
    "duration": 47,
    "start_time": "2025-05-30T17:02:56.326Z"
   },
   {
    "duration": 9,
    "start_time": "2025-05-30T17:02:56.375Z"
   },
   {
    "duration": 270,
    "start_time": "2025-05-30T17:02:56.386Z"
   },
   {
    "duration": 13,
    "start_time": "2025-05-30T17:02:56.661Z"
   },
   {
    "duration": 25,
    "start_time": "2025-05-30T17:02:56.676Z"
   },
   {
    "duration": 15,
    "start_time": "2025-05-30T17:02:56.702Z"
   },
   {
    "duration": 42,
    "start_time": "2025-05-30T17:02:56.719Z"
   },
   {
    "duration": 11,
    "start_time": "2025-05-30T17:02:56.762Z"
   },
   {
    "duration": 10,
    "start_time": "2025-05-30T17:02:56.775Z"
   },
   {
    "duration": 241,
    "start_time": "2025-05-30T17:02:56.787Z"
   },
   {
    "duration": 14,
    "start_time": "2025-05-30T17:02:57.030Z"
   },
   {
    "duration": 31,
    "start_time": "2025-05-30T17:02:57.061Z"
   },
   {
    "duration": 12,
    "start_time": "2025-05-30T17:02:57.093Z"
   },
   {
    "duration": 13,
    "start_time": "2025-05-30T17:02:57.107Z"
   },
   {
    "duration": 25,
    "start_time": "2025-05-30T17:02:57.121Z"
   },
   {
    "duration": 20,
    "start_time": "2025-05-30T17:02:57.148Z"
   },
   {
    "duration": 232,
    "start_time": "2025-05-30T17:02:57.170Z"
   },
   {
    "duration": 14,
    "start_time": "2025-05-30T17:02:57.404Z"
   },
   {
    "duration": 57,
    "start_time": "2025-05-30T17:02:57.419Z"
   },
   {
    "duration": 13,
    "start_time": "2025-05-30T17:02:57.572Z"
   },
   {
    "duration": 17,
    "start_time": "2025-05-30T17:02:57.587Z"
   },
   {
    "duration": 16,
    "start_time": "2025-05-30T17:02:57.606Z"
   },
   {
    "duration": 39,
    "start_time": "2025-05-30T17:02:57.624Z"
   },
   {
    "duration": 14,
    "start_time": "2025-05-30T17:02:57.665Z"
   },
   {
    "duration": 12,
    "start_time": "2025-05-30T17:02:57.681Z"
   },
   {
    "duration": 26,
    "start_time": "2025-05-30T17:02:57.695Z"
   },
   {
    "duration": 50,
    "start_time": "2025-05-30T17:02:57.722Z"
   },
   {
    "duration": 7,
    "start_time": "2025-05-30T17:02:57.773Z"
   },
   {
    "duration": 48,
    "start_time": "2025-05-30T17:02:57.781Z"
   },
   {
    "duration": 31,
    "start_time": "2025-05-30T17:02:57.830Z"
   },
   {
    "duration": 8,
    "start_time": "2025-05-30T17:02:57.863Z"
   },
   {
    "duration": 13,
    "start_time": "2025-05-30T17:02:57.873Z"
   },
   {
    "duration": 19,
    "start_time": "2025-05-30T17:02:57.888Z"
   },
   {
    "duration": 6,
    "start_time": "2025-05-30T17:02:57.909Z"
   },
   {
    "duration": 5,
    "start_time": "2025-05-30T17:02:57.917Z"
   },
   {
    "duration": 40,
    "start_time": "2025-05-30T17:02:57.924Z"
   },
   {
    "duration": 24,
    "start_time": "2025-05-30T17:02:57.967Z"
   },
   {
    "duration": 212,
    "start_time": "2025-05-30T17:02:57.993Z"
   },
   {
    "duration": 22,
    "start_time": "2025-05-30T17:02:58.207Z"
   },
   {
    "duration": 15,
    "start_time": "2025-05-30T17:02:58.231Z"
   },
   {
    "duration": 19,
    "start_time": "2025-05-30T17:02:58.248Z"
   },
   {
    "duration": 19,
    "start_time": "2025-05-30T17:02:58.269Z"
   },
   {
    "duration": 833,
    "start_time": "2025-05-30T17:02:58.290Z"
   },
   {
    "duration": 418,
    "start_time": "2025-05-30T17:02:59.125Z"
   },
   {
    "duration": 23,
    "start_time": "2025-05-30T17:02:59.545Z"
   },
   {
    "duration": 12,
    "start_time": "2025-05-30T17:02:59.570Z"
   },
   {
    "duration": 8,
    "start_time": "2025-05-30T17:02:59.584Z"
   },
   {
    "duration": 76,
    "start_time": "2025-05-30T17:02:59.594Z"
   },
   {
    "duration": 13,
    "start_time": "2025-05-30T17:02:59.672Z"
   },
   {
    "duration": 9,
    "start_time": "2025-05-30T17:02:59.687Z"
   },
   {
    "duration": 82,
    "start_time": "2025-05-30T17:02:59.697Z"
   },
   {
    "duration": 16,
    "start_time": "2025-05-30T17:02:59.781Z"
   },
   {
    "duration": 24,
    "start_time": "2025-05-30T17:02:59.798Z"
   },
   {
    "duration": 39,
    "start_time": "2025-05-30T17:02:59.824Z"
   },
   {
    "duration": 349,
    "start_time": "2025-05-30T17:02:59.865Z"
   },
   {
    "duration": 13,
    "start_time": "2025-05-30T17:03:00.216Z"
   },
   {
    "duration": 14,
    "start_time": "2025-05-30T17:03:00.230Z"
   },
   {
    "duration": 25,
    "start_time": "2025-05-30T17:03:00.261Z"
   },
   {
    "duration": 176,
    "start_time": "2025-05-30T17:03:00.289Z"
   },
   {
    "duration": 25,
    "start_time": "2025-05-30T17:03:00.468Z"
   },
   {
    "duration": 19,
    "start_time": "2025-05-30T17:03:00.494Z"
   },
   {
    "duration": 12,
    "start_time": "2025-05-30T17:03:00.515Z"
   },
   {
    "duration": 47,
    "start_time": "2025-05-30T17:03:00.529Z"
   },
   {
    "duration": 11,
    "start_time": "2025-05-30T17:03:00.577Z"
   },
   {
    "duration": 34,
    "start_time": "2025-05-30T17:03:00.589Z"
   },
   {
    "duration": 45,
    "start_time": "2025-05-30T17:03:00.625Z"
   },
   {
    "duration": 20,
    "start_time": "2025-05-30T17:03:00.672Z"
   },
   {
    "duration": 13,
    "start_time": "2025-05-30T17:03:00.694Z"
   },
   {
    "duration": 12,
    "start_time": "2025-05-30T17:03:00.709Z"
   },
   {
    "duration": 45,
    "start_time": "2025-05-30T17:03:00.722Z"
   },
   {
    "duration": 15,
    "start_time": "2025-05-30T17:03:00.769Z"
   },
   {
    "duration": 55,
    "start_time": "2025-05-30T17:03:00.785Z"
   },
   {
    "duration": 29,
    "start_time": "2025-05-30T17:03:00.842Z"
   },
   {
    "duration": 14,
    "start_time": "2025-05-30T17:03:00.873Z"
   },
   {
    "duration": 12,
    "start_time": "2025-05-30T17:03:00.888Z"
   },
   {
    "duration": 16,
    "start_time": "2025-05-30T17:03:00.902Z"
   },
   {
    "duration": 43,
    "start_time": "2025-05-30T17:03:00.920Z"
   },
   {
    "duration": 167,
    "start_time": "2025-05-30T17:03:00.965Z"
   },
   {
    "duration": 19,
    "start_time": "2025-05-30T17:03:01.134Z"
   },
   {
    "duration": 32,
    "start_time": "2025-05-30T17:03:01.155Z"
   },
   {
    "duration": 15,
    "start_time": "2025-05-30T17:03:01.189Z"
   },
   {
    "duration": 12,
    "start_time": "2025-05-30T17:03:01.206Z"
   },
   {
    "duration": 19,
    "start_time": "2025-05-30T17:03:01.219Z"
   },
   {
    "duration": 34,
    "start_time": "2025-05-30T17:03:01.240Z"
   },
   {
    "duration": 59,
    "start_time": "2025-05-30T17:03:01.276Z"
   },
   {
    "duration": 32,
    "start_time": "2025-05-30T17:03:01.337Z"
   },
   {
    "duration": 108,
    "start_time": "2025-05-30T17:03:01.371Z"
   },
   {
    "duration": 9,
    "start_time": "2025-05-30T17:03:01.481Z"
   },
   {
    "duration": 139,
    "start_time": "2025-05-30T17:03:01.492Z"
   },
   {
    "duration": 12,
    "start_time": "2025-05-30T17:03:01.633Z"
   },
   {
    "duration": 45,
    "start_time": "2025-05-30T17:03:01.646Z"
   },
   {
    "duration": 56,
    "start_time": "2025-05-30T17:03:01.693Z"
   },
   {
    "duration": 13,
    "start_time": "2025-05-30T17:03:01.751Z"
   },
   {
    "duration": 15,
    "start_time": "2025-05-30T17:03:01.766Z"
   },
   {
    "duration": 52,
    "start_time": "2025-05-30T17:03:01.783Z"
   },
   {
    "duration": 37,
    "start_time": "2025-05-30T17:03:01.837Z"
   },
   {
    "duration": 60,
    "start_time": "2025-05-30T17:03:01.876Z"
   },
   {
    "duration": 32,
    "start_time": "2025-05-30T17:03:01.938Z"
   },
   {
    "duration": 9,
    "start_time": "2025-05-30T17:03:01.972Z"
   },
   {
    "duration": 50,
    "start_time": "2025-05-30T17:03:01.983Z"
   },
   {
    "duration": 153,
    "start_time": "2025-05-30T17:03:02.035Z"
   },
   {
    "duration": 17,
    "start_time": "2025-05-30T17:03:02.190Z"
   },
   {
    "duration": 52,
    "start_time": "2025-05-30T17:03:02.209Z"
   },
   {
    "duration": 12,
    "start_time": "2025-05-30T17:03:02.263Z"
   },
   {
    "duration": 386,
    "start_time": "2025-05-30T17:03:02.276Z"
   },
   {
    "duration": 12,
    "start_time": "2025-05-30T17:03:02.664Z"
   },
   {
    "duration": 391,
    "start_time": "2025-05-30T17:03:02.678Z"
   },
   {
    "duration": 12,
    "start_time": "2025-05-30T17:03:03.071Z"
   },
   {
    "duration": 412,
    "start_time": "2025-05-30T17:03:03.085Z"
   },
   {
    "duration": 26,
    "start_time": "2025-05-30T17:03:03.499Z"
   },
   {
    "duration": 55,
    "start_time": "2025-05-30T17:03:03.527Z"
   },
   {
    "duration": 15,
    "start_time": "2025-05-30T17:03:03.584Z"
   },
   {
    "duration": 12,
    "start_time": "2025-05-30T17:03:03.601Z"
   },
   {
    "duration": 12,
    "start_time": "2025-05-30T17:03:03.615Z"
   },
   {
    "duration": 17,
    "start_time": "2025-05-30T17:03:03.628Z"
   },
   {
    "duration": 18,
    "start_time": "2025-05-30T17:03:03.646Z"
   },
   {
    "duration": 25,
    "start_time": "2025-05-30T17:03:03.666Z"
   },
   {
    "duration": 4,
    "start_time": "2025-05-30T17:03:03.693Z"
   },
   {
    "duration": 34,
    "start_time": "2025-05-30T17:03:03.699Z"
   },
   {
    "duration": 18,
    "start_time": "2025-05-30T17:03:03.735Z"
   },
   {
    "duration": 13,
    "start_time": "2025-05-30T17:03:03.755Z"
   },
   {
    "duration": 12,
    "start_time": "2025-05-30T17:03:03.770Z"
   },
   {
    "duration": 8,
    "start_time": "2025-05-30T17:03:03.784Z"
   },
   {
    "duration": 8,
    "start_time": "2025-05-30T17:03:03.793Z"
   },
   {
    "duration": 27,
    "start_time": "2025-05-30T17:03:03.802Z"
   }
  ],
  "kernelspec": {
   "display_name": "Python 3 (ipykernel)",
   "language": "python",
   "name": "python3"
  },
  "language_info": {
   "codemirror_mode": {
    "name": "ipython",
    "version": 3
   },
   "file_extension": ".py",
   "mimetype": "text/x-python",
   "name": "python",
   "nbconvert_exporter": "python",
   "pygments_lexer": "ipython3",
   "version": "3.9.19"
  },
  "toc": {
   "base_numbering": 1,
   "nav_menu": {},
   "number_sections": true,
   "sideBar": true,
   "skip_h1_title": true,
   "title_cell": "Table of Contents",
   "title_sidebar": "Contents",
   "toc_cell": true,
   "toc_position": {},
   "toc_section_display": true,
   "toc_window_display": false
  }
 },
 "nbformat": 4,
 "nbformat_minor": 5
}
